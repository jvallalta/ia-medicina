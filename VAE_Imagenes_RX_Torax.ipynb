{
  "nbformat": 4,
  "nbformat_minor": 0,
  "metadata": {
    "colab": {
      "name": "VAE-Imagenes-RX-Torax",
      "provenance": [],
      "collapsed_sections": [],
      "authorship_tag": "ABX9TyMt+uoTeIq3BmFRjhFkgZLz",
      "include_colab_link": true
    },
    "kernelspec": {
      "name": "python3",
      "display_name": "Python 3"
    },
    "accelerator": "GPU"
  },
  "cells": [
    {
      "cell_type": "markdown",
      "metadata": {
        "id": "view-in-github",
        "colab_type": "text"
      },
      "source": [
        "<a href=\"https://colab.research.google.com/github/jvallalta/ia-medicina/blob/main/VAE_Imagenes_RX_Torax.ipynb\" target=\"_parent\"><img src=\"https://colab.research.google.com/assets/colab-badge.svg\" alt=\"Open In Colab\"/></a>"
      ]
    },
    {
      "cell_type": "markdown",
      "metadata": {
        "id": "SWgCi67bDiHs"
      },
      "source": [
        "# Autoencoders variacionales con imágenes de RX Tórax"
      ]
    },
    {
      "cell_type": "code",
      "metadata": {
        "id": "amYHbF3zDg6K"
      },
      "source": [
        "import pandas as pd\r\n",
        "import numpy as np\r\n",
        "import matplotlib.pyplot as plt\r\n",
        "%matplotlib inline\r\n",
        "import os\r\n",
        "import seaborn as sns\r\n",
        "from google.colab import drive"
      ],
      "execution_count": null,
      "outputs": []
    },
    {
      "cell_type": "code",
      "metadata": {
        "colab": {
          "base_uri": "https://localhost:8080/"
        },
        "id": "jb4P5yFGDt51",
        "outputId": "7409dff4-9608-423c-b084-542bc460f7dc"
      },
      "source": [
        "# Leemos el conjunto RSNA del drive\r\n",
        "drive.mount('/content/drive')"
      ],
      "execution_count": null,
      "outputs": [
        {
          "output_type": "stream",
          "text": [
            "Mounted at /content/drive\n"
          ],
          "name": "stdout"
        }
      ]
    },
    {
      "cell_type": "code",
      "metadata": {
        "id": "nE2TvsV-D00B"
      },
      "source": [
        "# Rutas\r\n",
        "train = '/content/drive/MyDrive/rsna/stage_2_train_images'\r\n",
        "test = '/content/drive/MyDrive/rsna/stage_2_test_images'\r\n",
        "ruta = '/content/drive/MyDrive/rsna'"
      ],
      "execution_count": null,
      "outputs": []
    },
    {
      "cell_type": "code",
      "metadata": {
        "colab": {
          "base_uri": "https://localhost:8080/",
          "height": 204
        },
        "id": "egstyUYPEy3z",
        "outputId": "91a46e81-19b4-4ae1-bab0-403b90b713b4"
      },
      "source": [
        "# Cargamos el fichero con metadatos\r\n",
        "imagenes = pd.read_csv(ruta+'/stage_2_detailed_class_info.csv')\r\n",
        "imagenes.head()"
      ],
      "execution_count": null,
      "outputs": [
        {
          "output_type": "execute_result",
          "data": {
            "text/html": [
              "<div>\n",
              "<style scoped>\n",
              "    .dataframe tbody tr th:only-of-type {\n",
              "        vertical-align: middle;\n",
              "    }\n",
              "\n",
              "    .dataframe tbody tr th {\n",
              "        vertical-align: top;\n",
              "    }\n",
              "\n",
              "    .dataframe thead th {\n",
              "        text-align: right;\n",
              "    }\n",
              "</style>\n",
              "<table border=\"1\" class=\"dataframe\">\n",
              "  <thead>\n",
              "    <tr style=\"text-align: right;\">\n",
              "      <th></th>\n",
              "      <th>patientId</th>\n",
              "      <th>class</th>\n",
              "    </tr>\n",
              "  </thead>\n",
              "  <tbody>\n",
              "    <tr>\n",
              "      <th>0</th>\n",
              "      <td>0004cfab-14fd-4e49-80ba-63a80b6bddd6</td>\n",
              "      <td>No Lung Opacity / Not Normal</td>\n",
              "    </tr>\n",
              "    <tr>\n",
              "      <th>1</th>\n",
              "      <td>00313ee0-9eaa-42f4-b0ab-c148ed3241cd</td>\n",
              "      <td>No Lung Opacity / Not Normal</td>\n",
              "    </tr>\n",
              "    <tr>\n",
              "      <th>2</th>\n",
              "      <td>00322d4d-1c29-4943-afc9-b6754be640eb</td>\n",
              "      <td>No Lung Opacity / Not Normal</td>\n",
              "    </tr>\n",
              "    <tr>\n",
              "      <th>3</th>\n",
              "      <td>003d8fa0-6bf1-40ed-b54c-ac657f8495c5</td>\n",
              "      <td>Normal</td>\n",
              "    </tr>\n",
              "    <tr>\n",
              "      <th>4</th>\n",
              "      <td>00436515-870c-4b36-a041-de91049b9ab4</td>\n",
              "      <td>Lung Opacity</td>\n",
              "    </tr>\n",
              "  </tbody>\n",
              "</table>\n",
              "</div>"
            ],
            "text/plain": [
              "                              patientId                         class\n",
              "0  0004cfab-14fd-4e49-80ba-63a80b6bddd6  No Lung Opacity / Not Normal\n",
              "1  00313ee0-9eaa-42f4-b0ab-c148ed3241cd  No Lung Opacity / Not Normal\n",
              "2  00322d4d-1c29-4943-afc9-b6754be640eb  No Lung Opacity / Not Normal\n",
              "3  003d8fa0-6bf1-40ed-b54c-ac657f8495c5                        Normal\n",
              "4  00436515-870c-4b36-a041-de91049b9ab4                  Lung Opacity"
            ]
          },
          "metadata": {
            "tags": []
          },
          "execution_count": 4
        }
      ]
    },
    {
      "cell_type": "code",
      "metadata": {
        "id": "YLvkERfZFmTM"
      },
      "source": [
        "# Separamos imágenes pacientes sanos de imágenes de pacientes con anomalias\r\n",
        "normales = imagenes[imagenes['class']=='Normal']\r\n",
        "anormales = imagenes[imagenes['class']!='Normal']"
      ],
      "execution_count": null,
      "outputs": []
    },
    {
      "cell_type": "code",
      "metadata": {
        "colab": {
          "base_uri": "https://localhost:8080/"
        },
        "id": "XntTYtiFG95D",
        "outputId": "77aae2ab-3869-4a05-a41b-8441c4ed232f"
      },
      "source": [
        "#Tamaños\r\n",
        "print(normales.shape)\r\n",
        "print(anormales.shape)"
      ],
      "execution_count": null,
      "outputs": [
        {
          "output_type": "stream",
          "text": [
            "(8851, 2)\n",
            "(21376, 2)\n"
          ],
          "name": "stdout"
        }
      ]
    },
    {
      "cell_type": "code",
      "metadata": {
        "colab": {
          "base_uri": "https://localhost:8080/"
        },
        "id": "_jTzuUDoHcrF",
        "outputId": "b3afc225-8bdc-4055-8f53-75c9e6c97ca9"
      },
      "source": [
        "#Definimos función lectura dicom\r\n",
        "!pip install pydicom\r\n",
        "import pydicom"
      ],
      "execution_count": null,
      "outputs": [
        {
          "output_type": "stream",
          "text": [
            "Collecting pydicom\n",
            "\u001b[?25l  Downloading https://files.pythonhosted.org/packages/f4/15/df16546bc59bfca390cf072d473fb2c8acd4231636f64356593a63137e55/pydicom-2.1.2-py3-none-any.whl (1.9MB)\n",
            "\r\u001b[K     |▏                               | 10kB 21.4MB/s eta 0:00:01\r\u001b[K     |▍                               | 20kB 28.7MB/s eta 0:00:01\r\u001b[K     |▌                               | 30kB 22.6MB/s eta 0:00:01\r\u001b[K     |▊                               | 40kB 26.1MB/s eta 0:00:01\r\u001b[K     |▉                               | 51kB 25.0MB/s eta 0:00:01\r\u001b[K     |█                               | 61kB 27.6MB/s eta 0:00:01\r\u001b[K     |█▏                              | 71kB 18.0MB/s eta 0:00:01\r\u001b[K     |█▍                              | 81kB 19.0MB/s eta 0:00:01\r\u001b[K     |█▋                              | 92kB 17.9MB/s eta 0:00:01\r\u001b[K     |█▊                              | 102kB 17.9MB/s eta 0:00:01\r\u001b[K     |██                              | 112kB 17.9MB/s eta 0:00:01\r\u001b[K     |██                              | 122kB 17.9MB/s eta 0:00:01\r\u001b[K     |██▎                             | 133kB 17.9MB/s eta 0:00:01\r\u001b[K     |██▍                             | 143kB 17.9MB/s eta 0:00:01\r\u001b[K     |██▋                             | 153kB 17.9MB/s eta 0:00:01\r\u001b[K     |██▉                             | 163kB 17.9MB/s eta 0:00:01\r\u001b[K     |███                             | 174kB 17.9MB/s eta 0:00:01\r\u001b[K     |███▏                            | 184kB 17.9MB/s eta 0:00:01\r\u001b[K     |███▎                            | 194kB 17.9MB/s eta 0:00:01\r\u001b[K     |███▌                            | 204kB 17.9MB/s eta 0:00:01\r\u001b[K     |███▋                            | 215kB 17.9MB/s eta 0:00:01\r\u001b[K     |███▉                            | 225kB 17.9MB/s eta 0:00:01\r\u001b[K     |████                            | 235kB 17.9MB/s eta 0:00:01\r\u001b[K     |████▏                           | 245kB 17.9MB/s eta 0:00:01\r\u001b[K     |████▍                           | 256kB 17.9MB/s eta 0:00:01\r\u001b[K     |████▌                           | 266kB 17.9MB/s eta 0:00:01\r\u001b[K     |████▊                           | 276kB 17.9MB/s eta 0:00:01\r\u001b[K     |████▉                           | 286kB 17.9MB/s eta 0:00:01\r\u001b[K     |█████                           | 296kB 17.9MB/s eta 0:00:01\r\u001b[K     |█████▎                          | 307kB 17.9MB/s eta 0:00:01\r\u001b[K     |█████▍                          | 317kB 17.9MB/s eta 0:00:01\r\u001b[K     |█████▋                          | 327kB 17.9MB/s eta 0:00:01\r\u001b[K     |█████▊                          | 337kB 17.9MB/s eta 0:00:01\r\u001b[K     |██████                          | 348kB 17.9MB/s eta 0:00:01\r\u001b[K     |██████                          | 358kB 17.9MB/s eta 0:00:01\r\u001b[K     |██████▎                         | 368kB 17.9MB/s eta 0:00:01\r\u001b[K     |██████▌                         | 378kB 17.9MB/s eta 0:00:01\r\u001b[K     |██████▋                         | 389kB 17.9MB/s eta 0:00:01\r\u001b[K     |██████▉                         | 399kB 17.9MB/s eta 0:00:01\r\u001b[K     |███████                         | 409kB 17.9MB/s eta 0:00:01\r\u001b[K     |███████▏                        | 419kB 17.9MB/s eta 0:00:01\r\u001b[K     |███████▎                        | 430kB 17.9MB/s eta 0:00:01\r\u001b[K     |███████▌                        | 440kB 17.9MB/s eta 0:00:01\r\u001b[K     |███████▊                        | 450kB 17.9MB/s eta 0:00:01\r\u001b[K     |███████▉                        | 460kB 17.9MB/s eta 0:00:01\r\u001b[K     |████████                        | 471kB 17.9MB/s eta 0:00:01\r\u001b[K     |████████▏                       | 481kB 17.9MB/s eta 0:00:01\r\u001b[K     |████████▍                       | 491kB 17.9MB/s eta 0:00:01\r\u001b[K     |████████▌                       | 501kB 17.9MB/s eta 0:00:01\r\u001b[K     |████████▊                       | 512kB 17.9MB/s eta 0:00:01\r\u001b[K     |█████████                       | 522kB 17.9MB/s eta 0:00:01\r\u001b[K     |█████████                       | 532kB 17.9MB/s eta 0:00:01\r\u001b[K     |█████████▎                      | 542kB 17.9MB/s eta 0:00:01\r\u001b[K     |█████████▍                      | 552kB 17.9MB/s eta 0:00:01\r\u001b[K     |█████████▋                      | 563kB 17.9MB/s eta 0:00:01\r\u001b[K     |█████████▊                      | 573kB 17.9MB/s eta 0:00:01\r\u001b[K     |██████████                      | 583kB 17.9MB/s eta 0:00:01\r\u001b[K     |██████████▏                     | 593kB 17.9MB/s eta 0:00:01\r\u001b[K     |██████████▎                     | 604kB 17.9MB/s eta 0:00:01\r\u001b[K     |██████████▌                     | 614kB 17.9MB/s eta 0:00:01\r\u001b[K     |██████████▋                     | 624kB 17.9MB/s eta 0:00:01\r\u001b[K     |██████████▉                     | 634kB 17.9MB/s eta 0:00:01\r\u001b[K     |███████████                     | 645kB 17.9MB/s eta 0:00:01\r\u001b[K     |███████████▏                    | 655kB 17.9MB/s eta 0:00:01\r\u001b[K     |███████████▍                    | 665kB 17.9MB/s eta 0:00:01\r\u001b[K     |███████████▌                    | 675kB 17.9MB/s eta 0:00:01\r\u001b[K     |███████████▊                    | 686kB 17.9MB/s eta 0:00:01\r\u001b[K     |███████████▉                    | 696kB 17.9MB/s eta 0:00:01\r\u001b[K     |████████████                    | 706kB 17.9MB/s eta 0:00:01\r\u001b[K     |████████████▏                   | 716kB 17.9MB/s eta 0:00:01\r\u001b[K     |████████████▍                   | 727kB 17.9MB/s eta 0:00:01\r\u001b[K     |████████████▋                   | 737kB 17.9MB/s eta 0:00:01\r\u001b[K     |████████████▊                   | 747kB 17.9MB/s eta 0:00:01\r\u001b[K     |█████████████                   | 757kB 17.9MB/s eta 0:00:01\r\u001b[K     |█████████████                   | 768kB 17.9MB/s eta 0:00:01\r\u001b[K     |█████████████▎                  | 778kB 17.9MB/s eta 0:00:01\r\u001b[K     |█████████████▍                  | 788kB 17.9MB/s eta 0:00:01\r\u001b[K     |█████████████▋                  | 798kB 17.9MB/s eta 0:00:01\r\u001b[K     |█████████████▉                  | 808kB 17.9MB/s eta 0:00:01\r\u001b[K     |██████████████                  | 819kB 17.9MB/s eta 0:00:01\r\u001b[K     |██████████████▏                 | 829kB 17.9MB/s eta 0:00:01\r\u001b[K     |██████████████▎                 | 839kB 17.9MB/s eta 0:00:01\r\u001b[K     |██████████████▌                 | 849kB 17.9MB/s eta 0:00:01\r\u001b[K     |██████████████▋                 | 860kB 17.9MB/s eta 0:00:01\r\u001b[K     |██████████████▉                 | 870kB 17.9MB/s eta 0:00:01\r\u001b[K     |███████████████                 | 880kB 17.9MB/s eta 0:00:01\r\u001b[K     |███████████████▏                | 890kB 17.9MB/s eta 0:00:01\r\u001b[K     |███████████████▍                | 901kB 17.9MB/s eta 0:00:01\r\u001b[K     |███████████████▌                | 911kB 17.9MB/s eta 0:00:01\r\u001b[K     |███████████████▊                | 921kB 17.9MB/s eta 0:00:01\r\u001b[K     |███████████████▉                | 931kB 17.9MB/s eta 0:00:01\r\u001b[K     |████████████████                | 942kB 17.9MB/s eta 0:00:01\r\u001b[K     |████████████████▎               | 952kB 17.9MB/s eta 0:00:01\r\u001b[K     |████████████████▍               | 962kB 17.9MB/s eta 0:00:01\r\u001b[K     |████████████████▋               | 972kB 17.9MB/s eta 0:00:01\r\u001b[K     |████████████████▊               | 983kB 17.9MB/s eta 0:00:01\r\u001b[K     |█████████████████               | 993kB 17.9MB/s eta 0:00:01\r\u001b[K     |█████████████████               | 1.0MB 17.9MB/s eta 0:00:01\r\u001b[K     |█████████████████▎              | 1.0MB 17.9MB/s eta 0:00:01\r\u001b[K     |█████████████████▌              | 1.0MB 17.9MB/s eta 0:00:01\r\u001b[K     |█████████████████▋              | 1.0MB 17.9MB/s eta 0:00:01\r\u001b[K     |█████████████████▉              | 1.0MB 17.9MB/s eta 0:00:01\r\u001b[K     |██████████████████              | 1.1MB 17.9MB/s eta 0:00:01\r\u001b[K     |██████████████████▏             | 1.1MB 17.9MB/s eta 0:00:01\r\u001b[K     |██████████████████▎             | 1.1MB 17.9MB/s eta 0:00:01\r\u001b[K     |██████████████████▌             | 1.1MB 17.9MB/s eta 0:00:01\r\u001b[K     |██████████████████▊             | 1.1MB 17.9MB/s eta 0:00:01\r\u001b[K     |██████████████████▉             | 1.1MB 17.9MB/s eta 0:00:01\r\u001b[K     |███████████████████             | 1.1MB 17.9MB/s eta 0:00:01\r\u001b[K     |███████████████████▏            | 1.1MB 17.9MB/s eta 0:00:01\r\u001b[K     |███████████████████▍            | 1.1MB 17.9MB/s eta 0:00:01\r\u001b[K     |███████████████████▌            | 1.1MB 17.9MB/s eta 0:00:01\r\u001b[K     |███████████████████▊            | 1.2MB 17.9MB/s eta 0:00:01\r\u001b[K     |████████████████████            | 1.2MB 17.9MB/s eta 0:00:01\r\u001b[K     |████████████████████            | 1.2MB 17.9MB/s eta 0:00:01\r\u001b[K     |████████████████████▎           | 1.2MB 17.9MB/s eta 0:00:01\r\u001b[K     |████████████████████▍           | 1.2MB 17.9MB/s eta 0:00:01\r\u001b[K     |████████████████████▋           | 1.2MB 17.9MB/s eta 0:00:01\r\u001b[K     |████████████████████▊           | 1.2MB 17.9MB/s eta 0:00:01\r\u001b[K     |█████████████████████           | 1.2MB 17.9MB/s eta 0:00:01\r\u001b[K     |█████████████████████▏          | 1.2MB 17.9MB/s eta 0:00:01\r\u001b[K     |█████████████████████▎          | 1.2MB 17.9MB/s eta 0:00:01\r\u001b[K     |█████████████████████▌          | 1.3MB 17.9MB/s eta 0:00:01\r\u001b[K     |█████████████████████▋          | 1.3MB 17.9MB/s eta 0:00:01\r\u001b[K     |█████████████████████▉          | 1.3MB 17.9MB/s eta 0:00:01\r\u001b[K     |██████████████████████          | 1.3MB 17.9MB/s eta 0:00:01\r\u001b[K     |██████████████████████▏         | 1.3MB 17.9MB/s eta 0:00:01\r\u001b[K     |██████████████████████▍         | 1.3MB 17.9MB/s eta 0:00:01\r\u001b[K     |██████████████████████▌         | 1.3MB 17.9MB/s eta 0:00:01\r\u001b[K     |██████████████████████▊         | 1.3MB 17.9MB/s eta 0:00:01\r\u001b[K     |██████████████████████▉         | 1.3MB 17.9MB/s eta 0:00:01\r\u001b[K     |███████████████████████         | 1.4MB 17.9MB/s eta 0:00:01\r\u001b[K     |███████████████████████▏        | 1.4MB 17.9MB/s eta 0:00:01\r\u001b[K     |███████████████████████▍        | 1.4MB 17.9MB/s eta 0:00:01\r\u001b[K     |███████████████████████▋        | 1.4MB 17.9MB/s eta 0:00:01\r\u001b[K     |███████████████████████▊        | 1.4MB 17.9MB/s eta 0:00:01\r\u001b[K     |████████████████████████        | 1.4MB 17.9MB/s eta 0:00:01\r\u001b[K     |████████████████████████        | 1.4MB 17.9MB/s eta 0:00:01\r\u001b[K     |████████████████████████▎       | 1.4MB 17.9MB/s eta 0:00:01\r\u001b[K     |████████████████████████▍       | 1.4MB 17.9MB/s eta 0:00:01\r\u001b[K     |████████████████████████▋       | 1.4MB 17.9MB/s eta 0:00:01\r\u001b[K     |████████████████████████▉       | 1.5MB 17.9MB/s eta 0:00:01\r\u001b[K     |█████████████████████████       | 1.5MB 17.9MB/s eta 0:00:01\r\u001b[K     |█████████████████████████▏      | 1.5MB 17.9MB/s eta 0:00:01\r\u001b[K     |█████████████████████████▎      | 1.5MB 17.9MB/s eta 0:00:01\r\u001b[K     |█████████████████████████▌      | 1.5MB 17.9MB/s eta 0:00:01\r\u001b[K     |█████████████████████████▋      | 1.5MB 17.9MB/s eta 0:00:01\r\u001b[K     |█████████████████████████▉      | 1.5MB 17.9MB/s eta 0:00:01\r\u001b[K     |██████████████████████████      | 1.5MB 17.9MB/s eta 0:00:01\r\u001b[K     |██████████████████████████▏     | 1.5MB 17.9MB/s eta 0:00:01\r\u001b[K     |██████████████████████████▍     | 1.5MB 17.9MB/s eta 0:00:01\r\u001b[K     |██████████████████████████▌     | 1.6MB 17.9MB/s eta 0:00:01\r\u001b[K     |██████████████████████████▊     | 1.6MB 17.9MB/s eta 0:00:01\r\u001b[K     |██████████████████████████▉     | 1.6MB 17.9MB/s eta 0:00:01\r\u001b[K     |███████████████████████████     | 1.6MB 17.9MB/s eta 0:00:01\r\u001b[K     |███████████████████████████▎    | 1.6MB 17.9MB/s eta 0:00:01\r\u001b[K     |███████████████████████████▍    | 1.6MB 17.9MB/s eta 0:00:01\r\u001b[K     |███████████████████████████▋    | 1.6MB 17.9MB/s eta 0:00:01\r\u001b[K     |███████████████████████████▊    | 1.6MB 17.9MB/s eta 0:00:01\r\u001b[K     |████████████████████████████    | 1.6MB 17.9MB/s eta 0:00:01\r\u001b[K     |████████████████████████████    | 1.6MB 17.9MB/s eta 0:00:01\r\u001b[K     |████████████████████████████▎   | 1.7MB 17.9MB/s eta 0:00:01\r\u001b[K     |████████████████████████████▌   | 1.7MB 17.9MB/s eta 0:00:01\r\u001b[K     |████████████████████████████▋   | 1.7MB 17.9MB/s eta 0:00:01\r\u001b[K     |████████████████████████████▉   | 1.7MB 17.9MB/s eta 0:00:01\r\u001b[K     |█████████████████████████████   | 1.7MB 17.9MB/s eta 0:00:01\r\u001b[K     |█████████████████████████████▏  | 1.7MB 17.9MB/s eta 0:00:01\r\u001b[K     |█████████████████████████████▎  | 1.7MB 17.9MB/s eta 0:00:01\r\u001b[K     |█████████████████████████████▌  | 1.7MB 17.9MB/s eta 0:00:01\r\u001b[K     |█████████████████████████████▊  | 1.7MB 17.9MB/s eta 0:00:01\r\u001b[K     |█████████████████████████████▉  | 1.8MB 17.9MB/s eta 0:00:01\r\u001b[K     |██████████████████████████████  | 1.8MB 17.9MB/s eta 0:00:01\r\u001b[K     |██████████████████████████████▏ | 1.8MB 17.9MB/s eta 0:00:01\r\u001b[K     |██████████████████████████████▍ | 1.8MB 17.9MB/s eta 0:00:01\r\u001b[K     |██████████████████████████████▌ | 1.8MB 17.9MB/s eta 0:00:01\r\u001b[K     |██████████████████████████████▊ | 1.8MB 17.9MB/s eta 0:00:01\r\u001b[K     |███████████████████████████████ | 1.8MB 17.9MB/s eta 0:00:01\r\u001b[K     |███████████████████████████████ | 1.8MB 17.9MB/s eta 0:00:01\r\u001b[K     |███████████████████████████████▎| 1.8MB 17.9MB/s eta 0:00:01\r\u001b[K     |███████████████████████████████▍| 1.8MB 17.9MB/s eta 0:00:01\r\u001b[K     |███████████████████████████████▋| 1.9MB 17.9MB/s eta 0:00:01\r\u001b[K     |███████████████████████████████▊| 1.9MB 17.9MB/s eta 0:00:01\r\u001b[K     |████████████████████████████████| 1.9MB 17.9MB/s eta 0:00:01\r\u001b[K     |████████████████████████████████| 1.9MB 17.9MB/s \n",
            "\u001b[?25hInstalling collected packages: pydicom\n",
            "Successfully installed pydicom-2.1.2\n"
          ],
          "name": "stdout"
        }
      ]
    },
    {
      "cell_type": "code",
      "metadata": {
        "id": "e0uGj85LIoYS"
      },
      "source": [
        "#Función lectura imagen\r\n",
        "def leer_dicom(imagen):\r\n",
        "  ds = pydicom.dcmread(imagen)\r\n",
        "    \r\n",
        "  img = ds.pixel_array\r\n",
        "  view = ds.ViewPosition\r\n",
        "  sexo = ds.PatientSex\r\n",
        "  edad = ds.PatientAge\r\n",
        "  return img, view, sexo, edad"
      ],
      "execution_count": null,
      "outputs": []
    },
    {
      "cell_type": "code",
      "metadata": {
        "colab": {
          "base_uri": "https://localhost:8080/",
          "height": 320
        },
        "id": "QvT8Bc6oH-iY",
        "outputId": "012fc9eb-317e-4250-9c20-c63cde5d28c3"
      },
      "source": [
        "# Probamos lectura de la imagen\r\n",
        "prueba ='/content/drive/MyDrive/rsna/stage_2_train_images/02099738-7465-4786-b71c-de8cdac477c3.dcm'\r\n",
        "imagen, vista, sexo, edad = leer_dicom(prueba)\r\n",
        "plt.imshow(imagen, cmap='gray')\r\n",
        "print(vista)\r\n",
        "print(sexo)\r\n",
        "print(edad)"
      ],
      "execution_count": null,
      "outputs": [
        {
          "output_type": "stream",
          "text": [
            "AP\n",
            "F\n",
            "34\n"
          ],
          "name": "stdout"
        },
        {
          "output_type": "display_data",
          "data": {
            "image/png": "[encoded data removed]",
            "text/plain": [
              "<Figure size 432x288 with 1 Axes>"
            ]
          },
          "metadata": {
            "tags": [],
            "needs_background": "light"
          }
        }
      ]
    },
    {
      "cell_type": "code",
      "metadata": {
        "id": "Bq0rU8Y_IiQC"
      },
      "source": [
        "# Creamos dataframe con datos de pacientes normales\r\n",
        "#pacientes_normales = pd.DataFrame(columns=('id_paciente', 'vista', 'sexo', 'edad'))\r\n",
        "#for contador in range(len(normales)):\r\n",
        "#  _, vista, sexo, edad = leer_dicom(train + '/' + normales.iloc[contador,0] + '.dcm')\r\n",
        "#  pacientes_normales.loc[len(pacientes_normales)]=[normales.iloc[contador,0], vista, sexo, edad]"
      ],
      "execution_count": null,
      "outputs": []
    },
    {
      "cell_type": "code",
      "metadata": {
        "colab": {
          "base_uri": "https://localhost:8080/",
          "height": 204
        },
        "id": "arlqAc20Rzu9",
        "outputId": "4356a442-b400-4d9c-a6ea-6c2ccf00d634"
      },
      "source": [
        "#Leemos dataframe con los datos pacientes normales\r\n",
        "pacientes_normales = pd.read_csv(ruta + '/pacientes_normales.csv')\r\n",
        "pacientes_normales.head()"
      ],
      "execution_count": null,
      "outputs": [
        {
          "output_type": "execute_result",
          "data": {
            "text/html": [
              "<div>\n",
              "<style scoped>\n",
              "    .dataframe tbody tr th:only-of-type {\n",
              "        vertical-align: middle;\n",
              "    }\n",
              "\n",
              "    .dataframe tbody tr th {\n",
              "        vertical-align: top;\n",
              "    }\n",
              "\n",
              "    .dataframe thead th {\n",
              "        text-align: right;\n",
              "    }\n",
              "</style>\n",
              "<table border=\"1\" class=\"dataframe\">\n",
              "  <thead>\n",
              "    <tr style=\"text-align: right;\">\n",
              "      <th></th>\n",
              "      <th>Unnamed: 0</th>\n",
              "      <th>id_paciente</th>\n",
              "      <th>vista</th>\n",
              "      <th>sexo</th>\n",
              "      <th>edad</th>\n",
              "    </tr>\n",
              "  </thead>\n",
              "  <tbody>\n",
              "    <tr>\n",
              "      <th>0</th>\n",
              "      <td>0</td>\n",
              "      <td>003d8fa0-6bf1-40ed-b54c-ac657f8495c5</td>\n",
              "      <td>PA</td>\n",
              "      <td>M</td>\n",
              "      <td>28</td>\n",
              "    </tr>\n",
              "    <tr>\n",
              "      <th>1</th>\n",
              "      <td>1</td>\n",
              "      <td>009482dc-3db5-48d4-8580-5c89c4f01334</td>\n",
              "      <td>PA</td>\n",
              "      <td>M</td>\n",
              "      <td>63</td>\n",
              "    </tr>\n",
              "    <tr>\n",
              "      <th>2</th>\n",
              "      <td>2</td>\n",
              "      <td>009eb222-eabc-4150-8121-d5a6d06b8ebf</td>\n",
              "      <td>PA</td>\n",
              "      <td>F</td>\n",
              "      <td>54</td>\n",
              "    </tr>\n",
              "    <tr>\n",
              "      <th>3</th>\n",
              "      <td>3</td>\n",
              "      <td>00a85be6-6eb0-421d-8acf-ff2dc0007e8a</td>\n",
              "      <td>PA</td>\n",
              "      <td>M</td>\n",
              "      <td>48</td>\n",
              "    </tr>\n",
              "    <tr>\n",
              "      <th>4</th>\n",
              "      <td>4</td>\n",
              "      <td>00f87de5-5fe0-4921-93ea-914d7e683266</td>\n",
              "      <td>PA</td>\n",
              "      <td>M</td>\n",
              "      <td>36</td>\n",
              "    </tr>\n",
              "  </tbody>\n",
              "</table>\n",
              "</div>"
            ],
            "text/plain": [
              "   Unnamed: 0                           id_paciente vista sexo  edad\n",
              "0           0  003d8fa0-6bf1-40ed-b54c-ac657f8495c5    PA    M    28\n",
              "1           1  009482dc-3db5-48d4-8580-5c89c4f01334    PA    M    63\n",
              "2           2  009eb222-eabc-4150-8121-d5a6d06b8ebf    PA    F    54\n",
              "3           3  00a85be6-6eb0-421d-8acf-ff2dc0007e8a    PA    M    48\n",
              "4           4  00f87de5-5fe0-4921-93ea-914d7e683266    PA    M    36"
            ]
          },
          "metadata": {
            "tags": []
          },
          "execution_count": 11
        }
      ]
    },
    {
      "cell_type": "code",
      "metadata": {
        "colab": {
          "base_uri": "https://localhost:8080/",
          "height": 204
        },
        "id": "F6mdbDNh-czd",
        "outputId": "2782d292-4a4a-489e-9e6b-e6320a96a377"
      },
      "source": [
        "pacientes_normales = pacientes_normales.drop(['Unnamed: 0'], axis=1)\r\n",
        "pacientes_normales.head()"
      ],
      "execution_count": null,
      "outputs": [
        {
          "output_type": "execute_result",
          "data": {
            "text/html": [
              "<div>\n",
              "<style scoped>\n",
              "    .dataframe tbody tr th:only-of-type {\n",
              "        vertical-align: middle;\n",
              "    }\n",
              "\n",
              "    .dataframe tbody tr th {\n",
              "        vertical-align: top;\n",
              "    }\n",
              "\n",
              "    .dataframe thead th {\n",
              "        text-align: right;\n",
              "    }\n",
              "</style>\n",
              "<table border=\"1\" class=\"dataframe\">\n",
              "  <thead>\n",
              "    <tr style=\"text-align: right;\">\n",
              "      <th></th>\n",
              "      <th>id_paciente</th>\n",
              "      <th>vista</th>\n",
              "      <th>sexo</th>\n",
              "      <th>edad</th>\n",
              "    </tr>\n",
              "  </thead>\n",
              "  <tbody>\n",
              "    <tr>\n",
              "      <th>0</th>\n",
              "      <td>003d8fa0-6bf1-40ed-b54c-ac657f8495c5</td>\n",
              "      <td>PA</td>\n",
              "      <td>M</td>\n",
              "      <td>28</td>\n",
              "    </tr>\n",
              "    <tr>\n",
              "      <th>1</th>\n",
              "      <td>009482dc-3db5-48d4-8580-5c89c4f01334</td>\n",
              "      <td>PA</td>\n",
              "      <td>M</td>\n",
              "      <td>63</td>\n",
              "    </tr>\n",
              "    <tr>\n",
              "      <th>2</th>\n",
              "      <td>009eb222-eabc-4150-8121-d5a6d06b8ebf</td>\n",
              "      <td>PA</td>\n",
              "      <td>F</td>\n",
              "      <td>54</td>\n",
              "    </tr>\n",
              "    <tr>\n",
              "      <th>3</th>\n",
              "      <td>00a85be6-6eb0-421d-8acf-ff2dc0007e8a</td>\n",
              "      <td>PA</td>\n",
              "      <td>M</td>\n",
              "      <td>48</td>\n",
              "    </tr>\n",
              "    <tr>\n",
              "      <th>4</th>\n",
              "      <td>00f87de5-5fe0-4921-93ea-914d7e683266</td>\n",
              "      <td>PA</td>\n",
              "      <td>M</td>\n",
              "      <td>36</td>\n",
              "    </tr>\n",
              "  </tbody>\n",
              "</table>\n",
              "</div>"
            ],
            "text/plain": [
              "                            id_paciente vista sexo  edad\n",
              "0  003d8fa0-6bf1-40ed-b54c-ac657f8495c5    PA    M    28\n",
              "1  009482dc-3db5-48d4-8580-5c89c4f01334    PA    M    63\n",
              "2  009eb222-eabc-4150-8121-d5a6d06b8ebf    PA    F    54\n",
              "3  00a85be6-6eb0-421d-8acf-ff2dc0007e8a    PA    M    48\n",
              "4  00f87de5-5fe0-4921-93ea-914d7e683266    PA    M    36"
            ]
          },
          "metadata": {
            "tags": []
          },
          "execution_count": 12
        }
      ]
    },
    {
      "cell_type": "code",
      "metadata": {
        "id": "na5iM2mgSAvD"
      },
      "source": [
        "pacientes_normales.to_csv(ruta + '/pacientes_normales.csv')"
      ],
      "execution_count": null,
      "outputs": []
    },
    {
      "cell_type": "code",
      "metadata": {
        "colab": {
          "base_uri": "https://localhost:8080/"
        },
        "id": "HYFEwrN1ZpNM",
        "outputId": "1232ed85-cb25-45a9-db26-ef33bce5bb58"
      },
      "source": [
        "# Nos quedamos con las imágenes con vista PA (Posteroanterior)\r\n",
        "normales_PA = pacientes_normales[pacientes_normales['vista']=='PA']\r\n",
        "normales_PA.shape"
      ],
      "execution_count": null,
      "outputs": [
        {
          "output_type": "execute_result",
          "data": {
            "text/plain": [
              "(7214, 4)"
            ]
          },
          "metadata": {
            "tags": []
          },
          "execution_count": 14
        }
      ]
    },
    {
      "cell_type": "code",
      "metadata": {
        "colab": {
          "base_uri": "https://localhost:8080/"
        },
        "id": "tY2FDYvOEXiC",
        "outputId": "56933472-b7db-4cce-9dfe-c860f6697973"
      },
      "source": [
        "normales_PA['ruta']=''\r\n",
        "for contador in range(len(normales_PA)):\r\n",
        "  normales_PA.iloc[contador,-1] = train + '/' + normales_PA.iloc[contador,0] + '.dcm'\r\n",
        "print(normales_PA['ruta'].head())"
      ],
      "execution_count": null,
      "outputs": [
        {
          "output_type": "stream",
          "text": [
            "/usr/local/lib/python3.7/dist-packages/ipykernel_launcher.py:1: SettingWithCopyWarning: \n",
            "A value is trying to be set on a copy of a slice from a DataFrame.\n",
            "Try using .loc[row_indexer,col_indexer] = value instead\n",
            "\n",
            "See the caveats in the documentation: https://pandas.pydata.org/pandas-docs/stable/user_guide/indexing.html#returning-a-view-versus-a-copy\n",
            "  \"\"\"Entry point for launching an IPython kernel.\n",
            "/usr/local/lib/python3.7/dist-packages/pandas/core/indexing.py:1763: SettingWithCopyWarning: \n",
            "A value is trying to be set on a copy of a slice from a DataFrame.\n",
            "Try using .loc[row_indexer,col_indexer] = value instead\n",
            "\n",
            "See the caveats in the documentation: https://pandas.pydata.org/pandas-docs/stable/user_guide/indexing.html#returning-a-view-versus-a-copy\n",
            "  isetter(loc, value)\n"
          ],
          "name": "stderr"
        },
        {
          "output_type": "stream",
          "text": [
            "0    /content/drive/MyDrive/rsna/stage_2_train_imag...\n",
            "1    /content/drive/MyDrive/rsna/stage_2_train_imag...\n",
            "2    /content/drive/MyDrive/rsna/stage_2_train_imag...\n",
            "3    /content/drive/MyDrive/rsna/stage_2_train_imag...\n",
            "4    /content/drive/MyDrive/rsna/stage_2_train_imag...\n",
            "Name: ruta, dtype: object\n"
          ],
          "name": "stdout"
        }
      ]
    },
    {
      "cell_type": "code",
      "metadata": {
        "colab": {
          "base_uri": "https://localhost:8080/",
          "height": 204
        },
        "id": "UQ_64jFTxQZI",
        "outputId": "b0eb16a9-596e-49f9-d9b8-1e4e91a6611c"
      },
      "source": [
        "normales_PA.head()"
      ],
      "execution_count": null,
      "outputs": [
        {
          "output_type": "execute_result",
          "data": {
            "text/html": [
              "<div>\n",
              "<style scoped>\n",
              "    .dataframe tbody tr th:only-of-type {\n",
              "        vertical-align: middle;\n",
              "    }\n",
              "\n",
              "    .dataframe tbody tr th {\n",
              "        vertical-align: top;\n",
              "    }\n",
              "\n",
              "    .dataframe thead th {\n",
              "        text-align: right;\n",
              "    }\n",
              "</style>\n",
              "<table border=\"1\" class=\"dataframe\">\n",
              "  <thead>\n",
              "    <tr style=\"text-align: right;\">\n",
              "      <th></th>\n",
              "      <th>id_paciente</th>\n",
              "      <th>vista</th>\n",
              "      <th>sexo</th>\n",
              "      <th>edad</th>\n",
              "      <th>ruta</th>\n",
              "    </tr>\n",
              "  </thead>\n",
              "  <tbody>\n",
              "    <tr>\n",
              "      <th>0</th>\n",
              "      <td>003d8fa0-6bf1-40ed-b54c-ac657f8495c5</td>\n",
              "      <td>PA</td>\n",
              "      <td>M</td>\n",
              "      <td>28</td>\n",
              "      <td>/content/drive/MyDrive/rsna/stage_2_train_imag...</td>\n",
              "    </tr>\n",
              "    <tr>\n",
              "      <th>1</th>\n",
              "      <td>009482dc-3db5-48d4-8580-5c89c4f01334</td>\n",
              "      <td>PA</td>\n",
              "      <td>M</td>\n",
              "      <td>63</td>\n",
              "      <td>/content/drive/MyDrive/rsna/stage_2_train_imag...</td>\n",
              "    </tr>\n",
              "    <tr>\n",
              "      <th>2</th>\n",
              "      <td>009eb222-eabc-4150-8121-d5a6d06b8ebf</td>\n",
              "      <td>PA</td>\n",
              "      <td>F</td>\n",
              "      <td>54</td>\n",
              "      <td>/content/drive/MyDrive/rsna/stage_2_train_imag...</td>\n",
              "    </tr>\n",
              "    <tr>\n",
              "      <th>3</th>\n",
              "      <td>00a85be6-6eb0-421d-8acf-ff2dc0007e8a</td>\n",
              "      <td>PA</td>\n",
              "      <td>M</td>\n",
              "      <td>48</td>\n",
              "      <td>/content/drive/MyDrive/rsna/stage_2_train_imag...</td>\n",
              "    </tr>\n",
              "    <tr>\n",
              "      <th>4</th>\n",
              "      <td>00f87de5-5fe0-4921-93ea-914d7e683266</td>\n",
              "      <td>PA</td>\n",
              "      <td>M</td>\n",
              "      <td>36</td>\n",
              "      <td>/content/drive/MyDrive/rsna/stage_2_train_imag...</td>\n",
              "    </tr>\n",
              "  </tbody>\n",
              "</table>\n",
              "</div>"
            ],
            "text/plain": [
              "                            id_paciente  ...                                               ruta\n",
              "0  003d8fa0-6bf1-40ed-b54c-ac657f8495c5  ...  /content/drive/MyDrive/rsna/stage_2_train_imag...\n",
              "1  009482dc-3db5-48d4-8580-5c89c4f01334  ...  /content/drive/MyDrive/rsna/stage_2_train_imag...\n",
              "2  009eb222-eabc-4150-8121-d5a6d06b8ebf  ...  /content/drive/MyDrive/rsna/stage_2_train_imag...\n",
              "3  00a85be6-6eb0-421d-8acf-ff2dc0007e8a  ...  /content/drive/MyDrive/rsna/stage_2_train_imag...\n",
              "4  00f87de5-5fe0-4921-93ea-914d7e683266  ...  /content/drive/MyDrive/rsna/stage_2_train_imag...\n",
              "\n",
              "[5 rows x 5 columns]"
            ]
          },
          "metadata": {
            "tags": []
          },
          "execution_count": 16
        }
      ]
    },
    {
      "cell_type": "code",
      "metadata": {
        "id": "lxd5R4elHxjV"
      },
      "source": [
        "import numpy as np\r\n",
        "import torch\r\n",
        "import torchvision\r\n",
        "import torch.nn as nn\r\n",
        "import torch.nn.functional as F\r\n",
        "import torch.optim as optim\r\n",
        "import matplotlib.pyplot as plt\r\n",
        "from torchvision import datasets, transforms\r\n",
        "from torch.utils.data import Dataset, DataLoader\r\n",
        "from torchvision import transforms, utils"
      ],
      "execution_count": null,
      "outputs": []
    },
    {
      "cell_type": "code",
      "metadata": {
        "colab": {
          "base_uri": "https://localhost:8080/"
        },
        "id": "JMGXGJ3ZL4dK",
        "outputId": "608d0fd5-0c3b-46a6-c4f6-def3acae79b8"
      },
      "source": [
        "device = torch.device(\"cuda\" if torch.cuda.is_available() else \"cpu\")\r\n",
        "print(device)\r\n",
        "!nvidia-smi"
      ],
      "execution_count": null,
      "outputs": [
        {
          "output_type": "stream",
          "text": [
            "cuda\n",
            "Sun Feb 28 17:20:29 2021       \n",
            "+-----------------------------------------------------------------------------+\n",
            "| NVIDIA-SMI 460.39       Driver Version: 460.32.03    CUDA Version: 11.2     |\n",
            "|-------------------------------+----------------------+----------------------+\n",
            "| GPU  Name        Persistence-M| Bus-Id        Disp.A | Volatile Uncorr. ECC |\n",
            "| Fan  Temp  Perf  Pwr:Usage/Cap|         Memory-Usage | GPU-Util  Compute M. |\n",
            "|                               |                      |               MIG M. |\n",
            "|===============================+======================+======================|\n",
            "|   0  Tesla T4            Off  | 00000000:00:04.0 Off |                    0 |\n",
            "| N/A   43C    P8    11W /  70W |      3MiB / 15109MiB |      0%      Default |\n",
            "|                               |                      |                  N/A |\n",
            "+-------------------------------+----------------------+----------------------+\n",
            "                                                                               \n",
            "+-----------------------------------------------------------------------------+\n",
            "| Processes:                                                                  |\n",
            "|  GPU   GI   CI        PID   Type   Process name                  GPU Memory |\n",
            "|        ID   ID                                                   Usage      |\n",
            "|=============================================================================|\n",
            "|  No running processes found                                                 |\n",
            "+-----------------------------------------------------------------------------+\n"
          ],
          "name": "stdout"
        }
      ]
    },
    {
      "cell_type": "code",
      "metadata": {
        "id": "vlX4mI_HTNTn"
      },
      "source": [
        "class RSNA(Dataset):\r\n",
        "    \"\"\"RSNA dataset.\"\"\"\r\n",
        "\r\n",
        "    def __init__(self, csv_file, root_dir, transform=None):\r\n",
        "        \"\"\"\r\n",
        "        Args:\r\n",
        "            csv_file (string): Path to the csv file with annotations.\r\n",
        "            root_dir (string): Directory with all the images.\r\n",
        "            transform (callable, optional): Optional transform to be applied\r\n",
        "                on a sample.\r\n",
        "        \"\"\"\r\n",
        "        self.ruta_imagen = pd.read_csv(csv_file)\r\n",
        "        self.root_dir = root_dir\r\n",
        "        self.transform = transform\r\n",
        "\r\n",
        "    def __len__(self):\r\n",
        "        return len(self.ruta_imagen)\r\n",
        "\r\n",
        "    def __getitem__(self, idx):\r\n",
        "        if torch.is_tensor(idx):\r\n",
        "            idx = idx.tolist()\r\n",
        "\r\n",
        "        img_name = self.ruta_imagen.iloc[idx, 5]\r\n",
        "        ds = pydicom.dcmread(img_name)\r\n",
        "        image = ds.pixel_array\r\n",
        "       \r\n",
        "        \r\n",
        "\r\n",
        "        if self.transform:\r\n",
        "            image = self.transform(image)\r\n",
        "\r\n",
        "        return image"
      ],
      "execution_count": null,
      "outputs": []
    },
    {
      "cell_type": "code",
      "metadata": {
        "id": "f8o_aLqgVm3K"
      },
      "source": [
        "normales_PA.to_csv(ruta + '/normales_PA.csv')"
      ],
      "execution_count": null,
      "outputs": []
    },
    {
      "cell_type": "code",
      "metadata": {
        "id": "597wDui4WvpG"
      },
      "source": [
        "rsna_dataset = RSNA(csv_file=ruta + '/normales_PA.csv',\r\n",
        "                                    root_dir=train)\r\n"
      ],
      "execution_count": null,
      "outputs": []
    },
    {
      "cell_type": "code",
      "metadata": {
        "colab": {
          "base_uri": "https://localhost:8080/",
          "height": 419
        },
        "id": "h3EEarhbW8Tq",
        "outputId": "8595349c-dc21-4957-f456-bc8a72dce5e2"
      },
      "source": [
        "rsna_dataset.ruta_imagen"
      ],
      "execution_count": null,
      "outputs": [
        {
          "output_type": "execute_result",
          "data": {
            "text/html": [
              "<div>\n",
              "<style scoped>\n",
              "    .dataframe tbody tr th:only-of-type {\n",
              "        vertical-align: middle;\n",
              "    }\n",
              "\n",
              "    .dataframe tbody tr th {\n",
              "        vertical-align: top;\n",
              "    }\n",
              "\n",
              "    .dataframe thead th {\n",
              "        text-align: right;\n",
              "    }\n",
              "</style>\n",
              "<table border=\"1\" class=\"dataframe\">\n",
              "  <thead>\n",
              "    <tr style=\"text-align: right;\">\n",
              "      <th></th>\n",
              "      <th>Unnamed: 0</th>\n",
              "      <th>id_paciente</th>\n",
              "      <th>vista</th>\n",
              "      <th>sexo</th>\n",
              "      <th>edad</th>\n",
              "      <th>ruta</th>\n",
              "    </tr>\n",
              "  </thead>\n",
              "  <tbody>\n",
              "    <tr>\n",
              "      <th>0</th>\n",
              "      <td>0</td>\n",
              "      <td>003d8fa0-6bf1-40ed-b54c-ac657f8495c5</td>\n",
              "      <td>PA</td>\n",
              "      <td>M</td>\n",
              "      <td>28</td>\n",
              "      <td>/content/drive/MyDrive/rsna/stage_2_train_imag...</td>\n",
              "    </tr>\n",
              "    <tr>\n",
              "      <th>1</th>\n",
              "      <td>1</td>\n",
              "      <td>009482dc-3db5-48d4-8580-5c89c4f01334</td>\n",
              "      <td>PA</td>\n",
              "      <td>M</td>\n",
              "      <td>63</td>\n",
              "      <td>/content/drive/MyDrive/rsna/stage_2_train_imag...</td>\n",
              "    </tr>\n",
              "    <tr>\n",
              "      <th>2</th>\n",
              "      <td>2</td>\n",
              "      <td>009eb222-eabc-4150-8121-d5a6d06b8ebf</td>\n",
              "      <td>PA</td>\n",
              "      <td>F</td>\n",
              "      <td>54</td>\n",
              "      <td>/content/drive/MyDrive/rsna/stage_2_train_imag...</td>\n",
              "    </tr>\n",
              "    <tr>\n",
              "      <th>3</th>\n",
              "      <td>3</td>\n",
              "      <td>00a85be6-6eb0-421d-8acf-ff2dc0007e8a</td>\n",
              "      <td>PA</td>\n",
              "      <td>M</td>\n",
              "      <td>48</td>\n",
              "      <td>/content/drive/MyDrive/rsna/stage_2_train_imag...</td>\n",
              "    </tr>\n",
              "    <tr>\n",
              "      <th>4</th>\n",
              "      <td>4</td>\n",
              "      <td>00f87de5-5fe0-4921-93ea-914d7e683266</td>\n",
              "      <td>PA</td>\n",
              "      <td>M</td>\n",
              "      <td>36</td>\n",
              "      <td>/content/drive/MyDrive/rsna/stage_2_train_imag...</td>\n",
              "    </tr>\n",
              "    <tr>\n",
              "      <th>...</th>\n",
              "      <td>...</td>\n",
              "      <td>...</td>\n",
              "      <td>...</td>\n",
              "      <td>...</td>\n",
              "      <td>...</td>\n",
              "      <td>...</td>\n",
              "    </tr>\n",
              "    <tr>\n",
              "      <th>7209</th>\n",
              "      <td>8845</td>\n",
              "      <td>c1c3ec5d-20ba-42f7-91f9-48032d97ffc9</td>\n",
              "      <td>PA</td>\n",
              "      <td>F</td>\n",
              "      <td>26</td>\n",
              "      <td>/content/drive/MyDrive/rsna/stage_2_train_imag...</td>\n",
              "    </tr>\n",
              "    <tr>\n",
              "      <th>7210</th>\n",
              "      <td>8846</td>\n",
              "      <td>c1ca4417-83a6-43a7-a9bf-7d9587e7f14f</td>\n",
              "      <td>PA</td>\n",
              "      <td>M</td>\n",
              "      <td>33</td>\n",
              "      <td>/content/drive/MyDrive/rsna/stage_2_train_imag...</td>\n",
              "    </tr>\n",
              "    <tr>\n",
              "      <th>7211</th>\n",
              "      <td>8847</td>\n",
              "      <td>c1cf3255-d734-4980-bfe0-967902ad7ed9</td>\n",
              "      <td>PA</td>\n",
              "      <td>F</td>\n",
              "      <td>27</td>\n",
              "      <td>/content/drive/MyDrive/rsna/stage_2_train_imag...</td>\n",
              "    </tr>\n",
              "    <tr>\n",
              "      <th>7212</th>\n",
              "      <td>8849</td>\n",
              "      <td>c1edf42b-5958-47ff-a1e7-4f23d99583ba</td>\n",
              "      <td>PA</td>\n",
              "      <td>F</td>\n",
              "      <td>46</td>\n",
              "      <td>/content/drive/MyDrive/rsna/stage_2_train_imag...</td>\n",
              "    </tr>\n",
              "    <tr>\n",
              "      <th>7213</th>\n",
              "      <td>8850</td>\n",
              "      <td>c1f6b555-2eb1-4231-98f6-50a963976431</td>\n",
              "      <td>PA</td>\n",
              "      <td>M</td>\n",
              "      <td>45</td>\n",
              "      <td>/content/drive/MyDrive/rsna/stage_2_train_imag...</td>\n",
              "    </tr>\n",
              "  </tbody>\n",
              "</table>\n",
              "<p>7214 rows × 6 columns</p>\n",
              "</div>"
            ],
            "text/plain": [
              "      Unnamed: 0  ...                                               ruta\n",
              "0              0  ...  /content/drive/MyDrive/rsna/stage_2_train_imag...\n",
              "1              1  ...  /content/drive/MyDrive/rsna/stage_2_train_imag...\n",
              "2              2  ...  /content/drive/MyDrive/rsna/stage_2_train_imag...\n",
              "3              3  ...  /content/drive/MyDrive/rsna/stage_2_train_imag...\n",
              "4              4  ...  /content/drive/MyDrive/rsna/stage_2_train_imag...\n",
              "...          ...  ...                                                ...\n",
              "7209        8845  ...  /content/drive/MyDrive/rsna/stage_2_train_imag...\n",
              "7210        8846  ...  /content/drive/MyDrive/rsna/stage_2_train_imag...\n",
              "7211        8847  ...  /content/drive/MyDrive/rsna/stage_2_train_imag...\n",
              "7212        8849  ...  /content/drive/MyDrive/rsna/stage_2_train_imag...\n",
              "7213        8850  ...  /content/drive/MyDrive/rsna/stage_2_train_imag...\n",
              "\n",
              "[7214 rows x 6 columns]"
            ]
          },
          "metadata": {
            "tags": []
          },
          "execution_count": 22
        }
      ]
    },
    {
      "cell_type": "code",
      "metadata": {
        "colab": {
          "base_uri": "https://localhost:8080/",
          "height": 122
        },
        "id": "viAUolsfVckH",
        "outputId": "cf951813-0d09-446e-9296-f2beb3b79b6c"
      },
      "source": [
        "rsna_dataset = RSNA(csv_file=ruta + '/normales_PA.csv',\r\n",
        "                                    root_dir=train)\r\n",
        "\r\n",
        "fig = plt.figure()\r\n",
        "\r\n",
        "for i in range(len(rsna_dataset)):\r\n",
        "    sample = rsna_dataset[i]\r\n",
        "\r\n",
        "    ax = plt.subplot(1, 4, i + 1)\r\n",
        "    plt.tight_layout()\r\n",
        "    ax.set_title('Sample #{}'.format(i))\r\n",
        "    ax.axis('off')\r\n",
        "    plt.imshow(sample, cmap='gray')\r\n",
        "    \r\n",
        "    if i == 3:\r\n",
        "        plt.show()\r\n",
        "        break"
      ],
      "execution_count": null,
      "outputs": [
        {
          "output_type": "display_data",
          "data": {
            "image/png": "[encoded data removed]",
            "text/plain": [
              "<Figure size 432x288 with 4 Axes>"
            ]
          },
          "metadata": {
            "tags": [],
            "needs_background": "light"
          }
        }
      ]
    },
    {
      "cell_type": "code",
      "metadata": {
        "id": "AVkZKfTdL8O6"
      },
      "source": [
        "image_size = 64\r\n",
        "batch_size=32\r\n",
        "\r\n",
        "transform = transforms.Compose([transforms.ToPILImage(), transforms.Resize(image_size),\r\n",
        "                                transforms.ToTensor(),\r\n",
        "        transforms.Normalize((0.5), (0.5))])\r\n",
        "\r\n",
        "rsna_dataset = RSNA(csv_file=ruta + '/normales_PA.csv',\r\n",
        "                                    root_dir=train, transform=transform)\r\n",
        "\r\n",
        "trainloader = torch.utils.data.DataLoader(rsna_dataset, batch_size=batch_size,\r\n",
        "                                          shuffle=True, num_workers=8)"
      ],
      "execution_count": null,
      "outputs": []
    },
    {
      "cell_type": "code",
      "metadata": {
        "id": "JATeLtLO1FwP"
      },
      "source": [
        "rsna_dataset_test = RSNA(csv_file=ruta + '/normales_PA.csv',\r\n",
        "                                    root_dir=train, transform=transform)\r\n",
        "\r\n",
        "testloader = torch.utils.data.DataLoader(rsna_dataset_test, batch_size=batch_size,\r\n",
        "                                          shuffle=True, num_workers=8)"
      ],
      "execution_count": null,
      "outputs": []
    },
    {
      "cell_type": "code",
      "metadata": {
        "id": "XPHoHm3D1VoS"
      },
      "source": [
        "def show_images(images):\r\n",
        "    images = torchvision.utils.make_grid(images)\r\n",
        "    show_image(images)\r\n",
        "\r\n",
        "def show_image(img):\r\n",
        "    img = img / 2 + 0.5\r\n",
        "    plt.imshow(img.permute(1, 2, 0), cmap=\"gray\")\r\n",
        "    plt.show()"
      ],
      "execution_count": null,
      "outputs": []
    },
    {
      "cell_type": "code",
      "metadata": {
        "colab": {
          "base_uri": "https://localhost:8080/",
          "height": 220
        },
        "id": "6fqdSxJr1fc0",
        "outputId": "cd7996a6-770e-4c91-b8a5-49cb56bbe6fc"
      },
      "source": [
        "trial = next(iter(trainloader))\r\n",
        "images = trial\r\n",
        "#print(labels)\r\n",
        "show_images(images)"
      ],
      "execution_count": null,
      "outputs": [
        {
          "output_type": "display_data",
          "data": {
            "image/png": "[encoded data removed]",
            "text/plain": [
              "<Figure size 432x288 with 1 Axes>"
            ]
          },
          "metadata": {
            "tags": [],
            "needs_background": "light"
          }
        }
      ]
    },
    {
      "cell_type": "markdown",
      "metadata": {
        "id": "XouTCdgnqiLn"
      },
      "source": [
        ""
      ]
    },
    {
      "cell_type": "code",
      "metadata": {
        "colab": {
          "base_uri": "https://localhost:8080/"
        },
        "id": "OP5GOaCV7BKs",
        "outputId": "fd1636f3-4528-4ed3-ca0c-d8a97438960d"
      },
      "source": [
        "trial.shape"
      ],
      "execution_count": null,
      "outputs": [
        {
          "output_type": "execute_result",
          "data": {
            "text/plain": [
              "torch.Size([32, 1, 64, 64])"
            ]
          },
          "metadata": {
            "tags": []
          },
          "execution_count": 28
        }
      ]
    },
    {
      "cell_type": "code",
      "metadata": {
        "id": "CqHRd4Ii7RCp"
      },
      "source": [
        ""
      ],
      "execution_count": null,
      "outputs": []
    },
    {
      "cell_type": "markdown",
      "metadata": {
        "id": "mvCbzCpv7SGj"
      },
      "source": [
        "# Modelo variacional base"
      ]
    },
    {
      "cell_type": "code",
      "metadata": {
        "id": "4MBt8i1G4qun"
      },
      "source": [
        "\r\n",
        "epochs = 10       # times to run the model on complete data\r\n",
        "hidden_size = 1024       # hidden dimension\r\n",
        "latent_size = 256         # latent vector dimension\r\n",
        "lr = 5e-4                 # learning rate\r\n",
        "factor_loss = 1\r\n",
        "train_loss = []\r\n",
        "num_imagenes = normales_PA.shape[0]"
      ],
      "execution_count": null,
      "outputs": []
    },
    {
      "cell_type": "code",
      "metadata": {
        "id": "LCsxPqoy2NNN"
      },
      "source": [
        "class Flatten(nn.Module):\r\n",
        "    def forward(self, input):\r\n",
        "        return input.view(input.size(0), -1)\r\n",
        "\r\n",
        "class UnFlatten(nn.Module):\r\n",
        "    def forward(self, input, size=1024):\r\n",
        "        return input.view(input.size(0), 1024, 1, 1)"
      ],
      "execution_count": null,
      "outputs": []
    },
    {
      "cell_type": "code",
      "metadata": {
        "id": "l5mIovOC2OoE"
      },
      "source": [
        "# Autoencoder convolucional variacional\r\n",
        "class DCVAE(nn.Module):\r\n",
        "    def __init__(self, image_channels=1, image_dim=image_size, hidden_size=hidden_size, latent_size=latent_size):\r\n",
        "      super(DCVAE, self).__init__()\r\n",
        "\r\n",
        "      self.encoder = nn.Sequential(\r\n",
        "        nn.Conv2d(image_channels, 32, 4, 2),\r\n",
        "        nn.LeakyReLU(0.2),\r\n",
        "        nn.Conv2d(32, 64, 4, 2),\r\n",
        "        nn.LeakyReLU(0.2),\r\n",
        "        nn.Conv2d(64, 128, 4, 2),\r\n",
        "        nn.LeakyReLU(0.2),\r\n",
        "        nn.Conv2d(128, 256, 4, 2),\r\n",
        "        nn.LeakyReLU(0.2),\r\n",
        "        Flatten(),\r\n",
        "    )\r\n",
        "      self.encoder_mean = nn.Linear(hidden_size, latent_size)\r\n",
        "      self.encoder_logvar = nn.Linear(hidden_size, latent_size)\r\n",
        "      self.fc = nn.Linear(latent_size, hidden_size)\r\n",
        "      self.decoder = nn.Sequential(\r\n",
        "                                UnFlatten(),\r\n",
        "                                nn.ConvTranspose2d(hidden_size, 128, 5, 2),\r\n",
        "                                nn.ReLU(),\r\n",
        "                                nn.ConvTranspose2d(128, 64, 5, 2),\r\n",
        "                                nn.ReLU(),\r\n",
        "                                nn.ConvTranspose2d(64, 32, 6, 2),\r\n",
        "                                nn.ReLU(),\r\n",
        "                                nn.ConvTranspose2d(32, image_channels, 6, 2),\r\n",
        "                                nn.Sigmoid()   \r\n",
        "                              )\r\n",
        "  \r\n",
        "    def sample(self, log_var, mean):\r\n",
        "      std = torch.exp(0.5*log_var)\r\n",
        "      eps = torch.randn_like(std)\r\n",
        "      return eps.mul(std).add_(mean)\r\n",
        "  \r\n",
        "    def forward(self, x):\r\n",
        "      x = self.encoder(x)\r\n",
        "      log_var = self.encoder_logvar(x)\r\n",
        "      mean = self.encoder_mean(x)\r\n",
        "      z = self.sample(log_var, mean)\r\n",
        "      x = self.fc(z)\r\n",
        "      x = self.decoder(x)\r\n",
        "\r\n",
        "      return x, mean, log_var"
      ],
      "execution_count": null,
      "outputs": []
    },
    {
      "cell_type": "code",
      "metadata": {
        "colab": {
          "base_uri": "https://localhost:8080/"
        },
        "id": "cH8akz_biPom",
        "outputId": "03f74b7b-0e32-4f71-8c96-edc1892f1e75"
      },
      "source": [
        "from torchsummary import summary\r\n",
        "summary(vae, input_size=(1, 64, 64))"
      ],
      "execution_count": null,
      "outputs": [
        {
          "output_type": "stream",
          "text": [
            "----------------------------------------------------------------\n",
            "        Layer (type)               Output Shape         Param #\n",
            "================================================================\n",
            "            Conv2d-1           [-1, 32, 31, 31]             544\n",
            "         LeakyReLU-2           [-1, 32, 31, 31]               0\n",
            "            Conv2d-3           [-1, 64, 14, 14]          32,832\n",
            "         LeakyReLU-4           [-1, 64, 14, 14]               0\n",
            "            Conv2d-5            [-1, 128, 6, 6]         131,200\n",
            "         LeakyReLU-6            [-1, 128, 6, 6]               0\n",
            "            Conv2d-7            [-1, 256, 2, 2]         524,544\n",
            "         LeakyReLU-8            [-1, 256, 2, 2]               0\n",
            "           Flatten-9                 [-1, 1024]               0\n",
            "           Linear-10                  [-1, 256]         262,400\n",
            "           Linear-11                  [-1, 256]         262,400\n",
            "           Linear-12                 [-1, 1024]         263,168\n",
            "        UnFlatten-13           [-1, 1024, 1, 1]               0\n",
            "  ConvTranspose2d-14            [-1, 128, 5, 5]       3,276,928\n",
            "             ReLU-15            [-1, 128, 5, 5]               0\n",
            "  ConvTranspose2d-16           [-1, 64, 13, 13]         204,864\n",
            "             ReLU-17           [-1, 64, 13, 13]               0\n",
            "  ConvTranspose2d-18           [-1, 32, 30, 30]          73,760\n",
            "             ReLU-19           [-1, 32, 30, 30]               0\n",
            "  ConvTranspose2d-20            [-1, 1, 64, 64]           1,153\n",
            "          Sigmoid-21            [-1, 1, 64, 64]               0\n",
            "================================================================\n",
            "Total params: 5,033,793\n",
            "Trainable params: 5,033,793\n",
            "Non-trainable params: 0\n",
            "----------------------------------------------------------------\n",
            "Input size (MB): 0.02\n",
            "Forward/backward pass size (MB): 1.49\n",
            "Params size (MB): 19.20\n",
            "Estimated Total Size (MB): 20.71\n",
            "----------------------------------------------------------------\n"
          ],
          "name": "stdout"
        }
      ]
    },
    {
      "cell_type": "code",
      "metadata": {
        "id": "HaoF4t_Kwzum"
      },
      "source": [
        "def RMSELoss(yhat,y):\r\n",
        "    return torch.sqrt(torch.mean((yhat-y)**2))"
      ],
      "execution_count": null,
      "outputs": []
    },
    {
      "cell_type": "code",
      "metadata": {
        "colab": {
          "base_uri": "https://localhost:8080/"
        },
        "id": "Dv8l6yrK34x0",
        "outputId": "ebd8b421-5fb1-406a-efcd-4a966585339e"
      },
      "source": [
        "vae.train()\r\n",
        "\r\n",
        "for epoch in range(epochs):\r\n",
        "  for i, images in enumerate(trainloader):\r\n",
        "    images = images.to(device)\r\n",
        "    optimizer.zero_grad()\r\n",
        "    reconstructed_image, mean, log_var = vae(images)\r\n",
        "    CE = RMSELoss(reconstructed_image, images)\r\n",
        "    #CE = F.binary_cross_entropy(reconstructed_image, images, reduction='sum')\r\n",
        "    # for VAE\r\n",
        "    # CE = F.binary_cross_entropy(\r\n",
        "    #             reconstructed_image, images.view(-1, input_size), reduction=\"sum\"\r\n",
        "    #         )\r\n",
        "    KLD = -0.5 * torch.sum(1 + log_var - mean.pow(2) - log_var.exp())\r\n",
        "    loss = factor_loss*CE + KLD\r\n",
        "    loss.backward()\r\n",
        "    train_loss.append(loss.item())\r\n",
        "    optimizer.step()\r\n",
        "\r\n",
        "    if(i % 100 == 0):\r\n",
        "      print(\"Loss:\")\r\n",
        "      print(loss.item() / len(images))"
      ],
      "execution_count": null,
      "outputs": [
        {
          "output_type": "stream",
          "text": [
            "Loss:\n",
            "3.1682474613189697\n",
            "Loss:\n",
            "0.018675798550248146\n",
            "Loss:\n",
            "0.016317270696163177\n",
            "Loss:\n",
            "0.016123782843351364\n",
            "Loss:\n",
            "0.016911238431930542\n",
            "Loss:\n",
            "0.017869163304567337\n",
            "Loss:\n",
            "0.0160692036151886\n",
            "Loss:\n",
            "0.01450333371758461\n",
            "Loss:\n",
            "0.015565946698188782\n",
            "Loss:\n",
            "0.01449095644056797\n",
            "Loss:\n",
            "0.014567446894943714\n",
            "Loss:\n",
            "0.015370611101388931\n",
            "Loss:\n",
            "0.014674604870378971\n",
            "Loss:\n",
            "0.015699099749326706\n",
            "Loss:\n",
            "0.015168693847954273\n",
            "Loss:\n",
            "0.015153593383729458\n",
            "Loss:\n",
            "0.014313706196844578\n",
            "Loss:\n",
            "0.015303166583180428\n",
            "Loss:\n",
            "0.014374400489032269\n",
            "Loss:\n",
            "0.015315469354391098\n",
            "Loss:\n",
            "0.014510966837406158\n",
            "Loss:\n",
            "0.015741070732474327\n",
            "Loss:\n",
            "0.01440522912889719\n",
            "Loss:\n",
            "0.014997638761997223\n",
            "Loss:\n",
            "0.0141221322119236\n",
            "Loss:\n",
            "0.014640052802860737\n",
            "Loss:\n",
            "0.014600702561438084\n",
            "Loss:\n",
            "0.014368333853781223\n",
            "Loss:\n",
            "0.014442180283367634\n",
            "Loss:\n",
            "0.014756673946976662\n"
          ],
          "name": "stdout"
        }
      ]
    },
    {
      "cell_type": "markdown",
      "metadata": {
        "id": "8az3nQk16iSp"
      },
      "source": [
        "## Autoencoder variacional mejorado"
      ]
    },
    {
      "cell_type": "code",
      "metadata": {
        "id": "Z0t8rwC8JWxF"
      },
      "source": [
        "image_size = 127\r\n",
        "batch_size=32\r\n",
        "\r\n",
        "transform = transforms.Compose([transforms.ToPILImage(), transforms.Resize(image_size),\r\n",
        "                                transforms.ToTensor(),\r\n",
        "        transforms.Normalize((0.5), (0.5))])\r\n",
        "\r\n",
        "rsna_dataset = RSNA(csv_file=ruta + '/normales_PA.csv',\r\n",
        "                                    root_dir=train, transform=transform)\r\n",
        "\r\n",
        "trainloader = torch.utils.data.DataLoader(rsna_dataset, batch_size=batch_size,\r\n",
        "                                          shuffle=True, num_workers=8)"
      ],
      "execution_count": 233,
      "outputs": []
    },
    {
      "cell_type": "code",
      "metadata": {
        "id": "8ArlqX-uJWnG"
      },
      "source": [
        "rsna_dataset_test = RSNA(csv_file=ruta + '/normales_PA.csv',\r\n",
        "                                    root_dir=train, transform=transform)\r\n",
        "\r\n",
        "testloader = torch.utils.data.DataLoader(rsna_dataset_test, batch_size=batch_size,\r\n",
        "                                          shuffle=True, num_workers=8)"
      ],
      "execution_count": 234,
      "outputs": []
    },
    {
      "cell_type": "code",
      "metadata": {
        "colab": {
          "base_uri": "https://localhost:8080/",
          "height": 219
        },
        "id": "3JJzFE4BJWRv",
        "outputId": "defb3b43-2af7-42a8-c3fc-da9bf6f82d9e"
      },
      "source": [
        "trial = next(iter(trainloader))\r\n",
        "images = trial\r\n",
        "#print(labels)\r\n",
        "show_images(images)"
      ],
      "execution_count": 235,
      "outputs": [
        {
          "output_type": "display_data",
          "data": {
            "image/png": "[encoded data removed]",
            "text/plain": [
              "<Figure size 432x288 with 1 Axes>"
            ]
          },
          "metadata": {
            "tags": [],
            "needs_background": "light"
          }
        }
      ]
    },
    {
      "cell_type": "code",
      "metadata": {
        "id": "tXdqxx0A61Tn"
      },
      "source": [
        "epochs = 100        # times to run the model on complete data\r\n",
        "hidden_size = 3136       # hidden dimension\r\n",
        "latent_size = 256         # latent vector dimension\r\n",
        "lr = 5e-4                 # learning rate\r\n",
        "factor_loss = 10000\r\n",
        "train_loss = []\r\n",
        "num_imagenes = normales_PA.shape[0]"
      ],
      "execution_count": 262,
      "outputs": []
    },
    {
      "cell_type": "code",
      "metadata": {
        "id": "3tTlNFQ64gTn"
      },
      "source": [
        "class Flatten(nn.Module):\r\n",
        "    def forward(self, input):\r\n",
        "        #print(input.shape)\r\n",
        "        return input.view(input.size(0), -1)\r\n",
        "\r\n",
        "class UnFlatten(nn.Module):\r\n",
        "    def forward(self, input, size=3136):\r\n",
        "        #print(input.shape)\r\n",
        "        return input.view(input.size(0), 64, 7, 7)"
      ],
      "execution_count": 263,
      "outputs": []
    },
    {
      "cell_type": "code",
      "metadata": {
        "id": "DXWMTdzK6ngV"
      },
      "source": [
        "def RMSELoss(yhat,y):\r\n",
        "    return torch.sqrt(torch.mean((yhat-y)**2))"
      ],
      "execution_count": 264,
      "outputs": []
    },
    {
      "cell_type": "code",
      "metadata": {
        "colab": {
          "base_uri": "https://localhost:8080/"
        },
        "id": "Zn1RJ7qQP5Cf",
        "outputId": "6c27dc87-b84e-4a92-bec5-0fb6efd0a2ab"
      },
      "source": [
        "image_size"
      ],
      "execution_count": 265,
      "outputs": [
        {
          "output_type": "execute_result",
          "data": {
            "text/plain": [
              "127"
            ]
          },
          "metadata": {
            "tags": []
          },
          "execution_count": 265
        }
      ]
    },
    {
      "cell_type": "code",
      "metadata": {
        "id": "TVBK7ddEUE2Z"
      },
      "source": [
        "# Autoencoder convolucional mejorado\r\n",
        "class DCVAE2(nn.Module):\r\n",
        "    def __init__(self, image_channels=1, image_dim=image_size, hidden_size=hidden_size, latent_size=latent_size):\r\n",
        "      super(DCVAE2, self).__init__()\r\n",
        "\r\n",
        "      self.encoder = nn.Sequential(\r\n",
        "        nn.Conv2d(image_channels, 32, 3, 2),\r\n",
        "        nn.BatchNorm2d(32),\r\n",
        "        nn.LeakyReLU(0.2),\r\n",
        "        nn.Dropout2d(p=0.25),\r\n",
        "        nn.Conv2d(32, 64, 3, 2),\r\n",
        "        nn.BatchNorm2d(64),\r\n",
        "        nn.LeakyReLU(0.2),\r\n",
        "        nn.Dropout2d(p=0.25),\r\n",
        "        nn.Conv2d(64, 64, 3, 2),\r\n",
        "        nn.BatchNorm2d(64),\r\n",
        "        nn.LeakyReLU(0.2),\r\n",
        "        nn.Dropout2d(p=0.25),\r\n",
        "        nn.Conv2d(64, 64, 3, 2),\r\n",
        "        nn.BatchNorm2d(64),\r\n",
        "        nn.LeakyReLU(0.2),\r\n",
        "        nn.Dropout2d(p=0.25),\r\n",
        "        Flatten(),\r\n",
        "    )\r\n",
        "      self.encoder_mean = nn.Linear(hidden_size, latent_size)\r\n",
        "      self.encoder_logvar = nn.Linear(hidden_size, latent_size)\r\n",
        "      self.fc = nn.Linear(latent_size, hidden_size)\r\n",
        "      self.decoder = nn.Sequential(\r\n",
        "                                UnFlatten(),\r\n",
        "                                nn.ConvTranspose2d(64, 64, 3, 2),\r\n",
        "                                nn.BatchNorm2d(64),\r\n",
        "                                nn.LeakyReLU(0.2),\r\n",
        "                                nn.Dropout2d(p=0.25),\r\n",
        "                                nn.ConvTranspose2d(64, 64, 3, 2),\r\n",
        "                                nn.BatchNorm2d(64),\r\n",
        "                                nn.LeakyReLU(0.2),\r\n",
        "                                nn.Dropout2d(p=0.25),\r\n",
        "                                nn.ConvTranspose2d(64, 32, 3, 2),\r\n",
        "                                nn.BatchNorm2d(32),\r\n",
        "                                nn.LeakyReLU(0.2),\r\n",
        "                                nn.Dropout2d(p=0.25),\r\n",
        "                                nn.ConvTranspose2d(32, image_channels, 3, 2),\r\n",
        "                                nn.Sigmoid()   \r\n",
        "                              )\r\n",
        "  \r\n",
        "    def sample(self, log_var, mean):\r\n",
        "      std = torch.exp(0.5*log_var)\r\n",
        "      eps = torch.randn_like(std)\r\n",
        "      return eps.mul(std).add_(mean)\r\n",
        "  \r\n",
        "    def forward(self, x):\r\n",
        "      x = self.encoder(x)\r\n",
        "      log_var = self.encoder_logvar(x)\r\n",
        "      mean = self.encoder_mean(x)\r\n",
        "      z = self.sample(log_var, mean)\r\n",
        "      x = self.fc(z)\r\n",
        "      \r\n",
        "      x = self.decoder(x)\r\n",
        "      \r\n",
        "      return x, mean, log_var"
      ],
      "execution_count": 266,
      "outputs": []
    },
    {
      "cell_type": "code",
      "metadata": {
        "id": "Q5gUCriD3Byg"
      },
      "source": [
        "vae2 = DCVAE2().to(device)\r\n",
        "# vae = VAE().to(device)\r\n",
        "optimizer = optim.Adam(vae2.parameters(), lr=lr)"
      ],
      "execution_count": 267,
      "outputs": []
    },
    {
      "cell_type": "code",
      "metadata": {
        "colab": {
          "base_uri": "https://localhost:8080/"
        },
        "id": "WsRq54y1gwbf",
        "outputId": "b4073d78-d961-4fe5-a752-fee6bec1fffa"
      },
      "source": [
        "!pip install torchsummary\r\n",
        "from torchsummary import summary\r\n",
        "summary(vae2, input_size=(1, 128, 128))"
      ],
      "execution_count": 268,
      "outputs": [
        {
          "output_type": "stream",
          "text": [
            "Requirement already satisfied: torchsummary in /usr/local/lib/python3.7/dist-packages (1.5.1)\n",
            "----------------------------------------------------------------\n",
            "        Layer (type)               Output Shape         Param #\n",
            "================================================================\n",
            "            Conv2d-1           [-1, 32, 63, 63]             320\n",
            "       BatchNorm2d-2           [-1, 32, 63, 63]              64\n",
            "         LeakyReLU-3           [-1, 32, 63, 63]               0\n",
            "         Dropout2d-4           [-1, 32, 63, 63]               0\n",
            "            Conv2d-5           [-1, 64, 31, 31]          18,496\n",
            "       BatchNorm2d-6           [-1, 64, 31, 31]             128\n",
            "         LeakyReLU-7           [-1, 64, 31, 31]               0\n",
            "         Dropout2d-8           [-1, 64, 31, 31]               0\n",
            "            Conv2d-9           [-1, 64, 15, 15]          36,928\n",
            "      BatchNorm2d-10           [-1, 64, 15, 15]             128\n",
            "        LeakyReLU-11           [-1, 64, 15, 15]               0\n",
            "        Dropout2d-12           [-1, 64, 15, 15]               0\n",
            "           Conv2d-13             [-1, 64, 7, 7]          36,928\n",
            "      BatchNorm2d-14             [-1, 64, 7, 7]             128\n",
            "        LeakyReLU-15             [-1, 64, 7, 7]               0\n",
            "        Dropout2d-16             [-1, 64, 7, 7]               0\n",
            "          Flatten-17                 [-1, 3136]               0\n",
            "           Linear-18                  [-1, 256]         803,072\n",
            "           Linear-19                  [-1, 256]         803,072\n",
            "           Linear-20                 [-1, 3136]         805,952\n",
            "        UnFlatten-21             [-1, 64, 7, 7]               0\n",
            "  ConvTranspose2d-22           [-1, 64, 15, 15]          36,928\n",
            "      BatchNorm2d-23           [-1, 64, 15, 15]             128\n",
            "        LeakyReLU-24           [-1, 64, 15, 15]               0\n",
            "        Dropout2d-25           [-1, 64, 15, 15]               0\n",
            "  ConvTranspose2d-26           [-1, 64, 31, 31]          36,928\n",
            "      BatchNorm2d-27           [-1, 64, 31, 31]             128\n",
            "        LeakyReLU-28           [-1, 64, 31, 31]               0\n",
            "        Dropout2d-29           [-1, 64, 31, 31]               0\n",
            "  ConvTranspose2d-30           [-1, 32, 63, 63]          18,464\n",
            "      BatchNorm2d-31           [-1, 32, 63, 63]              64\n",
            "        LeakyReLU-32           [-1, 32, 63, 63]               0\n",
            "        Dropout2d-33           [-1, 32, 63, 63]               0\n",
            "  ConvTranspose2d-34          [-1, 1, 127, 127]             289\n",
            "          Sigmoid-35          [-1, 1, 127, 127]               0\n",
            "================================================================\n",
            "Total params: 2,598,145\n",
            "Trainable params: 2,598,145\n",
            "Non-trainable params: 0\n",
            "----------------------------------------------------------------\n",
            "Input size (MB): 0.06\n",
            "Forward/backward pass size (MB): 12.80\n",
            "Params size (MB): 9.91\n",
            "Estimated Total Size (MB): 22.78\n",
            "----------------------------------------------------------------\n"
          ],
          "name": "stdout"
        }
      ]
    },
    {
      "cell_type": "code",
      "metadata": {
        "colab": {
          "base_uri": "https://localhost:8080/"
        },
        "id": "YWcCRiXrPh-s",
        "outputId": "9c695025-c67a-49d2-9a33-a147679a664d"
      },
      "source": [
        "vae2.train()\r\n",
        "\r\n",
        "for epoch in range(epochs):\r\n",
        "  for i, images in enumerate(trainloader):\r\n",
        "    images = images.to(device)\r\n",
        "    optimizer.zero_grad()\r\n",
        "    reconstructed_image, mean, log_var = vae2(images)\r\n",
        "    CE = RMSELoss(reconstructed_image, images)\r\n",
        "    #CE = F.binary_cross_entropy(reconstructed_image, images, reduction='sum')\r\n",
        "    # for VAE\r\n",
        "    # CE = F.binary_cross_entropy(\r\n",
        "    #             reconstructed_image, images.view(-1, input_size), reduction=\"sum\"\r\n",
        "    #         )\r\n",
        "    KLD = -0.5 * torch.sum(1 + log_var - mean.pow(2) - log_var.exp())\r\n",
        "    loss = factor_loss*CE + KLD\r\n",
        "    loss.backward()\r\n",
        "    train_loss.append(loss.item())\r\n",
        "    optimizer.step()\r\n",
        "\r\n",
        "    if(i % 100 == 0):\r\n",
        "      print(\"Loss:\")\r\n",
        "      print(loss.item() / len(images))"
      ],
      "execution_count": null,
      "outputs": [
        {
          "output_type": "stream",
          "text": [
            "Loss:\n",
            "255.97720336914062\n",
            "Loss:\n",
            "151.26870727539062\n",
            "Loss:\n",
            "147.50689697265625\n",
            "Loss:\n",
            "153.6685028076172\n"
          ],
          "name": "stdout"
        }
      ]
    },
    {
      "cell_type": "code",
      "metadata": {
        "colab": {
          "base_uri": "https://localhost:8080/"
        },
        "id": "IFAnKUrKHrpG",
        "outputId": "f34ca884-2e0c-442d-96ba-e647656722ca"
      },
      "source": [
        "# Cargamos modelo entrenado\r\n",
        "vae.load_state_dict(torch.load(ruta + '/vae1.pth'))"
      ],
      "execution_count": null,
      "outputs": [
        {
          "output_type": "execute_result",
          "data": {
            "text/plain": [
              "<All keys matched successfully>"
            ]
          },
          "metadata": {
            "tags": []
          },
          "execution_count": 34
        }
      ]
    },
    {
      "cell_type": "code",
      "metadata": {
        "id": "xrDkDS4__fDX"
      },
      "source": [
        "plt.plot(train_loss)\r\n",
        "plt.show()"
      ],
      "execution_count": null,
      "outputs": []
    },
    {
      "cell_type": "markdown",
      "metadata": {
        "id": "Lt7DJZtU7l7g"
      },
      "source": [
        "## Generación de una imagen sintética"
      ]
    },
    {
      "cell_type": "code",
      "metadata": {
        "id": "VDcMkHH3BALD"
      },
      "source": [
        "start = torch.randn(1,latent_size)\r\n",
        "with torch.no_grad():\r\n",
        "  z = torch.FloatTensor(start)\r\n",
        "  z = z.reshape((-1, latent_size))\r\n",
        "  z = z.to(device)\r\n",
        "  z = vae2.fc(z)\r\n",
        "  generated_images = vae2.decoder(z)\r\n",
        "  generated_images = generated_images.view(-1, image_size, image_size)\r\n",
        "  img = generated_images[0].cpu()\r\n",
        "  img = img / 2 + 0.5\r\n",
        "  plt.imshow(img, cmap='gray')"
      ],
      "execution_count": null,
      "outputs": []
    },
    {
      "cell_type": "markdown",
      "metadata": {
        "id": "q0mYThDh8Q97"
      },
      "source": [
        "## Evaluamos la reconstrucción de imágenes"
      ]
    },
    {
      "cell_type": "code",
      "metadata": {
        "id": "PnLw8woWJyS5"
      },
      "source": [
        "vae2.eval()\r\n",
        "vectors = []\r\n",
        "with torch.no_grad():\r\n",
        "  for i, images in enumerate(testloader):\r\n",
        "    images = images.to(device)\r\n",
        "    reconstructed_image, mean, log_var = vae2(images)\r\n",
        "    reconstructed_image = reconstructed_image.view(-1, 1, image_size, image_size)\r\n",
        "    temp = list(mean.tolist())\r\n",
        "    for x in temp:\r\n",
        "      vectors.append(x)\r\n",
        "    if(i%100 == 0):\r\n",
        "      show_images(reconstructed_image.cpu())\r\n",
        "      #img_name = images_dir + \"evaluation/DCVAE/\" + str(i).zfill(3)\r\n",
        "      # img_name = images_dir + \"evaluation/VAE/\" + str(i).zfill(3)\r\n",
        "      #plt.savefig(img_name)\r\n",
        "      plt.show()\r\n",
        "      show_images(images.cpu())\r\n",
        "      plt.show()"
      ],
      "execution_count": null,
      "outputs": []
    },
    {
      "cell_type": "code",
      "metadata": {
        "id": "Nc3-SPbQZI0-"
      },
      "source": [
        "torch.save(vae2.state_dict(), ruta + '/vae2_rmse_k1000.pth')"
      ],
      "execution_count": 253,
      "outputs": []
    },
    {
      "cell_type": "code",
      "metadata": {
        "id": "vTFF62XhKUa4"
      },
      "source": [
        ""
      ],
      "execution_count": null,
      "outputs": []
    },
    {
      "cell_type": "code",
      "metadata": {
        "colab": {
          "base_uri": "https://localhost:8080/"
        },
        "id": "KP72AiNeHVqr",
        "outputId": "b12f1b7b-b6aa-4042-ea82-eb4eafef5420"
      },
      "source": [
        "torch.randn(1,32)"
      ],
      "execution_count": null,
      "outputs": [
        {
          "output_type": "execute_result",
          "data": {
            "text/plain": [
              "tensor([[ 0.8084, -1.0964, -1.6488,  1.0668,  1.7259,  1.6095, -1.0049, -0.9723,\n",
              "          0.6944, -0.8953, -0.4756, -1.1805, -2.0021,  0.7330,  0.9015, -1.3063,\n",
              "         -0.0941, -2.4286, -0.3798, -1.0591,  0.1618,  0.1782,  0.7836,  0.3604,\n",
              "         -1.1584,  0.3359,  0.5236, -0.4386, -0.9104, -2.1541, -0.0471,  0.3206]])"
            ]
          },
          "metadata": {
            "tags": []
          },
          "execution_count": 131
        }
      ]
    },
    {
      "cell_type": "code",
      "metadata": {
        "colab": {
          "base_uri": "https://localhost:8080/",
          "height": 231
        },
        "id": "2OBAkO2s_2IE",
        "outputId": "f63ce244-c725-4279-8059-da0e4d4ce2c4"
      },
      "source": [
        "vae.eval()\r\n",
        "start = np.array([-1.8611,  0.3629, -0.1625,  0.6801,  1.2033,  1.0312,  0.5436,  1.3066,\r\n",
        "         0.2905,  0.1377,  0.5122, -0.1663,  2.3431, -0.0896, -0.5873, -1.4804,\r\n",
        "         0.8141, -1.2197,  0.0484,  0.6414, -0.8172, -0.9543, -0.8818, -1.1465,\r\n",
        "         0.2720,  1.1792,  1.8410, -0.4715,  1.4380,  0.5139,  1.2099, -0.5012])\r\n",
        "middle = np.array([-0.4763, -0.4644, -0.3850,  0.6598,  0.9110,  0.4451,  0.4617, -0.0526,\r\n",
        "         0.2808,  0.6080,  0.5532, -1.5506, -0.5199,  0.1359,  0.0373,  0.4284,\r\n",
        "        -0.4134, -1.7078, -0.0309, -1.0195, -0.3151, -0.5569,  0.2832, -0.9132,\r\n",
        "        -1.1339, -1.3196,  2.1297,  0.8122,  0.6849, -0.6710, -0.3507, -0.9001])\r\n",
        "end = np.array([-1.6239,  0.2496, -1.0690, -0.8745,  0.4133,  2.2452, -0.2385, -0.6532,\r\n",
        "         0.3818, -0.9425,  0.9404,  1.3901, -0.3327, -0.3719, -0.0365,  0.3240,\r\n",
        "         0.4928, -0.4988, -1.2228, -0.1638,  0.6093, -0.5264, -1.6963, -0.3718,\r\n",
        "         2.1971,  0.2166, -0.0821, -0.1722, -0.1896, -1.6610, -0.1497,  1.0655])\r\n",
        "#points = 50\r\n",
        "#linfit = interpolate.interp1d([1, points/2, points], np.vstack([start, middle, end]), axis=0)\r\n",
        "with torch.no_grad():\r\n",
        "  for i in range(3):\r\n",
        "    z = linfit(i)\r\n",
        "    z = torch.FloatTensor(z)\r\n",
        "    print(z.shape)\r\n",
        "    z = z.reshape((-1, 32))\r\n",
        "    z = z.to(device)\r\n",
        "    z = vae.fc(z)\r\n",
        "    generated_images = vae.decoder(z)\r\n",
        "    generated_images = generated_images.view(-1, 64, 64)\r\n",
        "    img = generated_images[0].cpu()\r\n",
        "    plt.imshow(img)\r\n",
        "    img_name = images_dir + 'interpolate/' + str(i).zfill(3)\r\n",
        "    plt.savefig(img_name)\r\n",
        "    plt.show()"
      ],
      "execution_count": null,
      "outputs": [
        {
          "output_type": "error",
          "ename": "NameError",
          "evalue": "ignored",
          "traceback": [
            "\u001b[0;31m---------------------------------------------------------------------------\u001b[0m",
            "\u001b[0;31mNameError\u001b[0m                                 Traceback (most recent call last)",
            "\u001b[0;32m<ipython-input-35-442c17abe569>\u001b[0m in \u001b[0;36m<module>\u001b[0;34m()\u001b[0m\n\u001b[1;32m     16\u001b[0m \u001b[0;32mwith\u001b[0m \u001b[0mtorch\u001b[0m\u001b[0;34m.\u001b[0m\u001b[0mno_grad\u001b[0m\u001b[0;34m(\u001b[0m\u001b[0;34m)\u001b[0m\u001b[0;34m:\u001b[0m\u001b[0;34m\u001b[0m\u001b[0;34m\u001b[0m\u001b[0m\n\u001b[1;32m     17\u001b[0m   \u001b[0;32mfor\u001b[0m \u001b[0mi\u001b[0m \u001b[0;32min\u001b[0m \u001b[0mrange\u001b[0m\u001b[0;34m(\u001b[0m\u001b[0;36m3\u001b[0m\u001b[0;34m)\u001b[0m\u001b[0;34m:\u001b[0m\u001b[0;34m\u001b[0m\u001b[0;34m\u001b[0m\u001b[0m\n\u001b[0;32m---> 18\u001b[0;31m     \u001b[0mz\u001b[0m \u001b[0;34m=\u001b[0m \u001b[0mlinfit\u001b[0m\u001b[0;34m(\u001b[0m\u001b[0mi\u001b[0m\u001b[0;34m)\u001b[0m\u001b[0;34m\u001b[0m\u001b[0;34m\u001b[0m\u001b[0m\n\u001b[0m\u001b[1;32m     19\u001b[0m     \u001b[0mz\u001b[0m \u001b[0;34m=\u001b[0m \u001b[0mtorch\u001b[0m\u001b[0;34m.\u001b[0m\u001b[0mFloatTensor\u001b[0m\u001b[0;34m(\u001b[0m\u001b[0mz\u001b[0m\u001b[0;34m)\u001b[0m\u001b[0;34m\u001b[0m\u001b[0;34m\u001b[0m\u001b[0m\n\u001b[1;32m     20\u001b[0m     \u001b[0mprint\u001b[0m\u001b[0;34m(\u001b[0m\u001b[0mz\u001b[0m\u001b[0;34m.\u001b[0m\u001b[0mshape\u001b[0m\u001b[0;34m)\u001b[0m\u001b[0;34m\u001b[0m\u001b[0;34m\u001b[0m\u001b[0m\n",
            "\u001b[0;31mNameError\u001b[0m: name 'linfit' is not defined"
          ]
        }
      ]
    },
    {
      "cell_type": "code",
      "metadata": {
        "colab": {
          "base_uri": "https://localhost:8080/",
          "height": 319
        },
        "id": "HNwWfGtwiYk8",
        "outputId": "5088a26b-5f7e-4ac4-b1dc-cc20ec145d41"
      },
      "source": [
        "# Grab a sample image\r\n",
        "import random\r\n",
        "\r\n",
        "idx = random.randint(0,10)\r\n",
        "tensor = rsna_dataset[idx]\r\n",
        "print(tensor.shape)\r\n",
        "image = np.squeeze(tensor.numpy())\r\n",
        "print(image.shape)\r\n",
        "image = (image - np.min(image)) / (np.max(image) - np.min(image))\r\n",
        "#image = image.transpose((1, 2, 0))\r\n",
        "plt.imshow(image, cmap='gray')"
      ],
      "execution_count": null,
      "outputs": [
        {
          "output_type": "stream",
          "text": [
            "torch.Size([1, 128, 128])\n",
            "(128, 128)\n"
          ],
          "name": "stdout"
        },
        {
          "output_type": "execute_result",
          "data": {
            "text/plain": [
              "<matplotlib.image.AxesImage at 0x7f917680c110>"
            ]
          },
          "metadata": {
            "tags": []
          },
          "execution_count": 30
        },
        {
          "output_type": "display_data",
          "data": {
            "image/png": "[encoded data removed]",
            "text/plain": [
              "<Figure size 432x288 with 1 Axes>"
            ]
          },
          "metadata": {
            "tags": [],
            "needs_background": "light"
          }
        }
      ]
    },
    {
      "cell_type": "code",
      "metadata": {
        "id": "GELkuPLVfYvB"
      },
      "source": [
        "batch_size = 16          # number of inputs in each batch\r\n",
        "epochs = 2               # times to run the model on complete data\r\n",
        "image_size = 128\r\n",
        "hidden_size = 1024        # hidden dimension\r\n",
        "latent_size = 32          # latent vector dimension\r\n",
        "lr = 1e-3                 # learning rate\r\n",
        "train_loss = []"
      ],
      "execution_count": null,
      "outputs": []
    },
    {
      "cell_type": "code",
      "metadata": {
        "colab": {
          "base_uri": "https://localhost:8080/"
        },
        "id": "mAiwXz3pcRdl",
        "outputId": "f51d9918-9872-4b37-d2a9-32fd61541b50"
      },
      "source": [
        "class Autoencoder(nn.Module):\r\n",
        "    def __init__(self):\r\n",
        "        super(Autoencoder, self).__init__()\r\n",
        "        # encoder\r\n",
        "        self.enc1 = nn.Conv2d(\r\n",
        "            in_channels=1, out_channels=32, kernel_size=3\r\n",
        "        )\r\n",
        "        self.enc2 = nn.Conv2d(\r\n",
        "            in_channels=32, out_channels=64, kernel_size=3\r\n",
        "        )\r\n",
        "        self.enc3 = nn.Conv2d(\r\n",
        "            in_channels=64, out_channels=64, kernel_size=3\r\n",
        "        )\r\n",
        "        self.enc4 = nn.Conv2d(\r\n",
        "            in_channels=1, out_channels=8, kernel_size=3\r\n",
        "        )\r\n",
        "        # decoder \r\n",
        "        self.dec1 = nn.ConvTranspose2d(\r\n",
        "            in_channels=64, out_channels=64, kernel_size=3\r\n",
        "        )\r\n",
        "        self.dec2 = nn.ConvTranspose2d(\r\n",
        "            in_channels=8, out_channels=1, kernel_size=3\r\n",
        "        )\r\n",
        "        self.dec3 = nn.ConvTranspose2d(\r\n",
        "            in_channels=8, out_channels=1, kernel_size=3\r\n",
        "        )\r\n",
        "        self.dec4 = nn.ConvTranspose2d(\r\n",
        "            in_channels=8, out_channels=1, kernel_size=3\r\n",
        "        )\r\n",
        "    def forward(self, x):\r\n",
        "        x = F.relu(self.enc1(x))\r\n",
        "        x = F.relu(self.enc2(x))\r\n",
        "        x = F.relu(self.enc3(x))\r\n",
        "        x = F.relu(self.enc4(x))\r\n",
        "        x = F.relu(self.dec1(x))\r\n",
        "        x = F.relu(self.dec2(x))\r\n",
        "        x = F.relu(self.dec3(x))\r\n",
        "        x = F.relu(self.dec4(x))\r\n",
        "        return x\r\n",
        "\r\n",
        "model = Autoencoder().to(device)\r\n",
        "print(model)\r\n"
      ],
      "execution_count": null,
      "outputs": [
        {
          "output_type": "stream",
          "text": [
            "Autoencoder(\n",
            "  (enc1): Conv2d(1, 32, kernel_size=(3, 3), stride=(1, 1))\n",
            "  (enc2): Conv2d(32, 64, kernel_size=(3, 3), stride=(1, 1))\n",
            "  (enc3): Conv2d(64, 64, kernel_size=(3, 3), stride=(1, 1))\n",
            "  (enc4): Conv2d(1, 8, kernel_size=(3, 3), stride=(1, 1))\n",
            "  (dec1): ConvTranspose2d(64, 64, kernel_size=(3, 3), stride=(1, 1))\n",
            "  (dec2): ConvTranspose2d(8, 1, kernel_size=(3, 3), stride=(1, 1))\n",
            "  (dec3): ConvTranspose2d(8, 1, kernel_size=(3, 3), stride=(1, 1))\n",
            "  (dec4): ConvTranspose2d(8, 1, kernel_size=(3, 3), stride=(1, 1))\n",
            ")\n"
          ],
          "name": "stdout"
        }
      ]
    },
    {
      "cell_type": "code",
      "metadata": {
        "id": "4dY3yw2KhnVd"
      },
      "source": [
        "kernel_size = 3 # (3, 3) kernel\r\n",
        "init_channels = 8 # initial number of filters\r\n",
        "image_channels = 1 # MNIST images are grayscale\r\n",
        "latent_dim = 16 # latent dimension for sampling"
      ],
      "execution_count": null,
      "outputs": []
    },
    {
      "cell_type": "code",
      "metadata": {
        "id": "22uJB5IVhcVY"
      },
      "source": [
        "# define a Conv VAE\r\n",
        "class ConvVAE(nn.Module):\r\n",
        "    def __init__(self):\r\n",
        "        super(ConvVAE, self).__init__()\r\n",
        " \r\n",
        "        # encoder\r\n",
        "        self.enc1 = nn.Conv2d(\r\n",
        "            in_channels=image_channels, out_channels=init_channels, kernel_size=kernel_size, \r\n",
        "            stride=2, padding=1\r\n",
        "        )\r\n",
        "        self.enc2 = nn.Conv2d(\r\n",
        "            in_channels=init_channels, out_channels=init_channels*2, kernel_size=kernel_size, \r\n",
        "            stride=2, padding=1\r\n",
        "        )\r\n",
        "        self.enc3 = nn.Conv2d(\r\n",
        "            in_channels=init_channels*2, out_channels=init_channels*4, kernel_size=kernel_size, \r\n",
        "            stride=2, padding=1\r\n",
        "        )\r\n",
        "        self.enc4 = nn.Conv2d(\r\n",
        "            in_channels=init_channels*4, out_channels=init_channels*8, kernel_size=kernel_size, \r\n",
        "            stride=2, padding=0\r\n",
        "        )\r\n",
        "        # fully connected layers for learning representations\r\n",
        "        self.fc1 = nn.Linear(64, 128)\r\n",
        "        self.fc_mu = nn.Linear(128, latent_dim)\r\n",
        "        self.fc_log_var = nn.Linear(128, latent_dim)\r\n",
        "        self.fc2 = nn.Linear(latent_dim, 64)\r\n",
        "        # decoder \r\n",
        "        self.dec1 = nn.ConvTranspose2d(\r\n",
        "            in_channels=64, out_channels=init_channels*8, kernel_size=kernel_size, \r\n",
        "            stride=1, padding=0\r\n",
        "        )\r\n",
        "        self.dec2 = nn.ConvTranspose2d(\r\n",
        "            in_channels=init_channels*8, out_channels=init_channels*4, kernel_size=kernel_size, \r\n",
        "            stride=2, padding=1\r\n",
        "        )\r\n",
        "        self.dec3 = nn.ConvTranspose2d(\r\n",
        "            in_channels=init_channels*4, out_channels=init_channels*2, kernel_size=kernel_size, \r\n",
        "            stride=2, padding=1\r\n",
        "        )\r\n",
        "        self.dec4 = nn.ConvTranspose2d(\r\n",
        "            in_channels=init_channels*2, out_channels=image_channels, kernel_size=kernel_size, \r\n",
        "            stride=2, padding=1\r\n",
        "        )\r\n",
        "    def reparameterize(self, mu, log_var):\r\n",
        "        \"\"\"\r\n",
        "        :param mu: mean from the encoder's latent space\r\n",
        "        :param log_var: log variance from the encoder's latent space\r\n",
        "        \"\"\"\r\n",
        "        std = torch.exp(0.5*log_var) # standard deviation\r\n",
        "        eps = torch.randn_like(std) # `randn_like` as we need the same size\r\n",
        "        sample = mu + (eps * std) # sampling\r\n",
        "        return sample\r\n",
        " \r\n",
        "    def forward(self, x):\r\n",
        "        # encoding\r\n",
        "        x = F.relu(self.enc1(x))\r\n",
        "        x = F.relu(self.enc2(x))\r\n",
        "        x = F.relu(self.enc3(x))\r\n",
        "        x = F.relu(self.enc4(x))\r\n",
        "        batch, _, _, _ = x.shape\r\n",
        "        x = F.adaptive_avg_pool2d(x, 1).reshape(batch, -1)\r\n",
        "        hidden = self.fc1(x)\r\n",
        "        # get `mu` and `log_var`\r\n",
        "        mu = self.fc_mu(hidden)\r\n",
        "        log_var = self.fc_log_var(hidden)\r\n",
        "        # get the latent vector through reparameterization\r\n",
        "        z = self.reparameterize(mu, log_var)\r\n",
        "        z = self.fc2(z)\r\n",
        "        z = z.view(-1, 64, 1, 1)\r\n",
        " \r\n",
        "        # decoding\r\n",
        "        x = F.relu(self.dec1(z))\r\n",
        "        x = F.relu(self.dec2(x))\r\n",
        "        x = F.relu(self.dec3(x))\r\n",
        "        reconstruction = torch.sigmoid(self.dec4(x))\r\n",
        "        return reconstruction, mu, log_var\r\n"
      ],
      "execution_count": null,
      "outputs": []
    },
    {
      "cell_type": "code",
      "metadata": {
        "id": "vdtsO2qIhl_i"
      },
      "source": [
        "# initialize the model\r\n",
        "model = ConvVAE().to(device)\r\n",
        "# set the learning parameters\r\n",
        "lr = 0.001\r\n",
        "epochs = 2\r\n",
        "batch_size = 16\r\n",
        "optimizer = optim.Adam(model.parameters(), lr=lr)\r\n",
        "criterion = nn.BCELoss(reduction='sum')\r\n",
        "# a list to save all the reconstructed images in PyTorch grid format\r\n",
        "grid_images = []"
      ],
      "execution_count": null,
      "outputs": []
    },
    {
      "cell_type": "code",
      "metadata": {
        "id": "ybYS2FAVmYXF"
      },
      "source": [
        "from tqdm import tqdm\r\n",
        "import torch \r\n",
        "def final_loss(bce_loss, mu, logvar):\r\n",
        "    \"\"\"\r\n",
        "    This function will add the reconstruction loss (BCELoss) and the \r\n",
        "    KL-Divergence.\r\n",
        "    KL-Divergence = 0.5 * sum(1 + log(sigma^2) - mu^2 - sigma^2)\r\n",
        "    :param bce_loss: recontruction loss\r\n",
        "    :param mu: the mean from the latent vector\r\n",
        "    :param logvar: log variance from the latent vector\r\n",
        "    \"\"\"\r\n",
        "    BCE = bce_loss \r\n",
        "    KLD = -0.5 * torch.sum(1 + logvar - mu.pow(2) - logvar.exp())\r\n",
        "    return BCE + KLD"
      ],
      "execution_count": null,
      "outputs": []
    },
    {
      "cell_type": "code",
      "metadata": {
        "id": "KeEyOJmtmLdS"
      },
      "source": [
        "def train(model, dataloader, dataset, device, optimizer, criterion):\r\n",
        "    model.train()\r\n",
        "    running_loss = 0.0\r\n",
        "    counter = 0\r\n",
        "    for i, data in tqdm(enumerate(dataloader), total=int(len(dataset)/dataloader.batch_size)):\r\n",
        "        counter += 1\r\n",
        "        data = data[0]\r\n",
        "        data = data.to(device)\r\n",
        "        optimizer.zero_grad()\r\n",
        "        reconstruction, mu, logvar = model(data)\r\n",
        "        bce_loss = criterion(reconstruction, data)\r\n",
        "        loss = final_loss(bce_loss, mu, logvar)\r\n",
        "        loss.backward()\r\n",
        "        running_loss += loss.item()\r\n",
        "        optimizer.step()\r\n",
        "    train_loss = running_loss / counter \r\n",
        "    return train_loss"
      ],
      "execution_count": null,
      "outputs": []
    },
    {
      "cell_type": "code",
      "metadata": {
        "colab": {
          "base_uri": "https://localhost:8080/"
        },
        "id": "EtkiEgLZp56A",
        "outputId": "94e09b19-1e4c-4e9d-8a6e-82939cc46e33"
      },
      "source": [
        "len(rsna_dataset)"
      ],
      "execution_count": null,
      "outputs": [
        {
          "output_type": "execute_result",
          "data": {
            "text/plain": [
              "7214"
            ]
          },
          "metadata": {
            "tags": []
          },
          "execution_count": 39
        }
      ]
    },
    {
      "cell_type": "code",
      "metadata": {
        "colab": {
          "base_uri": "https://localhost:8080/",
          "height": 408
        },
        "id": "JLkVHEQuj47f",
        "outputId": "34ffce04-6163-4033-d2b9-406dd40ec58b"
      },
      "source": [
        "train_loss = []\r\n",
        "valid_loss = []\r\n",
        "for epoch in range(epochs):\r\n",
        "    print(f\"Epoch {epoch+1} of {epochs}\")\r\n",
        "    train_epoch_loss = train(\r\n",
        "        model, trainloader, rsna_dataset, device, optimizer, criterion\r\n",
        "    )\r\n",
        "    valid_epoch_loss, recon_images = validate(\r\n",
        "        model, trainloader, rsna_dataset, device, criterion\r\n",
        "    )\r\n",
        "    train_loss.append(train_epoch_loss)\r\n",
        "    valid_loss.append(valid_epoch_loss)\r\n",
        "    # save the reconstructed images from the validation loop\r\n",
        "    save_reconstructed_images(recon_images, epoch+1)\r\n",
        "    # convert the reconstructed images to PyTorch image grid format\r\n",
        "    image_grid = make_grid(recon_images.detach().cpu())\r\n",
        "    grid_images.append(image_grid)\r\n",
        "    print(f\"Train Loss: {train_epoch_loss:.4f}\")\r\n",
        "    print(f\"Val Loss: {valid_epoch_loss:.4f}\")"
      ],
      "execution_count": null,
      "outputs": [
        {
          "output_type": "stream",
          "text": [
            "\r  0%|          | 0/450 [00:00<?, ?it/s]"
          ],
          "name": "stderr"
        },
        {
          "output_type": "stream",
          "text": [
            "Epoch 1 of 2\n"
          ],
          "name": "stdout"
        },
        {
          "output_type": "stream",
          "text": [
            "\r  0%|          | 0/450 [00:05<?, ?it/s]\n"
          ],
          "name": "stderr"
        },
        {
          "output_type": "error",
          "ename": "RuntimeError",
          "evalue": "ignored",
          "traceback": [
            "\u001b[0;31m---------------------------------------------------------------------------\u001b[0m",
            "\u001b[0;31mRuntimeError\u001b[0m                              Traceback (most recent call last)",
            "\u001b[0;32m<ipython-input-40-0aab5402fd08>\u001b[0m in \u001b[0;36m<module>\u001b[0;34m()\u001b[0m\n\u001b[1;32m      4\u001b[0m     \u001b[0mprint\u001b[0m\u001b[0;34m(\u001b[0m\u001b[0;34mf\"Epoch {epoch+1} of {epochs}\"\u001b[0m\u001b[0;34m)\u001b[0m\u001b[0;34m\u001b[0m\u001b[0;34m\u001b[0m\u001b[0m\n\u001b[1;32m      5\u001b[0m     train_epoch_loss = train(\n\u001b[0;32m----> 6\u001b[0;31m         \u001b[0mmodel\u001b[0m\u001b[0;34m,\u001b[0m \u001b[0mtrainloader\u001b[0m\u001b[0;34m,\u001b[0m \u001b[0mrsna_dataset\u001b[0m\u001b[0;34m,\u001b[0m \u001b[0mdevice\u001b[0m\u001b[0;34m,\u001b[0m \u001b[0moptimizer\u001b[0m\u001b[0;34m,\u001b[0m \u001b[0mcriterion\u001b[0m\u001b[0;34m\u001b[0m\u001b[0;34m\u001b[0m\u001b[0m\n\u001b[0m\u001b[1;32m      7\u001b[0m     )\n\u001b[1;32m      8\u001b[0m     valid_epoch_loss, recon_images = validate(\n",
            "\u001b[0;32m<ipython-input-35-46127bb0e169>\u001b[0m in \u001b[0;36mtrain\u001b[0;34m(model, dataloader, dataset, device, optimizer, criterion)\u001b[0m\n\u001b[1;32m      8\u001b[0m         \u001b[0mdata\u001b[0m \u001b[0;34m=\u001b[0m \u001b[0mdata\u001b[0m\u001b[0;34m.\u001b[0m\u001b[0mto\u001b[0m\u001b[0;34m(\u001b[0m\u001b[0mdevice\u001b[0m\u001b[0;34m)\u001b[0m\u001b[0;34m\u001b[0m\u001b[0;34m\u001b[0m\u001b[0m\n\u001b[1;32m      9\u001b[0m         \u001b[0moptimizer\u001b[0m\u001b[0;34m.\u001b[0m\u001b[0mzero_grad\u001b[0m\u001b[0;34m(\u001b[0m\u001b[0;34m)\u001b[0m\u001b[0;34m\u001b[0m\u001b[0;34m\u001b[0m\u001b[0m\n\u001b[0;32m---> 10\u001b[0;31m         \u001b[0mreconstruction\u001b[0m\u001b[0;34m,\u001b[0m \u001b[0mmu\u001b[0m\u001b[0;34m,\u001b[0m \u001b[0mlogvar\u001b[0m \u001b[0;34m=\u001b[0m \u001b[0mmodel\u001b[0m\u001b[0;34m(\u001b[0m\u001b[0mdata\u001b[0m\u001b[0;34m)\u001b[0m\u001b[0;34m\u001b[0m\u001b[0;34m\u001b[0m\u001b[0m\n\u001b[0m\u001b[1;32m     11\u001b[0m         \u001b[0mbce_loss\u001b[0m \u001b[0;34m=\u001b[0m \u001b[0mcriterion\u001b[0m\u001b[0;34m(\u001b[0m\u001b[0mreconstruction\u001b[0m\u001b[0;34m,\u001b[0m \u001b[0mdata\u001b[0m\u001b[0;34m)\u001b[0m\u001b[0;34m\u001b[0m\u001b[0;34m\u001b[0m\u001b[0m\n\u001b[1;32m     12\u001b[0m         \u001b[0mloss\u001b[0m \u001b[0;34m=\u001b[0m \u001b[0mfinal_loss\u001b[0m\u001b[0;34m(\u001b[0m\u001b[0mbce_loss\u001b[0m\u001b[0;34m,\u001b[0m \u001b[0mmu\u001b[0m\u001b[0;34m,\u001b[0m \u001b[0mlogvar\u001b[0m\u001b[0;34m)\u001b[0m\u001b[0;34m\u001b[0m\u001b[0;34m\u001b[0m\u001b[0m\n",
            "\u001b[0;32m/usr/local/lib/python3.7/dist-packages/torch/nn/modules/module.py\u001b[0m in \u001b[0;36m_call_impl\u001b[0;34m(self, *input, **kwargs)\u001b[0m\n\u001b[1;32m    725\u001b[0m             \u001b[0mresult\u001b[0m \u001b[0;34m=\u001b[0m \u001b[0mself\u001b[0m\u001b[0;34m.\u001b[0m\u001b[0m_slow_forward\u001b[0m\u001b[0;34m(\u001b[0m\u001b[0;34m*\u001b[0m\u001b[0minput\u001b[0m\u001b[0;34m,\u001b[0m \u001b[0;34m**\u001b[0m\u001b[0mkwargs\u001b[0m\u001b[0;34m)\u001b[0m\u001b[0;34m\u001b[0m\u001b[0;34m\u001b[0m\u001b[0m\n\u001b[1;32m    726\u001b[0m         \u001b[0;32melse\u001b[0m\u001b[0;34m:\u001b[0m\u001b[0;34m\u001b[0m\u001b[0;34m\u001b[0m\u001b[0m\n\u001b[0;32m--> 727\u001b[0;31m             \u001b[0mresult\u001b[0m \u001b[0;34m=\u001b[0m \u001b[0mself\u001b[0m\u001b[0;34m.\u001b[0m\u001b[0mforward\u001b[0m\u001b[0;34m(\u001b[0m\u001b[0;34m*\u001b[0m\u001b[0minput\u001b[0m\u001b[0;34m,\u001b[0m \u001b[0;34m**\u001b[0m\u001b[0mkwargs\u001b[0m\u001b[0;34m)\u001b[0m\u001b[0;34m\u001b[0m\u001b[0;34m\u001b[0m\u001b[0m\n\u001b[0m\u001b[1;32m    728\u001b[0m         for hook in itertools.chain(\n\u001b[1;32m    729\u001b[0m                 \u001b[0m_global_forward_hooks\u001b[0m\u001b[0;34m.\u001b[0m\u001b[0mvalues\u001b[0m\u001b[0;34m(\u001b[0m\u001b[0;34m)\u001b[0m\u001b[0;34m,\u001b[0m\u001b[0;34m\u001b[0m\u001b[0;34m\u001b[0m\u001b[0m\n",
            "\u001b[0;32m<ipython-input-26-473430cb3637>\u001b[0m in \u001b[0;36mforward\u001b[0;34m(self, x)\u001b[0m\n\u001b[1;32m     55\u001b[0m     \u001b[0;32mdef\u001b[0m \u001b[0mforward\u001b[0m\u001b[0;34m(\u001b[0m\u001b[0mself\u001b[0m\u001b[0;34m,\u001b[0m \u001b[0mx\u001b[0m\u001b[0;34m)\u001b[0m\u001b[0;34m:\u001b[0m\u001b[0;34m\u001b[0m\u001b[0;34m\u001b[0m\u001b[0m\n\u001b[1;32m     56\u001b[0m         \u001b[0;31m# encoding\u001b[0m\u001b[0;34m\u001b[0m\u001b[0;34m\u001b[0m\u001b[0;34m\u001b[0m\u001b[0m\n\u001b[0;32m---> 57\u001b[0;31m         \u001b[0mx\u001b[0m \u001b[0;34m=\u001b[0m \u001b[0mF\u001b[0m\u001b[0;34m.\u001b[0m\u001b[0mrelu\u001b[0m\u001b[0;34m(\u001b[0m\u001b[0mself\u001b[0m\u001b[0;34m.\u001b[0m\u001b[0menc1\u001b[0m\u001b[0;34m(\u001b[0m\u001b[0mx\u001b[0m\u001b[0;34m)\u001b[0m\u001b[0;34m)\u001b[0m\u001b[0;34m\u001b[0m\u001b[0;34m\u001b[0m\u001b[0m\n\u001b[0m\u001b[1;32m     58\u001b[0m         \u001b[0mx\u001b[0m \u001b[0;34m=\u001b[0m \u001b[0mF\u001b[0m\u001b[0;34m.\u001b[0m\u001b[0mrelu\u001b[0m\u001b[0;34m(\u001b[0m\u001b[0mself\u001b[0m\u001b[0;34m.\u001b[0m\u001b[0menc2\u001b[0m\u001b[0;34m(\u001b[0m\u001b[0mx\u001b[0m\u001b[0;34m)\u001b[0m\u001b[0;34m)\u001b[0m\u001b[0;34m\u001b[0m\u001b[0;34m\u001b[0m\u001b[0m\n\u001b[1;32m     59\u001b[0m         \u001b[0mx\u001b[0m \u001b[0;34m=\u001b[0m \u001b[0mF\u001b[0m\u001b[0;34m.\u001b[0m\u001b[0mrelu\u001b[0m\u001b[0;34m(\u001b[0m\u001b[0mself\u001b[0m\u001b[0;34m.\u001b[0m\u001b[0menc3\u001b[0m\u001b[0;34m(\u001b[0m\u001b[0mx\u001b[0m\u001b[0;34m)\u001b[0m\u001b[0;34m)\u001b[0m\u001b[0;34m\u001b[0m\u001b[0;34m\u001b[0m\u001b[0m\n",
            "\u001b[0;32m/usr/local/lib/python3.7/dist-packages/torch/nn/modules/module.py\u001b[0m in \u001b[0;36m_call_impl\u001b[0;34m(self, *input, **kwargs)\u001b[0m\n\u001b[1;32m    725\u001b[0m             \u001b[0mresult\u001b[0m \u001b[0;34m=\u001b[0m \u001b[0mself\u001b[0m\u001b[0;34m.\u001b[0m\u001b[0m_slow_forward\u001b[0m\u001b[0;34m(\u001b[0m\u001b[0;34m*\u001b[0m\u001b[0minput\u001b[0m\u001b[0;34m,\u001b[0m \u001b[0;34m**\u001b[0m\u001b[0mkwargs\u001b[0m\u001b[0;34m)\u001b[0m\u001b[0;34m\u001b[0m\u001b[0;34m\u001b[0m\u001b[0m\n\u001b[1;32m    726\u001b[0m         \u001b[0;32melse\u001b[0m\u001b[0;34m:\u001b[0m\u001b[0;34m\u001b[0m\u001b[0;34m\u001b[0m\u001b[0m\n\u001b[0;32m--> 727\u001b[0;31m             \u001b[0mresult\u001b[0m \u001b[0;34m=\u001b[0m \u001b[0mself\u001b[0m\u001b[0;34m.\u001b[0m\u001b[0mforward\u001b[0m\u001b[0;34m(\u001b[0m\u001b[0;34m*\u001b[0m\u001b[0minput\u001b[0m\u001b[0;34m,\u001b[0m \u001b[0;34m**\u001b[0m\u001b[0mkwargs\u001b[0m\u001b[0;34m)\u001b[0m\u001b[0;34m\u001b[0m\u001b[0;34m\u001b[0m\u001b[0m\n\u001b[0m\u001b[1;32m    728\u001b[0m         for hook in itertools.chain(\n\u001b[1;32m    729\u001b[0m                 \u001b[0m_global_forward_hooks\u001b[0m\u001b[0;34m.\u001b[0m\u001b[0mvalues\u001b[0m\u001b[0;34m(\u001b[0m\u001b[0;34m)\u001b[0m\u001b[0;34m,\u001b[0m\u001b[0;34m\u001b[0m\u001b[0;34m\u001b[0m\u001b[0m\n",
            "\u001b[0;32m/usr/local/lib/python3.7/dist-packages/torch/nn/modules/conv.py\u001b[0m in \u001b[0;36mforward\u001b[0;34m(self, input)\u001b[0m\n\u001b[1;32m    421\u001b[0m \u001b[0;34m\u001b[0m\u001b[0m\n\u001b[1;32m    422\u001b[0m     \u001b[0;32mdef\u001b[0m \u001b[0mforward\u001b[0m\u001b[0;34m(\u001b[0m\u001b[0mself\u001b[0m\u001b[0;34m,\u001b[0m \u001b[0minput\u001b[0m\u001b[0;34m:\u001b[0m \u001b[0mTensor\u001b[0m\u001b[0;34m)\u001b[0m \u001b[0;34m->\u001b[0m \u001b[0mTensor\u001b[0m\u001b[0;34m:\u001b[0m\u001b[0;34m\u001b[0m\u001b[0;34m\u001b[0m\u001b[0m\n\u001b[0;32m--> 423\u001b[0;31m         \u001b[0;32mreturn\u001b[0m \u001b[0mself\u001b[0m\u001b[0;34m.\u001b[0m\u001b[0m_conv_forward\u001b[0m\u001b[0;34m(\u001b[0m\u001b[0minput\u001b[0m\u001b[0;34m,\u001b[0m \u001b[0mself\u001b[0m\u001b[0;34m.\u001b[0m\u001b[0mweight\u001b[0m\u001b[0;34m)\u001b[0m\u001b[0;34m\u001b[0m\u001b[0;34m\u001b[0m\u001b[0m\n\u001b[0m\u001b[1;32m    424\u001b[0m \u001b[0;34m\u001b[0m\u001b[0m\n\u001b[1;32m    425\u001b[0m \u001b[0;32mclass\u001b[0m \u001b[0mConv3d\u001b[0m\u001b[0;34m(\u001b[0m\u001b[0m_ConvNd\u001b[0m\u001b[0;34m)\u001b[0m\u001b[0;34m:\u001b[0m\u001b[0;34m\u001b[0m\u001b[0;34m\u001b[0m\u001b[0m\n",
            "\u001b[0;32m/usr/local/lib/python3.7/dist-packages/torch/nn/modules/conv.py\u001b[0m in \u001b[0;36m_conv_forward\u001b[0;34m(self, input, weight)\u001b[0m\n\u001b[1;32m    418\u001b[0m                             _pair(0), self.dilation, self.groups)\n\u001b[1;32m    419\u001b[0m         return F.conv2d(input, weight, self.bias, self.stride,\n\u001b[0;32m--> 420\u001b[0;31m                         self.padding, self.dilation, self.groups)\n\u001b[0m\u001b[1;32m    421\u001b[0m \u001b[0;34m\u001b[0m\u001b[0m\n\u001b[1;32m    422\u001b[0m     \u001b[0;32mdef\u001b[0m \u001b[0mforward\u001b[0m\u001b[0;34m(\u001b[0m\u001b[0mself\u001b[0m\u001b[0;34m,\u001b[0m \u001b[0minput\u001b[0m\u001b[0;34m:\u001b[0m \u001b[0mTensor\u001b[0m\u001b[0;34m)\u001b[0m \u001b[0;34m->\u001b[0m \u001b[0mTensor\u001b[0m\u001b[0;34m:\u001b[0m\u001b[0;34m\u001b[0m\u001b[0;34m\u001b[0m\u001b[0m\n",
            "\u001b[0;31mRuntimeError\u001b[0m: Expected 4-dimensional input for 4-dimensional weight [32, 1, 3, 3], but got 3-dimensional input of size [1, 128, 128] instead"
          ]
        }
      ]
    },
    {
      "cell_type": "code",
      "metadata": {
        "id": "JhkXdpP7dCft"
      },
      "source": [
        "#Loss function\r\n",
        "criterion = nn.MSELoss() # BinaryCrossEntropy\r\n",
        "\r\n",
        "#Optimizer\r\n",
        "optimizer = torch.optim.Adam(model.parameters(), lr=0.001)"
      ],
      "execution_count": null,
      "outputs": []
    },
    {
      "cell_type": "code",
      "metadata": {
        "colab": {
          "base_uri": "https://localhost:8080/",
          "height": 391
        },
        "id": "pQDA0Z-9dI6M",
        "outputId": "06e0b43a-aaeb-4968-e488-bef986b456a2"
      },
      "source": [
        "NUM_EPOCHS=2\r\n",
        "train_loss = []\r\n",
        "model.train()\r\n",
        "for epoch in range(NUM_EPOCHS):\r\n",
        "    running_loss = 0.0\r\n",
        "    for data in trainloader:\r\n",
        "        img = data # no need for the labels\r\n",
        "        print(img.shape)\r\n",
        "        img = img.to(device)\r\n",
        "        optimizer.zero_grad()\r\n",
        "        outputs = model(img)\r\n",
        "        loss = criterion(outputs, img)\r\n",
        "        loss.backward()\r\n",
        "        optimizer.step()\r\n",
        "        running_loss += loss.item()*img.size(0)\r\n",
        "        \r\n",
        "    loss = running_loss / len(trainloader)\r\n",
        "    train_loss.append(loss)\r\n",
        "    print('Epoch {} of {}, Train Loss: {:.3f}'.format(\r\n",
        "        epoch+1, NUM_EPOCHS, loss))"
      ],
      "execution_count": null,
      "outputs": [
        {
          "output_type": "stream",
          "text": [
            "torch.Size([16, 1, 128, 128])\n"
          ],
          "name": "stdout"
        },
        {
          "output_type": "error",
          "ename": "RuntimeError",
          "evalue": "ignored",
          "traceback": [
            "\u001b[0;31m---------------------------------------------------------------------------\u001b[0m",
            "\u001b[0;31mRuntimeError\u001b[0m                              Traceback (most recent call last)",
            "\u001b[0;32m<ipython-input-49-e97732bfd4e8>\u001b[0m in \u001b[0;36m<module>\u001b[0;34m()\u001b[0m\n\u001b[1;32m      9\u001b[0m         \u001b[0mimg\u001b[0m \u001b[0;34m=\u001b[0m \u001b[0mimg\u001b[0m\u001b[0;34m.\u001b[0m\u001b[0mto\u001b[0m\u001b[0;34m(\u001b[0m\u001b[0mdevice\u001b[0m\u001b[0;34m)\u001b[0m\u001b[0;34m\u001b[0m\u001b[0;34m\u001b[0m\u001b[0m\n\u001b[1;32m     10\u001b[0m         \u001b[0moptimizer\u001b[0m\u001b[0;34m.\u001b[0m\u001b[0mzero_grad\u001b[0m\u001b[0;34m(\u001b[0m\u001b[0;34m)\u001b[0m\u001b[0;34m\u001b[0m\u001b[0;34m\u001b[0m\u001b[0m\n\u001b[0;32m---> 11\u001b[0;31m         \u001b[0moutputs\u001b[0m \u001b[0;34m=\u001b[0m \u001b[0mmodel\u001b[0m\u001b[0;34m(\u001b[0m\u001b[0mimg\u001b[0m\u001b[0;34m)\u001b[0m\u001b[0;34m\u001b[0m\u001b[0;34m\u001b[0m\u001b[0m\n\u001b[0m\u001b[1;32m     12\u001b[0m         \u001b[0mloss\u001b[0m \u001b[0;34m=\u001b[0m \u001b[0mcriterion\u001b[0m\u001b[0;34m(\u001b[0m\u001b[0moutputs\u001b[0m\u001b[0;34m,\u001b[0m \u001b[0mimg\u001b[0m\u001b[0;34m)\u001b[0m\u001b[0;34m\u001b[0m\u001b[0;34m\u001b[0m\u001b[0m\n\u001b[1;32m     13\u001b[0m         \u001b[0mloss\u001b[0m\u001b[0;34m.\u001b[0m\u001b[0mbackward\u001b[0m\u001b[0;34m(\u001b[0m\u001b[0;34m)\u001b[0m\u001b[0;34m\u001b[0m\u001b[0;34m\u001b[0m\u001b[0m\n",
            "\u001b[0;32m/usr/local/lib/python3.7/dist-packages/torch/nn/modules/module.py\u001b[0m in \u001b[0;36m_call_impl\u001b[0;34m(self, *input, **kwargs)\u001b[0m\n\u001b[1;32m    725\u001b[0m             \u001b[0mresult\u001b[0m \u001b[0;34m=\u001b[0m \u001b[0mself\u001b[0m\u001b[0;34m.\u001b[0m\u001b[0m_slow_forward\u001b[0m\u001b[0;34m(\u001b[0m\u001b[0;34m*\u001b[0m\u001b[0minput\u001b[0m\u001b[0;34m,\u001b[0m \u001b[0;34m**\u001b[0m\u001b[0mkwargs\u001b[0m\u001b[0;34m)\u001b[0m\u001b[0;34m\u001b[0m\u001b[0;34m\u001b[0m\u001b[0m\n\u001b[1;32m    726\u001b[0m         \u001b[0;32melse\u001b[0m\u001b[0;34m:\u001b[0m\u001b[0;34m\u001b[0m\u001b[0;34m\u001b[0m\u001b[0m\n\u001b[0;32m--> 727\u001b[0;31m             \u001b[0mresult\u001b[0m \u001b[0;34m=\u001b[0m \u001b[0mself\u001b[0m\u001b[0;34m.\u001b[0m\u001b[0mforward\u001b[0m\u001b[0;34m(\u001b[0m\u001b[0;34m*\u001b[0m\u001b[0minput\u001b[0m\u001b[0;34m,\u001b[0m \u001b[0;34m**\u001b[0m\u001b[0mkwargs\u001b[0m\u001b[0;34m)\u001b[0m\u001b[0;34m\u001b[0m\u001b[0;34m\u001b[0m\u001b[0m\n\u001b[0m\u001b[1;32m    728\u001b[0m         for hook in itertools.chain(\n\u001b[1;32m    729\u001b[0m                 \u001b[0m_global_forward_hooks\u001b[0m\u001b[0;34m.\u001b[0m\u001b[0mvalues\u001b[0m\u001b[0;34m(\u001b[0m\u001b[0;34m)\u001b[0m\u001b[0;34m,\u001b[0m\u001b[0;34m\u001b[0m\u001b[0;34m\u001b[0m\u001b[0m\n",
            "\u001b[0;32m<ipython-input-46-f1dc285cf2b1>\u001b[0m in \u001b[0;36mforward\u001b[0;34m(self, x)\u001b[0m\n\u001b[1;32m     32\u001b[0m         \u001b[0mx\u001b[0m \u001b[0;34m=\u001b[0m \u001b[0mF\u001b[0m\u001b[0;34m.\u001b[0m\u001b[0mrelu\u001b[0m\u001b[0;34m(\u001b[0m\u001b[0mself\u001b[0m\u001b[0;34m.\u001b[0m\u001b[0menc2\u001b[0m\u001b[0;34m(\u001b[0m\u001b[0mx\u001b[0m\u001b[0;34m)\u001b[0m\u001b[0;34m)\u001b[0m\u001b[0;34m\u001b[0m\u001b[0;34m\u001b[0m\u001b[0m\n\u001b[1;32m     33\u001b[0m         \u001b[0mx\u001b[0m \u001b[0;34m=\u001b[0m \u001b[0mF\u001b[0m\u001b[0;34m.\u001b[0m\u001b[0mrelu\u001b[0m\u001b[0;34m(\u001b[0m\u001b[0mself\u001b[0m\u001b[0;34m.\u001b[0m\u001b[0menc3\u001b[0m\u001b[0;34m(\u001b[0m\u001b[0mx\u001b[0m\u001b[0;34m)\u001b[0m\u001b[0;34m)\u001b[0m\u001b[0;34m\u001b[0m\u001b[0;34m\u001b[0m\u001b[0m\n\u001b[0;32m---> 34\u001b[0;31m         \u001b[0mx\u001b[0m \u001b[0;34m=\u001b[0m \u001b[0mF\u001b[0m\u001b[0;34m.\u001b[0m\u001b[0mrelu\u001b[0m\u001b[0;34m(\u001b[0m\u001b[0mself\u001b[0m\u001b[0;34m.\u001b[0m\u001b[0menc4\u001b[0m\u001b[0;34m(\u001b[0m\u001b[0mx\u001b[0m\u001b[0;34m)\u001b[0m\u001b[0;34m)\u001b[0m\u001b[0;34m\u001b[0m\u001b[0;34m\u001b[0m\u001b[0m\n\u001b[0m\u001b[1;32m     35\u001b[0m         \u001b[0mx\u001b[0m \u001b[0;34m=\u001b[0m \u001b[0mF\u001b[0m\u001b[0;34m.\u001b[0m\u001b[0mrelu\u001b[0m\u001b[0;34m(\u001b[0m\u001b[0mself\u001b[0m\u001b[0;34m.\u001b[0m\u001b[0mdec1\u001b[0m\u001b[0;34m(\u001b[0m\u001b[0mx\u001b[0m\u001b[0;34m)\u001b[0m\u001b[0;34m)\u001b[0m\u001b[0;34m\u001b[0m\u001b[0;34m\u001b[0m\u001b[0m\n\u001b[1;32m     36\u001b[0m         \u001b[0mx\u001b[0m \u001b[0;34m=\u001b[0m \u001b[0mF\u001b[0m\u001b[0;34m.\u001b[0m\u001b[0mrelu\u001b[0m\u001b[0;34m(\u001b[0m\u001b[0mself\u001b[0m\u001b[0;34m.\u001b[0m\u001b[0mdec2\u001b[0m\u001b[0;34m(\u001b[0m\u001b[0mx\u001b[0m\u001b[0;34m)\u001b[0m\u001b[0;34m)\u001b[0m\u001b[0;34m\u001b[0m\u001b[0;34m\u001b[0m\u001b[0m\n",
            "\u001b[0;32m/usr/local/lib/python3.7/dist-packages/torch/nn/modules/module.py\u001b[0m in \u001b[0;36m_call_impl\u001b[0;34m(self, *input, **kwargs)\u001b[0m\n\u001b[1;32m    725\u001b[0m             \u001b[0mresult\u001b[0m \u001b[0;34m=\u001b[0m \u001b[0mself\u001b[0m\u001b[0;34m.\u001b[0m\u001b[0m_slow_forward\u001b[0m\u001b[0;34m(\u001b[0m\u001b[0;34m*\u001b[0m\u001b[0minput\u001b[0m\u001b[0;34m,\u001b[0m \u001b[0;34m**\u001b[0m\u001b[0mkwargs\u001b[0m\u001b[0;34m)\u001b[0m\u001b[0;34m\u001b[0m\u001b[0;34m\u001b[0m\u001b[0m\n\u001b[1;32m    726\u001b[0m         \u001b[0;32melse\u001b[0m\u001b[0;34m:\u001b[0m\u001b[0;34m\u001b[0m\u001b[0;34m\u001b[0m\u001b[0m\n\u001b[0;32m--> 727\u001b[0;31m             \u001b[0mresult\u001b[0m \u001b[0;34m=\u001b[0m \u001b[0mself\u001b[0m\u001b[0;34m.\u001b[0m\u001b[0mforward\u001b[0m\u001b[0;34m(\u001b[0m\u001b[0;34m*\u001b[0m\u001b[0minput\u001b[0m\u001b[0;34m,\u001b[0m \u001b[0;34m**\u001b[0m\u001b[0mkwargs\u001b[0m\u001b[0;34m)\u001b[0m\u001b[0;34m\u001b[0m\u001b[0;34m\u001b[0m\u001b[0m\n\u001b[0m\u001b[1;32m    728\u001b[0m         for hook in itertools.chain(\n\u001b[1;32m    729\u001b[0m                 \u001b[0m_global_forward_hooks\u001b[0m\u001b[0;34m.\u001b[0m\u001b[0mvalues\u001b[0m\u001b[0;34m(\u001b[0m\u001b[0;34m)\u001b[0m\u001b[0;34m,\u001b[0m\u001b[0;34m\u001b[0m\u001b[0;34m\u001b[0m\u001b[0m\n",
            "\u001b[0;32m/usr/local/lib/python3.7/dist-packages/torch/nn/modules/conv.py\u001b[0m in \u001b[0;36mforward\u001b[0;34m(self, input)\u001b[0m\n\u001b[1;32m    421\u001b[0m \u001b[0;34m\u001b[0m\u001b[0m\n\u001b[1;32m    422\u001b[0m     \u001b[0;32mdef\u001b[0m \u001b[0mforward\u001b[0m\u001b[0;34m(\u001b[0m\u001b[0mself\u001b[0m\u001b[0;34m,\u001b[0m \u001b[0minput\u001b[0m\u001b[0;34m:\u001b[0m \u001b[0mTensor\u001b[0m\u001b[0;34m)\u001b[0m \u001b[0;34m->\u001b[0m \u001b[0mTensor\u001b[0m\u001b[0;34m:\u001b[0m\u001b[0;34m\u001b[0m\u001b[0;34m\u001b[0m\u001b[0m\n\u001b[0;32m--> 423\u001b[0;31m         \u001b[0;32mreturn\u001b[0m \u001b[0mself\u001b[0m\u001b[0;34m.\u001b[0m\u001b[0m_conv_forward\u001b[0m\u001b[0;34m(\u001b[0m\u001b[0minput\u001b[0m\u001b[0;34m,\u001b[0m \u001b[0mself\u001b[0m\u001b[0;34m.\u001b[0m\u001b[0mweight\u001b[0m\u001b[0;34m)\u001b[0m\u001b[0;34m\u001b[0m\u001b[0;34m\u001b[0m\u001b[0m\n\u001b[0m\u001b[1;32m    424\u001b[0m \u001b[0;34m\u001b[0m\u001b[0m\n\u001b[1;32m    425\u001b[0m \u001b[0;32mclass\u001b[0m \u001b[0mConv3d\u001b[0m\u001b[0;34m(\u001b[0m\u001b[0m_ConvNd\u001b[0m\u001b[0;34m)\u001b[0m\u001b[0;34m:\u001b[0m\u001b[0;34m\u001b[0m\u001b[0;34m\u001b[0m\u001b[0m\n",
            "\u001b[0;32m/usr/local/lib/python3.7/dist-packages/torch/nn/modules/conv.py\u001b[0m in \u001b[0;36m_conv_forward\u001b[0;34m(self, input, weight)\u001b[0m\n\u001b[1;32m    418\u001b[0m                             _pair(0), self.dilation, self.groups)\n\u001b[1;32m    419\u001b[0m         return F.conv2d(input, weight, self.bias, self.stride,\n\u001b[0;32m--> 420\u001b[0;31m                         self.padding, self.dilation, self.groups)\n\u001b[0m\u001b[1;32m    421\u001b[0m \u001b[0;34m\u001b[0m\u001b[0m\n\u001b[1;32m    422\u001b[0m     \u001b[0;32mdef\u001b[0m \u001b[0mforward\u001b[0m\u001b[0;34m(\u001b[0m\u001b[0mself\u001b[0m\u001b[0;34m,\u001b[0m \u001b[0minput\u001b[0m\u001b[0;34m:\u001b[0m \u001b[0mTensor\u001b[0m\u001b[0;34m)\u001b[0m \u001b[0;34m->\u001b[0m \u001b[0mTensor\u001b[0m\u001b[0;34m:\u001b[0m\u001b[0;34m\u001b[0m\u001b[0;34m\u001b[0m\u001b[0m\n",
            "\u001b[0;31mRuntimeError\u001b[0m: Given groups=1, weight of size [8, 1, 3, 3], expected input[16, 64, 122, 122] to have 1 channels, but got 64 channels instead"
          ]
        }
      ]
    },
    {
      "cell_type": "code",
      "metadata": {
        "colab": {
          "base_uri": "https://localhost:8080/"
        },
        "id": "mDE6hNfWdSSI",
        "outputId": "5d2daa33-6bc1-4012-d9b6-9b2ffc45f713"
      },
      "source": [
        "trainloader"
      ],
      "execution_count": null,
      "outputs": [
        {
          "output_type": "execute_result",
          "data": {
            "text/plain": [
              "<torch.utils.data.dataloader.DataLoader at 0x7fd5f4cea290>"
            ]
          },
          "metadata": {
            "tags": []
          },
          "execution_count": 90
        }
      ]
    },
    {
      "cell_type": "code",
      "metadata": {
        "colab": {
          "base_uri": "https://localhost:8080/"
        },
        "id": "WmSxSjLodoNh",
        "outputId": "7ea12f3a-b578-4082-e6cb-824bde393059"
      },
      "source": [
        "dataiter = iter(trainloader)\r\n",
        "dataiter.next().shape"
      ],
      "execution_count": null,
      "outputs": [
        {
          "output_type": "execute_result",
          "data": {
            "text/plain": [
              "torch.Size([32, 1, 128, 128])"
            ]
          },
          "metadata": {
            "tags": []
          },
          "execution_count": 138
        }
      ]
    },
    {
      "cell_type": "code",
      "metadata": {
        "id": "tKWzw84xdzJl"
      },
      "source": [
        "z = torch.randn(1, 20).to(device)\r\n",
        "# run only the decoder\r\n",
        "reconstructed_img = model.dec(z)\r\n",
        "#reconstructed_img = reconstructed_img.cpu().numpy()\r\n",
        "\r\n",
        "#output = model(images)\r\n",
        "#images = images.cpu().numpy()\r\n",
        "img = reconstructed_img.view(224, 224).data\r\n",
        "img = img.cpu().detach().numpy()\r\n",
        "#img = reconstructed_img .view(batch_size, 3, 32, 32)\r\n",
        "#img = img.cpu().detach().numpy()\r\n",
        "\r\n",
        "#output = output.view(batch_size, 3, 32, 32)\r\n",
        "#output = output.cpu().detach().numpy()\r\n",
        "#img = reconstructed_img.view(224, 224).data\r\n",
        "print(z.shape)\r\n",
        "print(img.shape)\r\n",
        "plt.imshow(img,cmap='gray')"
      ],
      "execution_count": null,
      "outputs": []
    },
    {
      "cell_type": "code",
      "metadata": {
        "colab": {
          "base_uri": "https://localhost:8080/",
          "height": 231
        },
        "id": "esPT0OUfuebx",
        "outputId": "30be4d52-13f0-46f9-b4fb-d03edc703958"
      },
      "source": [
        "# Fixed input for debugging\r\n",
        "fixed_x, _ = next(iter(trainloader))\r\n",
        "save_image(fixed_x, 'real_image.png')\r\n",
        "\r\n",
        "Image('real_image.png')"
      ],
      "execution_count": null,
      "outputs": [
        {
          "output_type": "error",
          "ename": "ValueError",
          "evalue": "ignored",
          "traceback": [
            "\u001b[0;31m---------------------------------------------------------------------------\u001b[0m",
            "\u001b[0;31mValueError\u001b[0m                                Traceback (most recent call last)",
            "\u001b[0;32m<ipython-input-41-8e0765d502f8>\u001b[0m in \u001b[0;36m<module>\u001b[0;34m()\u001b[0m\n\u001b[1;32m      1\u001b[0m \u001b[0;31m# Fixed input for debugging\u001b[0m\u001b[0;34m\u001b[0m\u001b[0;34m\u001b[0m\u001b[0;34m\u001b[0m\u001b[0m\n\u001b[0;32m----> 2\u001b[0;31m \u001b[0mfixed_x\u001b[0m\u001b[0;34m,\u001b[0m \u001b[0m_\u001b[0m \u001b[0;34m=\u001b[0m \u001b[0mnext\u001b[0m\u001b[0;34m(\u001b[0m\u001b[0miter\u001b[0m\u001b[0;34m(\u001b[0m\u001b[0mtrainloader\u001b[0m\u001b[0;34m)\u001b[0m\u001b[0;34m)\u001b[0m\u001b[0;34m\u001b[0m\u001b[0;34m\u001b[0m\u001b[0m\n\u001b[0m\u001b[1;32m      3\u001b[0m \u001b[0msave_image\u001b[0m\u001b[0;34m(\u001b[0m\u001b[0mfixed_x\u001b[0m\u001b[0;34m,\u001b[0m \u001b[0;34m'real_image.png'\u001b[0m\u001b[0;34m)\u001b[0m\u001b[0;34m\u001b[0m\u001b[0;34m\u001b[0m\u001b[0m\n\u001b[1;32m      4\u001b[0m \u001b[0;34m\u001b[0m\u001b[0m\n\u001b[1;32m      5\u001b[0m \u001b[0mImage\u001b[0m\u001b[0;34m(\u001b[0m\u001b[0;34m'real_image.png'\u001b[0m\u001b[0;34m)\u001b[0m\u001b[0;34m\u001b[0m\u001b[0;34m\u001b[0m\u001b[0m\n",
            "\u001b[0;31mValueError\u001b[0m: too many values to unpack (expected 2)"
          ]
        }
      ]
    },
    {
      "cell_type": "code",
      "metadata": {
        "id": "OrNnApI4uqhm"
      },
      "source": [
        "class Flatten(nn.Module):\r\n",
        "    def forward(self, input):\r\n",
        "        return input.view(input.size(0), -1)"
      ],
      "execution_count": null,
      "outputs": []
    },
    {
      "cell_type": "code",
      "metadata": {
        "id": "mbLZ7TqgyClS"
      },
      "source": [
        "\r\n",
        "class UnFlatten(nn.Module):\r\n",
        "    def forward(self, input, size=1024):\r\n",
        "        return input.view(input.size(0), size, 1, 1)"
      ],
      "execution_count": null,
      "outputs": []
    },
    {
      "cell_type": "code",
      "metadata": {
        "id": "rGqfRrztyGsj"
      },
      "source": [
        "class VAE(nn.Module):\r\n",
        "    def __init__(self, image_channels=3, h_dim=1024, z_dim=32):\r\n",
        "        super(VAE, self).__init__()\r\n",
        "        self.encoder = nn.Sequential(\r\n",
        "            nn.Conv2d(image_channels, 32, kernel_size=4, stride=2),\r\n",
        "            nn.ReLU(),\r\n",
        "            nn.Conv2d(32, 64, kernel_size=4, stride=2),\r\n",
        "            nn.ReLU(),\r\n",
        "            nn.Conv2d(64, 128, kernel_size=4, stride=2),\r\n",
        "            nn.ReLU(),\r\n",
        "            nn.Conv2d(128, 256, kernel_size=4, stride=2),\r\n",
        "            nn.ReLU(),\r\n",
        "            Flatten()\r\n",
        "        )\r\n",
        "        \r\n",
        "        self.fc1 = nn.Linear(h_dim, z_dim)\r\n",
        "        self.fc2 = nn.Linear(h_dim, z_dim)\r\n",
        "        self.fc3 = nn.Linear(z_dim, h_dim)\r\n",
        "        \r\n",
        "        self.decoder = nn.Sequential(\r\n",
        "            UnFlatten(),\r\n",
        "            nn.ConvTranspose2d(h_dim, 128, kernel_size=5, stride=2),\r\n",
        "            nn.ReLU(),\r\n",
        "            nn.ConvTranspose2d(128, 64, kernel_size=5, stride=2),\r\n",
        "            nn.ReLU(),\r\n",
        "            nn.ConvTranspose2d(64, 32, kernel_size=6, stride=2),\r\n",
        "            nn.ReLU(),\r\n",
        "            nn.ConvTranspose2d(32, image_channels, kernel_size=6, stride=2),\r\n",
        "            nn.Sigmoid(),\r\n",
        "        )\r\n",
        "        \r\n",
        "    def reparameterize(self, mu, logvar):\r\n",
        "        std = logvar.mul(0.5).exp_()\r\n",
        "        # return torch.normal(mu, std)\r\n",
        "        esp = torch.randn(*mu.size())\r\n",
        "        z = mu + std * esp\r\n",
        "        return z\r\n",
        "    \r\n",
        "    def bottleneck(self, h):\r\n",
        "        mu, logvar = self.fc1(h), self.fc2(h)\r\n",
        "        z = self.reparameterize(mu, logvar)\r\n",
        "        return z, mu, logvar\r\n",
        "\r\n",
        "    def encode(self, x):\r\n",
        "        h = self.encoder(x)\r\n",
        "        z, mu, logvar = self.bottleneck(h)\r\n",
        "        return z, mu, logvar\r\n",
        "\r\n",
        "    def decode(self, z):\r\n",
        "        z = self.fc3(z)\r\n",
        "        z = self.decoder(z)\r\n",
        "        return z\r\n",
        "\r\n",
        "    def forward(self, x):\r\n",
        "        z, mu, logvar = self.encode(x)\r\n",
        "        z = self.decode(z)\r\n",
        "        return z, mu, logvar\r\n"
      ],
      "execution_count": null,
      "outputs": []
    },
    {
      "cell_type": "code",
      "metadata": {
        "id": "twdEdYbzyONs"
      },
      "source": [
        "\r\n",
        "model = VAE(image_channels=image_channels).to(device)"
      ],
      "execution_count": null,
      "outputs": []
    },
    {
      "cell_type": "code",
      "metadata": {
        "id": "tp4INo9kyT_8"
      },
      "source": [
        "optimizer = optim.Adam(model.parameters(), lr=0.003)"
      ],
      "execution_count": null,
      "outputs": []
    },
    {
      "cell_type": "code",
      "metadata": {
        "id": "CRj5jpL4ydAR"
      },
      "source": [
        "def loss_fn(recon_x, x, mu, logvar):\r\n",
        "    BCE = F.binary_cross_entropy(recon_x, x, size_average=False)\r\n",
        "    # BCE = F.mse_loss(recon_x, x, size_average=False)\r\n",
        "\r\n",
        "    # see Appendix B from VAE paper:\r\n",
        "    # Kingma and Welling. Auto-Encoding Variational Bayes. ICLR, 2014\r\n",
        "    # 0.5 * sum(1 + log(sigma^2) - mu^2 - sigma^2)\r\n",
        "    KLD = -0.5 * torch.mean(1 + logvar - mu.pow(2) - logvar.exp())\r\n",
        "\r\n",
        "    return BCE + KLD, BCE, KLD"
      ],
      "execution_count": null,
      "outputs": []
    },
    {
      "cell_type": "code",
      "metadata": {
        "id": "QCAhmIHOzoFq"
      },
      "source": [
        "\r\n",
        "epochs = 2"
      ],
      "execution_count": null,
      "outputs": []
    },
    {
      "cell_type": "code",
      "metadata": {
        "colab": {
          "base_uri": "https://localhost:8080/",
          "height": 374
        },
        "id": "GeCGSVI1zrcP",
        "outputId": "98bc01a4-e10c-4ed0-db60-768b018f845d"
      },
      "source": [
        "for epoch in range(epochs):\r\n",
        "    for idx, images in enumerate(trainloader):\r\n",
        "        recon_images, mu, logvar = model(images)\r\n",
        "        loss, bce, kld = loss_fn(recon_images, images, mu, logvar)\r\n",
        "        optimizer.zero_grad()\r\n",
        "        loss.backward()\r\n",
        "        optimizer.step()\r\n",
        "\r\n",
        "        to_print = \"Epoch[{}/{}] Loss: {:.3f} {:.3f} {:.3f}\".format(epoch+1, \r\n",
        "                                epochs, loss.data[0]/bs, bce.data[0]/bs, kld.data[0]/bs)\r\n",
        "        print(to_print)\r\n",
        "\r\n",
        "# notify to android when finished training\r\n",
        "notify(to_print, priority=1)\r\n",
        "\r\n",
        "torch.save(vae.state_dict(), 'vae.torch')"
      ],
      "execution_count": null,
      "outputs": [
        {
          "output_type": "error",
          "ename": "RuntimeError",
          "evalue": "ignored",
          "traceback": [
            "\u001b[0;31m---------------------------------------------------------------------------\u001b[0m",
            "\u001b[0;31mRuntimeError\u001b[0m                              Traceback (most recent call last)",
            "\u001b[0;32m<ipython-input-103-f3b305764856>\u001b[0m in \u001b[0;36m<module>\u001b[0;34m()\u001b[0m\n\u001b[1;32m      1\u001b[0m \u001b[0;32mfor\u001b[0m \u001b[0mepoch\u001b[0m \u001b[0;32min\u001b[0m \u001b[0mrange\u001b[0m\u001b[0;34m(\u001b[0m\u001b[0mepochs\u001b[0m\u001b[0;34m)\u001b[0m\u001b[0;34m:\u001b[0m\u001b[0;34m\u001b[0m\u001b[0;34m\u001b[0m\u001b[0m\n\u001b[1;32m      2\u001b[0m     \u001b[0;32mfor\u001b[0m \u001b[0midx\u001b[0m\u001b[0;34m,\u001b[0m \u001b[0mimages\u001b[0m \u001b[0;32min\u001b[0m \u001b[0menumerate\u001b[0m\u001b[0;34m(\u001b[0m\u001b[0mtrainloader\u001b[0m\u001b[0;34m)\u001b[0m\u001b[0;34m:\u001b[0m\u001b[0;34m\u001b[0m\u001b[0;34m\u001b[0m\u001b[0m\n\u001b[0;32m----> 3\u001b[0;31m         \u001b[0mrecon_images\u001b[0m\u001b[0;34m,\u001b[0m \u001b[0mmu\u001b[0m\u001b[0;34m,\u001b[0m \u001b[0mlogvar\u001b[0m \u001b[0;34m=\u001b[0m \u001b[0mmodel\u001b[0m\u001b[0;34m(\u001b[0m\u001b[0mimages\u001b[0m\u001b[0;34m)\u001b[0m\u001b[0;34m\u001b[0m\u001b[0;34m\u001b[0m\u001b[0m\n\u001b[0m\u001b[1;32m      4\u001b[0m         \u001b[0mloss\u001b[0m\u001b[0;34m,\u001b[0m \u001b[0mbce\u001b[0m\u001b[0;34m,\u001b[0m \u001b[0mkld\u001b[0m \u001b[0;34m=\u001b[0m \u001b[0mloss_fn\u001b[0m\u001b[0;34m(\u001b[0m\u001b[0mrecon_images\u001b[0m\u001b[0;34m,\u001b[0m \u001b[0mimages\u001b[0m\u001b[0;34m,\u001b[0m \u001b[0mmu\u001b[0m\u001b[0;34m,\u001b[0m \u001b[0mlogvar\u001b[0m\u001b[0;34m)\u001b[0m\u001b[0;34m\u001b[0m\u001b[0;34m\u001b[0m\u001b[0m\n\u001b[1;32m      5\u001b[0m         \u001b[0moptimizer\u001b[0m\u001b[0;34m.\u001b[0m\u001b[0mzero_grad\u001b[0m\u001b[0;34m(\u001b[0m\u001b[0;34m)\u001b[0m\u001b[0;34m\u001b[0m\u001b[0;34m\u001b[0m\u001b[0m\n",
            "\u001b[0;32m/usr/local/lib/python3.7/dist-packages/torch/nn/modules/module.py\u001b[0m in \u001b[0;36m_call_impl\u001b[0;34m(self, *input, **kwargs)\u001b[0m\n\u001b[1;32m    725\u001b[0m             \u001b[0mresult\u001b[0m \u001b[0;34m=\u001b[0m \u001b[0mself\u001b[0m\u001b[0;34m.\u001b[0m\u001b[0m_slow_forward\u001b[0m\u001b[0;34m(\u001b[0m\u001b[0;34m*\u001b[0m\u001b[0minput\u001b[0m\u001b[0;34m,\u001b[0m \u001b[0;34m**\u001b[0m\u001b[0mkwargs\u001b[0m\u001b[0;34m)\u001b[0m\u001b[0;34m\u001b[0m\u001b[0;34m\u001b[0m\u001b[0m\n\u001b[1;32m    726\u001b[0m         \u001b[0;32melse\u001b[0m\u001b[0;34m:\u001b[0m\u001b[0;34m\u001b[0m\u001b[0;34m\u001b[0m\u001b[0m\n\u001b[0;32m--> 727\u001b[0;31m             \u001b[0mresult\u001b[0m \u001b[0;34m=\u001b[0m \u001b[0mself\u001b[0m\u001b[0;34m.\u001b[0m\u001b[0mforward\u001b[0m\u001b[0;34m(\u001b[0m\u001b[0;34m*\u001b[0m\u001b[0minput\u001b[0m\u001b[0;34m,\u001b[0m \u001b[0;34m**\u001b[0m\u001b[0mkwargs\u001b[0m\u001b[0;34m)\u001b[0m\u001b[0;34m\u001b[0m\u001b[0;34m\u001b[0m\u001b[0m\n\u001b[0m\u001b[1;32m    728\u001b[0m         for hook in itertools.chain(\n\u001b[1;32m    729\u001b[0m                 \u001b[0m_global_forward_hooks\u001b[0m\u001b[0;34m.\u001b[0m\u001b[0mvalues\u001b[0m\u001b[0;34m(\u001b[0m\u001b[0;34m)\u001b[0m\u001b[0;34m,\u001b[0m\u001b[0;34m\u001b[0m\u001b[0;34m\u001b[0m\u001b[0m\n",
            "\u001b[0;32m<ipython-input-93-2154d9937d70>\u001b[0m in \u001b[0;36mforward\u001b[0;34m(self, x)\u001b[0m\n\u001b[1;32m     53\u001b[0m \u001b[0;34m\u001b[0m\u001b[0m\n\u001b[1;32m     54\u001b[0m     \u001b[0;32mdef\u001b[0m \u001b[0mforward\u001b[0m\u001b[0;34m(\u001b[0m\u001b[0mself\u001b[0m\u001b[0;34m,\u001b[0m \u001b[0mx\u001b[0m\u001b[0;34m)\u001b[0m\u001b[0;34m:\u001b[0m\u001b[0;34m\u001b[0m\u001b[0;34m\u001b[0m\u001b[0m\n\u001b[0;32m---> 55\u001b[0;31m         \u001b[0mz\u001b[0m\u001b[0;34m,\u001b[0m \u001b[0mmu\u001b[0m\u001b[0;34m,\u001b[0m \u001b[0mlogvar\u001b[0m \u001b[0;34m=\u001b[0m \u001b[0mself\u001b[0m\u001b[0;34m.\u001b[0m\u001b[0mencode\u001b[0m\u001b[0;34m(\u001b[0m\u001b[0mx\u001b[0m\u001b[0;34m)\u001b[0m\u001b[0;34m\u001b[0m\u001b[0;34m\u001b[0m\u001b[0m\n\u001b[0m\u001b[1;32m     56\u001b[0m         \u001b[0mz\u001b[0m \u001b[0;34m=\u001b[0m \u001b[0mself\u001b[0m\u001b[0;34m.\u001b[0m\u001b[0mdecode\u001b[0m\u001b[0;34m(\u001b[0m\u001b[0mz\u001b[0m\u001b[0;34m)\u001b[0m\u001b[0;34m\u001b[0m\u001b[0;34m\u001b[0m\u001b[0m\n\u001b[1;32m     57\u001b[0m         \u001b[0;32mreturn\u001b[0m \u001b[0mz\u001b[0m\u001b[0;34m,\u001b[0m \u001b[0mmu\u001b[0m\u001b[0;34m,\u001b[0m \u001b[0mlogvar\u001b[0m\u001b[0;34m\u001b[0m\u001b[0;34m\u001b[0m\u001b[0m\n",
            "\u001b[0;32m<ipython-input-93-2154d9937d70>\u001b[0m in \u001b[0;36mencode\u001b[0;34m(self, x)\u001b[0m\n\u001b[1;32m     43\u001b[0m \u001b[0;34m\u001b[0m\u001b[0m\n\u001b[1;32m     44\u001b[0m     \u001b[0;32mdef\u001b[0m \u001b[0mencode\u001b[0m\u001b[0;34m(\u001b[0m\u001b[0mself\u001b[0m\u001b[0;34m,\u001b[0m \u001b[0mx\u001b[0m\u001b[0;34m)\u001b[0m\u001b[0;34m:\u001b[0m\u001b[0;34m\u001b[0m\u001b[0;34m\u001b[0m\u001b[0m\n\u001b[0;32m---> 45\u001b[0;31m         \u001b[0mh\u001b[0m \u001b[0;34m=\u001b[0m \u001b[0mself\u001b[0m\u001b[0;34m.\u001b[0m\u001b[0mencoder\u001b[0m\u001b[0;34m(\u001b[0m\u001b[0mx\u001b[0m\u001b[0;34m)\u001b[0m\u001b[0;34m\u001b[0m\u001b[0;34m\u001b[0m\u001b[0m\n\u001b[0m\u001b[1;32m     46\u001b[0m         \u001b[0mz\u001b[0m\u001b[0;34m,\u001b[0m \u001b[0mmu\u001b[0m\u001b[0;34m,\u001b[0m \u001b[0mlogvar\u001b[0m \u001b[0;34m=\u001b[0m \u001b[0mself\u001b[0m\u001b[0;34m.\u001b[0m\u001b[0mbottleneck\u001b[0m\u001b[0;34m(\u001b[0m\u001b[0mh\u001b[0m\u001b[0;34m)\u001b[0m\u001b[0;34m\u001b[0m\u001b[0;34m\u001b[0m\u001b[0m\n\u001b[1;32m     47\u001b[0m         \u001b[0;32mreturn\u001b[0m \u001b[0mz\u001b[0m\u001b[0;34m,\u001b[0m \u001b[0mmu\u001b[0m\u001b[0;34m,\u001b[0m \u001b[0mlogvar\u001b[0m\u001b[0;34m\u001b[0m\u001b[0;34m\u001b[0m\u001b[0m\n",
            "\u001b[0;32m/usr/local/lib/python3.7/dist-packages/torch/nn/modules/module.py\u001b[0m in \u001b[0;36m_call_impl\u001b[0;34m(self, *input, **kwargs)\u001b[0m\n\u001b[1;32m    725\u001b[0m             \u001b[0mresult\u001b[0m \u001b[0;34m=\u001b[0m \u001b[0mself\u001b[0m\u001b[0;34m.\u001b[0m\u001b[0m_slow_forward\u001b[0m\u001b[0;34m(\u001b[0m\u001b[0;34m*\u001b[0m\u001b[0minput\u001b[0m\u001b[0;34m,\u001b[0m \u001b[0;34m**\u001b[0m\u001b[0mkwargs\u001b[0m\u001b[0;34m)\u001b[0m\u001b[0;34m\u001b[0m\u001b[0;34m\u001b[0m\u001b[0m\n\u001b[1;32m    726\u001b[0m         \u001b[0;32melse\u001b[0m\u001b[0;34m:\u001b[0m\u001b[0;34m\u001b[0m\u001b[0;34m\u001b[0m\u001b[0m\n\u001b[0;32m--> 727\u001b[0;31m             \u001b[0mresult\u001b[0m \u001b[0;34m=\u001b[0m \u001b[0mself\u001b[0m\u001b[0;34m.\u001b[0m\u001b[0mforward\u001b[0m\u001b[0;34m(\u001b[0m\u001b[0;34m*\u001b[0m\u001b[0minput\u001b[0m\u001b[0;34m,\u001b[0m \u001b[0;34m**\u001b[0m\u001b[0mkwargs\u001b[0m\u001b[0;34m)\u001b[0m\u001b[0;34m\u001b[0m\u001b[0;34m\u001b[0m\u001b[0m\n\u001b[0m\u001b[1;32m    728\u001b[0m         for hook in itertools.chain(\n\u001b[1;32m    729\u001b[0m                 \u001b[0m_global_forward_hooks\u001b[0m\u001b[0;34m.\u001b[0m\u001b[0mvalues\u001b[0m\u001b[0;34m(\u001b[0m\u001b[0;34m)\u001b[0m\u001b[0;34m,\u001b[0m\u001b[0;34m\u001b[0m\u001b[0;34m\u001b[0m\u001b[0m\n",
            "\u001b[0;32m/usr/local/lib/python3.7/dist-packages/torch/nn/modules/container.py\u001b[0m in \u001b[0;36mforward\u001b[0;34m(self, input)\u001b[0m\n\u001b[1;32m    115\u001b[0m     \u001b[0;32mdef\u001b[0m \u001b[0mforward\u001b[0m\u001b[0;34m(\u001b[0m\u001b[0mself\u001b[0m\u001b[0;34m,\u001b[0m \u001b[0minput\u001b[0m\u001b[0;34m)\u001b[0m\u001b[0;34m:\u001b[0m\u001b[0;34m\u001b[0m\u001b[0;34m\u001b[0m\u001b[0m\n\u001b[1;32m    116\u001b[0m         \u001b[0;32mfor\u001b[0m \u001b[0mmodule\u001b[0m \u001b[0;32min\u001b[0m \u001b[0mself\u001b[0m\u001b[0;34m:\u001b[0m\u001b[0;34m\u001b[0m\u001b[0;34m\u001b[0m\u001b[0m\n\u001b[0;32m--> 117\u001b[0;31m             \u001b[0minput\u001b[0m \u001b[0;34m=\u001b[0m \u001b[0mmodule\u001b[0m\u001b[0;34m(\u001b[0m\u001b[0minput\u001b[0m\u001b[0;34m)\u001b[0m\u001b[0;34m\u001b[0m\u001b[0;34m\u001b[0m\u001b[0m\n\u001b[0m\u001b[1;32m    118\u001b[0m         \u001b[0;32mreturn\u001b[0m \u001b[0minput\u001b[0m\u001b[0;34m\u001b[0m\u001b[0;34m\u001b[0m\u001b[0m\n\u001b[1;32m    119\u001b[0m \u001b[0;34m\u001b[0m\u001b[0m\n",
            "\u001b[0;32m/usr/local/lib/python3.7/dist-packages/torch/nn/modules/module.py\u001b[0m in \u001b[0;36m_call_impl\u001b[0;34m(self, *input, **kwargs)\u001b[0m\n\u001b[1;32m    725\u001b[0m             \u001b[0mresult\u001b[0m \u001b[0;34m=\u001b[0m \u001b[0mself\u001b[0m\u001b[0;34m.\u001b[0m\u001b[0m_slow_forward\u001b[0m\u001b[0;34m(\u001b[0m\u001b[0;34m*\u001b[0m\u001b[0minput\u001b[0m\u001b[0;34m,\u001b[0m \u001b[0;34m**\u001b[0m\u001b[0mkwargs\u001b[0m\u001b[0;34m)\u001b[0m\u001b[0;34m\u001b[0m\u001b[0;34m\u001b[0m\u001b[0m\n\u001b[1;32m    726\u001b[0m         \u001b[0;32melse\u001b[0m\u001b[0;34m:\u001b[0m\u001b[0;34m\u001b[0m\u001b[0;34m\u001b[0m\u001b[0m\n\u001b[0;32m--> 727\u001b[0;31m             \u001b[0mresult\u001b[0m \u001b[0;34m=\u001b[0m \u001b[0mself\u001b[0m\u001b[0;34m.\u001b[0m\u001b[0mforward\u001b[0m\u001b[0;34m(\u001b[0m\u001b[0;34m*\u001b[0m\u001b[0minput\u001b[0m\u001b[0;34m,\u001b[0m \u001b[0;34m**\u001b[0m\u001b[0mkwargs\u001b[0m\u001b[0;34m)\u001b[0m\u001b[0;34m\u001b[0m\u001b[0;34m\u001b[0m\u001b[0m\n\u001b[0m\u001b[1;32m    728\u001b[0m         for hook in itertools.chain(\n\u001b[1;32m    729\u001b[0m                 \u001b[0m_global_forward_hooks\u001b[0m\u001b[0;34m.\u001b[0m\u001b[0mvalues\u001b[0m\u001b[0;34m(\u001b[0m\u001b[0;34m)\u001b[0m\u001b[0;34m,\u001b[0m\u001b[0;34m\u001b[0m\u001b[0;34m\u001b[0m\u001b[0m\n",
            "\u001b[0;32m/usr/local/lib/python3.7/dist-packages/torch/nn/modules/conv.py\u001b[0m in \u001b[0;36mforward\u001b[0;34m(self, input)\u001b[0m\n\u001b[1;32m    421\u001b[0m \u001b[0;34m\u001b[0m\u001b[0m\n\u001b[1;32m    422\u001b[0m     \u001b[0;32mdef\u001b[0m \u001b[0mforward\u001b[0m\u001b[0;34m(\u001b[0m\u001b[0mself\u001b[0m\u001b[0;34m,\u001b[0m \u001b[0minput\u001b[0m\u001b[0;34m:\u001b[0m \u001b[0mTensor\u001b[0m\u001b[0;34m)\u001b[0m \u001b[0;34m->\u001b[0m \u001b[0mTensor\u001b[0m\u001b[0;34m:\u001b[0m\u001b[0;34m\u001b[0m\u001b[0;34m\u001b[0m\u001b[0m\n\u001b[0;32m--> 423\u001b[0;31m         \u001b[0;32mreturn\u001b[0m \u001b[0mself\u001b[0m\u001b[0;34m.\u001b[0m\u001b[0m_conv_forward\u001b[0m\u001b[0;34m(\u001b[0m\u001b[0minput\u001b[0m\u001b[0;34m,\u001b[0m \u001b[0mself\u001b[0m\u001b[0;34m.\u001b[0m\u001b[0mweight\u001b[0m\u001b[0;34m)\u001b[0m\u001b[0;34m\u001b[0m\u001b[0;34m\u001b[0m\u001b[0m\n\u001b[0m\u001b[1;32m    424\u001b[0m \u001b[0;34m\u001b[0m\u001b[0m\n\u001b[1;32m    425\u001b[0m \u001b[0;32mclass\u001b[0m \u001b[0mConv3d\u001b[0m\u001b[0;34m(\u001b[0m\u001b[0m_ConvNd\u001b[0m\u001b[0;34m)\u001b[0m\u001b[0;34m:\u001b[0m\u001b[0;34m\u001b[0m\u001b[0;34m\u001b[0m\u001b[0m\n",
            "\u001b[0;32m/usr/local/lib/python3.7/dist-packages/torch/nn/modules/conv.py\u001b[0m in \u001b[0;36m_conv_forward\u001b[0;34m(self, input, weight)\u001b[0m\n\u001b[1;32m    418\u001b[0m                             _pair(0), self.dilation, self.groups)\n\u001b[1;32m    419\u001b[0m         return F.conv2d(input, weight, self.bias, self.stride,\n\u001b[0;32m--> 420\u001b[0;31m                         self.padding, self.dilation, self.groups)\n\u001b[0m\u001b[1;32m    421\u001b[0m \u001b[0;34m\u001b[0m\u001b[0m\n\u001b[1;32m    422\u001b[0m     \u001b[0;32mdef\u001b[0m \u001b[0mforward\u001b[0m\u001b[0;34m(\u001b[0m\u001b[0mself\u001b[0m\u001b[0;34m,\u001b[0m \u001b[0minput\u001b[0m\u001b[0;34m:\u001b[0m \u001b[0mTensor\u001b[0m\u001b[0;34m)\u001b[0m \u001b[0;34m->\u001b[0m \u001b[0mTensor\u001b[0m\u001b[0;34m:\u001b[0m\u001b[0;34m\u001b[0m\u001b[0;34m\u001b[0m\u001b[0m\n",
            "\u001b[0;31mRuntimeError\u001b[0m: Input type (torch.FloatTensor) and weight type (torch.cuda.FloatTensor) should be the same"
          ]
        }
      ]
    },
    {
      "cell_type": "code",
      "metadata": {
        "id": "JpS4HPfLz9Xc"
      },
      "source": [
        ""
      ],
      "execution_count": null,
      "outputs": []
    }
  ]
}