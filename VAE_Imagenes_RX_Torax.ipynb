{
  "nbformat": 4,
  "nbformat_minor": 0,
  "metadata": {
    "colab": {
      "name": "VAE-Imagenes-RX-Torax",
      "provenance": [],
      "authorship_tag": "ABX9TyMWDK1E/G169BXDyWh9OIx3",
      "include_colab_link": true
    },
    "kernelspec": {
      "name": "python3",
      "display_name": "Python 3"
    },
    "accelerator": "GPU"
  },
  "cells": [
    {
      "cell_type": "markdown",
      "metadata": {
        "id": "view-in-github",
        "colab_type": "text"
      },
      "source": [
        "<a href=\"https://colab.research.google.com/github/jvallalta/ia-medicina/blob/main/VAE_Imagenes_RX_Torax.ipynb\" target=\"_parent\"><img src=\"https://colab.research.google.com/assets/colab-badge.svg\" alt=\"Open In Colab\"/></a>"
      ]
    },
    {
      "cell_type": "markdown",
      "metadata": {
        "id": "SWgCi67bDiHs"
      },
      "source": [
        "# Autoencoders variacionales con imágenes de RX Tórax"
      ]
    },
    {
      "cell_type": "code",
      "metadata": {
        "id": "amYHbF3zDg6K"
      },
      "source": [
        "import pandas as pd\r\n",
        "import numpy as np\r\n",
        "import matplotlib.pyplot as plt\r\n",
        "%matplotlib inline\r\n",
        "import os\r\n",
        "import seaborn as sns\r\n",
        "from google.colab import drive"
      ],
      "execution_count": 2,
      "outputs": []
    },
    {
      "cell_type": "code",
      "metadata": {
        "colab": {
          "base_uri": "https://localhost:8080/"
        },
        "id": "jb4P5yFGDt51",
        "outputId": "60716b4a-d19f-4bf2-b986-b404fdaac115"
      },
      "source": [
        "# Leemos el conjunto RSNA del drive\r\n",
        "drive.mount('/content/drive')"
      ],
      "execution_count": 3,
      "outputs": [
        {
          "output_type": "stream",
          "text": [
            "Drive already mounted at /content/drive; to attempt to forcibly remount, call drive.mount(\"/content/drive\", force_remount=True).\n"
          ],
          "name": "stdout"
        }
      ]
    },
    {
      "cell_type": "code",
      "metadata": {
        "id": "nE2TvsV-D00B"
      },
      "source": [
        "# Rutas\r\n",
        "train = '/content/drive/MyDrive/rsna/stage_2_train_images'\r\n",
        "test = '/content/drive/MyDrive/rsna/stage_2_test_images'\r\n",
        "ruta = '/content/drive/MyDrive/rsna'"
      ],
      "execution_count": 4,
      "outputs": []
    },
    {
      "cell_type": "code",
      "metadata": {
        "colab": {
          "base_uri": "https://localhost:8080/",
          "height": 204
        },
        "id": "egstyUYPEy3z",
        "outputId": "02f45a6f-05a5-485d-8b27-402697648ea4"
      },
      "source": [
        "# Cargamos el fichero con metadatos\r\n",
        "imagenes = pd.read_csv(ruta+'/stage_2_detailed_class_info.csv')\r\n",
        "imagenes.head()"
      ],
      "execution_count": 5,
      "outputs": [
        {
          "output_type": "execute_result",
          "data": {
            "text/html": [
              "<div>\n",
              "<style scoped>\n",
              "    .dataframe tbody tr th:only-of-type {\n",
              "        vertical-align: middle;\n",
              "    }\n",
              "\n",
              "    .dataframe tbody tr th {\n",
              "        vertical-align: top;\n",
              "    }\n",
              "\n",
              "    .dataframe thead th {\n",
              "        text-align: right;\n",
              "    }\n",
              "</style>\n",
              "<table border=\"1\" class=\"dataframe\">\n",
              "  <thead>\n",
              "    <tr style=\"text-align: right;\">\n",
              "      <th></th>\n",
              "      <th>patientId</th>\n",
              "      <th>class</th>\n",
              "    </tr>\n",
              "  </thead>\n",
              "  <tbody>\n",
              "    <tr>\n",
              "      <th>0</th>\n",
              "      <td>0004cfab-14fd-4e49-80ba-63a80b6bddd6</td>\n",
              "      <td>No Lung Opacity / Not Normal</td>\n",
              "    </tr>\n",
              "    <tr>\n",
              "      <th>1</th>\n",
              "      <td>00313ee0-9eaa-42f4-b0ab-c148ed3241cd</td>\n",
              "      <td>No Lung Opacity / Not Normal</td>\n",
              "    </tr>\n",
              "    <tr>\n",
              "      <th>2</th>\n",
              "      <td>00322d4d-1c29-4943-afc9-b6754be640eb</td>\n",
              "      <td>No Lung Opacity / Not Normal</td>\n",
              "    </tr>\n",
              "    <tr>\n",
              "      <th>3</th>\n",
              "      <td>003d8fa0-6bf1-40ed-b54c-ac657f8495c5</td>\n",
              "      <td>Normal</td>\n",
              "    </tr>\n",
              "    <tr>\n",
              "      <th>4</th>\n",
              "      <td>00436515-870c-4b36-a041-de91049b9ab4</td>\n",
              "      <td>Lung Opacity</td>\n",
              "    </tr>\n",
              "  </tbody>\n",
              "</table>\n",
              "</div>"
            ],
            "text/plain": [
              "                              patientId                         class\n",
              "0  0004cfab-14fd-4e49-80ba-63a80b6bddd6  No Lung Opacity / Not Normal\n",
              "1  00313ee0-9eaa-42f4-b0ab-c148ed3241cd  No Lung Opacity / Not Normal\n",
              "2  00322d4d-1c29-4943-afc9-b6754be640eb  No Lung Opacity / Not Normal\n",
              "3  003d8fa0-6bf1-40ed-b54c-ac657f8495c5                        Normal\n",
              "4  00436515-870c-4b36-a041-de91049b9ab4                  Lung Opacity"
            ]
          },
          "metadata": {
            "tags": []
          },
          "execution_count": 5
        }
      ]
    },
    {
      "cell_type": "code",
      "metadata": {
        "id": "YLvkERfZFmTM"
      },
      "source": [
        "# Separamos imágenes pacientes sanos de imágenes de pacientes con anomalias\r\n",
        "normales = imagenes[imagenes['class']=='Normal']\r\n",
        "anormales = imagenes[imagenes['class']!='Normal']"
      ],
      "execution_count": 6,
      "outputs": []
    },
    {
      "cell_type": "code",
      "metadata": {
        "colab": {
          "base_uri": "https://localhost:8080/"
        },
        "id": "XntTYtiFG95D",
        "outputId": "5ab4c8d4-ee20-4a19-9786-67729dc2e63b"
      },
      "source": [
        "#Tamaños\r\n",
        "print(normales.shape)\r\n",
        "print(anormales.shape)"
      ],
      "execution_count": 7,
      "outputs": [
        {
          "output_type": "stream",
          "text": [
            "(8851, 2)\n",
            "(21376, 2)\n"
          ],
          "name": "stdout"
        }
      ]
    },
    {
      "cell_type": "code",
      "metadata": {
        "colab": {
          "base_uri": "https://localhost:8080/"
        },
        "id": "_jTzuUDoHcrF",
        "outputId": "012210a5-0f44-4a31-ec67-6401f4f1d69e"
      },
      "source": [
        "#Definimos función lectura dicom\r\n",
        "!pip install pydicom\r\n",
        "import pydicom"
      ],
      "execution_count": 8,
      "outputs": [
        {
          "output_type": "stream",
          "text": [
            "Requirement already satisfied: pydicom in /usr/local/lib/python3.7/dist-packages (2.1.2)\n"
          ],
          "name": "stdout"
        }
      ]
    },
    {
      "cell_type": "code",
      "metadata": {
        "id": "e0uGj85LIoYS"
      },
      "source": [
        "#Función lectura imagen\r\n",
        "def leer_dicom(imagen):\r\n",
        "  ds = pydicom.dcmread(imagen)\r\n",
        "    \r\n",
        "  img = ds.pixel_array\r\n",
        "  view = ds.ViewPosition\r\n",
        "  sexo = ds.PatientSex\r\n",
        "  edad = ds.PatientAge\r\n",
        "  return img, view, sexo, edad"
      ],
      "execution_count": 9,
      "outputs": []
    },
    {
      "cell_type": "code",
      "metadata": {
        "colab": {
          "base_uri": "https://localhost:8080/",
          "height": 320
        },
        "id": "QvT8Bc6oH-iY",
        "outputId": "d87c4e49-4b5e-496e-f3ae-63a3abe43c72"
      },
      "source": [
        "# Probamos lectura de la imagen\r\n",
        "prueba ='/content/drive/MyDrive/rsna/stage_2_train_images/02099738-7465-4786-b71c-de8cdac477c3.dcm'\r\n",
        "imagen, vista, sexo, edad = leer_dicom(prueba)\r\n",
        "plt.imshow(imagen, cmap='gray')\r\n",
        "print(vista)\r\n",
        "print(sexo)\r\n",
        "print(edad)"
      ],
      "execution_count": 13,
      "outputs": [
        {
          "output_type": "stream",
          "text": [
            "AP\n",
            "F\n",
            "34\n"
          ],
          "name": "stdout"
        },
        {
          "output_type": "display_data",
          "data": {
            "image/png": "[encoded data removed]",
            "text/plain": [
              "<Figure size 432x288 with 1 Axes>"
            ]
          },
          "metadata": {
            "tags": [],
            "needs_background": "light"
          }
        }
      ]
    },
    {
      "cell_type": "code",
      "metadata": {
        "id": "Bq0rU8Y_IiQC"
      },
      "source": [
        "# Creamos dataframe con datos de pacientes normales\r\n",
        "#pacientes_normales = pd.DataFrame(columns=('id_paciente', 'vista', 'sexo', 'edad'))\r\n",
        "#for contador in range(len(normales)):\r\n",
        "#  _, vista, sexo, edad = leer_dicom(train + '/' + normales.iloc[contador,0] + '.dcm')\r\n",
        "#  pacientes_normales.loc[len(pacientes_normales)]=[normales.iloc[contador,0], vista, sexo, edad]"
      ],
      "execution_count": 39,
      "outputs": []
    },
    {
      "cell_type": "code",
      "metadata": {
        "colab": {
          "base_uri": "https://localhost:8080/",
          "height": 204
        },
        "id": "arlqAc20Rzu9",
        "outputId": "6b0dbb78-f3d8-4ce1-c19b-98c14028ad71"
      },
      "source": [
        "#Leemos dataframe con los datos pacientes normales\r\n",
        "pacientes_normales = pd.read_csv(ruta + '/pacientes_normales.csv')\r\n",
        "pacientes_normales.head()"
      ],
      "execution_count": 15,
      "outputs": [
        {
          "output_type": "execute_result",
          "data": {
            "text/html": [
              "<div>\n",
              "<style scoped>\n",
              "    .dataframe tbody tr th:only-of-type {\n",
              "        vertical-align: middle;\n",
              "    }\n",
              "\n",
              "    .dataframe tbody tr th {\n",
              "        vertical-align: top;\n",
              "    }\n",
              "\n",
              "    .dataframe thead th {\n",
              "        text-align: right;\n",
              "    }\n",
              "</style>\n",
              "<table border=\"1\" class=\"dataframe\">\n",
              "  <thead>\n",
              "    <tr style=\"text-align: right;\">\n",
              "      <th></th>\n",
              "      <th>Unnamed: 0</th>\n",
              "      <th>id_paciente</th>\n",
              "      <th>vista</th>\n",
              "      <th>sexo</th>\n",
              "      <th>edad</th>\n",
              "    </tr>\n",
              "  </thead>\n",
              "  <tbody>\n",
              "    <tr>\n",
              "      <th>0</th>\n",
              "      <td>0</td>\n",
              "      <td>003d8fa0-6bf1-40ed-b54c-ac657f8495c5</td>\n",
              "      <td>PA</td>\n",
              "      <td>M</td>\n",
              "      <td>28</td>\n",
              "    </tr>\n",
              "    <tr>\n",
              "      <th>1</th>\n",
              "      <td>1</td>\n",
              "      <td>009482dc-3db5-48d4-8580-5c89c4f01334</td>\n",
              "      <td>PA</td>\n",
              "      <td>M</td>\n",
              "      <td>63</td>\n",
              "    </tr>\n",
              "    <tr>\n",
              "      <th>2</th>\n",
              "      <td>2</td>\n",
              "      <td>009eb222-eabc-4150-8121-d5a6d06b8ebf</td>\n",
              "      <td>PA</td>\n",
              "      <td>F</td>\n",
              "      <td>54</td>\n",
              "    </tr>\n",
              "    <tr>\n",
              "      <th>3</th>\n",
              "      <td>3</td>\n",
              "      <td>00a85be6-6eb0-421d-8acf-ff2dc0007e8a</td>\n",
              "      <td>PA</td>\n",
              "      <td>M</td>\n",
              "      <td>48</td>\n",
              "    </tr>\n",
              "    <tr>\n",
              "      <th>4</th>\n",
              "      <td>4</td>\n",
              "      <td>00f87de5-5fe0-4921-93ea-914d7e683266</td>\n",
              "      <td>PA</td>\n",
              "      <td>M</td>\n",
              "      <td>36</td>\n",
              "    </tr>\n",
              "  </tbody>\n",
              "</table>\n",
              "</div>"
            ],
            "text/plain": [
              "   Unnamed: 0                           id_paciente vista sexo  edad\n",
              "0           0  003d8fa0-6bf1-40ed-b54c-ac657f8495c5    PA    M    28\n",
              "1           1  009482dc-3db5-48d4-8580-5c89c4f01334    PA    M    63\n",
              "2           2  009eb222-eabc-4150-8121-d5a6d06b8ebf    PA    F    54\n",
              "3           3  00a85be6-6eb0-421d-8acf-ff2dc0007e8a    PA    M    48\n",
              "4           4  00f87de5-5fe0-4921-93ea-914d7e683266    PA    M    36"
            ]
          },
          "metadata": {
            "tags": []
          },
          "execution_count": 15
        }
      ]
    },
    {
      "cell_type": "code",
      "metadata": {
        "id": "na5iM2mgSAvD"
      },
      "source": [
        "pacientes_normales.to_csv(ruta + '/pacientes_normales.csv')"
      ],
      "execution_count": 41,
      "outputs": []
    },
    {
      "cell_type": "code",
      "metadata": {
        "colab": {
          "base_uri": "https://localhost:8080/"
        },
        "id": "HYFEwrN1ZpNM",
        "outputId": "828bd81a-504b-423b-d9ae-000dd563bd56"
      },
      "source": [
        "# Nos quedamos con las imágenes con vista PA (Posteroanterior)\r\n",
        "normales_PA = pacientes_normales[pacientes_normales['vista']=='PA']\r\n",
        "normales_PA.shape"
      ],
      "execution_count": 16,
      "outputs": [
        {
          "output_type": "execute_result",
          "data": {
            "text/plain": [
              "(7214, 5)"
            ]
          },
          "metadata": {
            "tags": []
          },
          "execution_count": 16
        }
      ]
    },
    {
      "cell_type": "code",
      "metadata": {
        "colab": {
          "base_uri": "https://localhost:8080/"
        },
        "id": "tY2FDYvOEXiC",
        "outputId": "78a1c427-7b1d-4d10-f860-b050548fe4aa"
      },
      "source": [
        "normales_PA['ruta']=''\r\n",
        "for contador in range(len(normales_PA)):\r\n",
        "  normales_PA.iloc[contador,-1] = train + '/' + normales_PA.iloc[contador,1] + '.dcm'\r\n",
        "print(normales_PA['ruta'].head())"
      ],
      "execution_count": 27,
      "outputs": [
        {
          "output_type": "stream",
          "text": [
            "/usr/local/lib/python3.7/dist-packages/ipykernel_launcher.py:1: SettingWithCopyWarning: \n",
            "A value is trying to be set on a copy of a slice from a DataFrame.\n",
            "Try using .loc[row_indexer,col_indexer] = value instead\n",
            "\n",
            "See the caveats in the documentation: https://pandas.pydata.org/pandas-docs/stable/user_guide/indexing.html#returning-a-view-versus-a-copy\n",
            "  \"\"\"Entry point for launching an IPython kernel.\n",
            "/usr/local/lib/python3.7/dist-packages/pandas/core/indexing.py:1763: SettingWithCopyWarning: \n",
            "A value is trying to be set on a copy of a slice from a DataFrame.\n",
            "Try using .loc[row_indexer,col_indexer] = value instead\n",
            "\n",
            "See the caveats in the documentation: https://pandas.pydata.org/pandas-docs/stable/user_guide/indexing.html#returning-a-view-versus-a-copy\n",
            "  isetter(loc, value)\n"
          ],
          "name": "stderr"
        },
        {
          "output_type": "stream",
          "text": [
            "0    /content/drive/MyDrive/rsna/stage_2_train_imag...\n",
            "1    /content/drive/MyDrive/rsna/stage_2_train_imag...\n",
            "2    /content/drive/MyDrive/rsna/stage_2_train_imag...\n",
            "3    /content/drive/MyDrive/rsna/stage_2_train_imag...\n",
            "4    /content/drive/MyDrive/rsna/stage_2_train_imag...\n",
            "Name: ruta, dtype: object\n"
          ],
          "name": "stdout"
        }
      ]
    },
    {
      "cell_type": "code",
      "metadata": {
        "id": "lxd5R4elHxjV"
      },
      "source": [
        "import numpy as np\r\n",
        "import torch\r\n",
        "import torchvision\r\n",
        "import torch.nn as nn\r\n",
        "import torch.nn.functional as F\r\n",
        "import torch.optim as optim\r\n",
        "import matplotlib.pyplot as plt\r\n",
        "from torchvision import datasets, transforms\r\n",
        "from torch.utils.data import Dataset, DataLoader\r\n",
        "from torchvision import transforms, utils"
      ],
      "execution_count": 43,
      "outputs": []
    },
    {
      "cell_type": "code",
      "metadata": {
        "colab": {
          "base_uri": "https://localhost:8080/"
        },
        "id": "JMGXGJ3ZL4dK",
        "outputId": "7422af48-7d40-4a40-ae4a-488da1e10759"
      },
      "source": [
        "device = torch.device(\"cuda\" if torch.cuda.is_available() else \"cpu\")\r\n",
        "print(device)\r\n",
        "!nvidia-smi"
      ],
      "execution_count": 44,
      "outputs": [
        {
          "output_type": "stream",
          "text": [
            "cuda\n",
            "Wed Feb 24 23:17:31 2021       \n",
            "+-----------------------------------------------------------------------------+\n",
            "| NVIDIA-SMI 460.39       Driver Version: 460.32.03    CUDA Version: 11.2     |\n",
            "|-------------------------------+----------------------+----------------------+\n",
            "| GPU  Name        Persistence-M| Bus-Id        Disp.A | Volatile Uncorr. ECC |\n",
            "| Fan  Temp  Perf  Pwr:Usage/Cap|         Memory-Usage | GPU-Util  Compute M. |\n",
            "|                               |                      |               MIG M. |\n",
            "|===============================+======================+======================|\n",
            "|   0  Tesla T4            Off  | 00000000:00:04.0 Off |                    0 |\n",
            "| N/A   42C    P8     9W /  70W |      3MiB / 15109MiB |      0%      Default |\n",
            "|                               |                      |                  N/A |\n",
            "+-------------------------------+----------------------+----------------------+\n",
            "                                                                               \n",
            "+-----------------------------------------------------------------------------+\n",
            "| Processes:                                                                  |\n",
            "|  GPU   GI   CI        PID   Type   Process name                  GPU Memory |\n",
            "|        ID   ID                                                   Usage      |\n",
            "|=============================================================================|\n",
            "|  No running processes found                                                 |\n",
            "+-----------------------------------------------------------------------------+\n"
          ],
          "name": "stdout"
        }
      ]
    },
    {
      "cell_type": "code",
      "metadata": {
        "id": "vlX4mI_HTNTn"
      },
      "source": [
        "class RSNA(Dataset):\r\n",
        "    \"\"\"RSNA dataset.\"\"\"\r\n",
        "\r\n",
        "    def __init__(self, csv_file, root_dir, transform=None):\r\n",
        "        \"\"\"\r\n",
        "        Args:\r\n",
        "            csv_file (string): Path to the csv file with annotations.\r\n",
        "            root_dir (string): Directory with all the images.\r\n",
        "            transform (callable, optional): Optional transform to be applied\r\n",
        "                on a sample.\r\n",
        "        \"\"\"\r\n",
        "        self.ruta_imagen = pd.read_csv(csv_file)\r\n",
        "        self.root_dir = root_dir\r\n",
        "        self.transform = transform\r\n",
        "\r\n",
        "    def __len__(self):\r\n",
        "        return len(self.ruta_imagen)\r\n",
        "\r\n",
        "    def __getitem__(self, idx):\r\n",
        "        if torch.is_tensor(idx):\r\n",
        "            idx = idx.tolist()\r\n",
        "\r\n",
        "        img_name = self.ruta_imagen.iloc[idx, 6]\r\n",
        "        ds = pydicom.dcmread(img_name)\r\n",
        "        image = ds.pixel_array\r\n",
        "        \r\n",
        "\r\n",
        "        if self.transform:\r\n",
        "            sample = self.transform(image)\r\n",
        "\r\n",
        "        return sample"
      ],
      "execution_count": 67,
      "outputs": []
    },
    {
      "cell_type": "code",
      "metadata": {
        "id": "f8o_aLqgVm3K"
      },
      "source": [
        "normales_PA.to_csv(ruta + '/normales_PA.csv')"
      ],
      "execution_count": 62,
      "outputs": []
    },
    {
      "cell_type": "code",
      "metadata": {
        "id": "597wDui4WvpG"
      },
      "source": [
        "rsna_dataset = RSNA(csv_file=ruta + '/normales_PA.csv',\r\n",
        "                                    root_dir=train)\r\n"
      ],
      "execution_count": 68,
      "outputs": []
    },
    {
      "cell_type": "code",
      "metadata": {
        "colab": {
          "base_uri": "https://localhost:8080/",
          "height": 419
        },
        "id": "h3EEarhbW8Tq",
        "outputId": "efcc1168-0275-449a-9db8-6d56414e07cd"
      },
      "source": [
        "rsna_dataset.ruta_imagen"
      ],
      "execution_count": 69,
      "outputs": [
        {
          "output_type": "execute_result",
          "data": {
            "text/html": [
              "<div>\n",
              "<style scoped>\n",
              "    .dataframe tbody tr th:only-of-type {\n",
              "        vertical-align: middle;\n",
              "    }\n",
              "\n",
              "    .dataframe tbody tr th {\n",
              "        vertical-align: top;\n",
              "    }\n",
              "\n",
              "    .dataframe thead th {\n",
              "        text-align: right;\n",
              "    }\n",
              "</style>\n",
              "<table border=\"1\" class=\"dataframe\">\n",
              "  <thead>\n",
              "    <tr style=\"text-align: right;\">\n",
              "      <th></th>\n",
              "      <th>Unnamed: 0</th>\n",
              "      <th>Unnamed: 0.1</th>\n",
              "      <th>id_paciente</th>\n",
              "      <th>vista</th>\n",
              "      <th>sexo</th>\n",
              "      <th>edad</th>\n",
              "      <th>ruta</th>\n",
              "    </tr>\n",
              "  </thead>\n",
              "  <tbody>\n",
              "    <tr>\n",
              "      <th>0</th>\n",
              "      <td>0</td>\n",
              "      <td>0</td>\n",
              "      <td>003d8fa0-6bf1-40ed-b54c-ac657f8495c5</td>\n",
              "      <td>PA</td>\n",
              "      <td>M</td>\n",
              "      <td>28</td>\n",
              "      <td>/content/drive/MyDrive/rsna/stage_2_train_imag...</td>\n",
              "    </tr>\n",
              "    <tr>\n",
              "      <th>1</th>\n",
              "      <td>1</td>\n",
              "      <td>1</td>\n",
              "      <td>009482dc-3db5-48d4-8580-5c89c4f01334</td>\n",
              "      <td>PA</td>\n",
              "      <td>M</td>\n",
              "      <td>63</td>\n",
              "      <td>/content/drive/MyDrive/rsna/stage_2_train_imag...</td>\n",
              "    </tr>\n",
              "    <tr>\n",
              "      <th>2</th>\n",
              "      <td>2</td>\n",
              "      <td>2</td>\n",
              "      <td>009eb222-eabc-4150-8121-d5a6d06b8ebf</td>\n",
              "      <td>PA</td>\n",
              "      <td>F</td>\n",
              "      <td>54</td>\n",
              "      <td>/content/drive/MyDrive/rsna/stage_2_train_imag...</td>\n",
              "    </tr>\n",
              "    <tr>\n",
              "      <th>3</th>\n",
              "      <td>3</td>\n",
              "      <td>3</td>\n",
              "      <td>00a85be6-6eb0-421d-8acf-ff2dc0007e8a</td>\n",
              "      <td>PA</td>\n",
              "      <td>M</td>\n",
              "      <td>48</td>\n",
              "      <td>/content/drive/MyDrive/rsna/stage_2_train_imag...</td>\n",
              "    </tr>\n",
              "    <tr>\n",
              "      <th>4</th>\n",
              "      <td>4</td>\n",
              "      <td>4</td>\n",
              "      <td>00f87de5-5fe0-4921-93ea-914d7e683266</td>\n",
              "      <td>PA</td>\n",
              "      <td>M</td>\n",
              "      <td>36</td>\n",
              "      <td>/content/drive/MyDrive/rsna/stage_2_train_imag...</td>\n",
              "    </tr>\n",
              "    <tr>\n",
              "      <th>...</th>\n",
              "      <td>...</td>\n",
              "      <td>...</td>\n",
              "      <td>...</td>\n",
              "      <td>...</td>\n",
              "      <td>...</td>\n",
              "      <td>...</td>\n",
              "      <td>...</td>\n",
              "    </tr>\n",
              "    <tr>\n",
              "      <th>7209</th>\n",
              "      <td>8845</td>\n",
              "      <td>8845</td>\n",
              "      <td>c1c3ec5d-20ba-42f7-91f9-48032d97ffc9</td>\n",
              "      <td>PA</td>\n",
              "      <td>F</td>\n",
              "      <td>26</td>\n",
              "      <td>/content/drive/MyDrive/rsna/stage_2_train_imag...</td>\n",
              "    </tr>\n",
              "    <tr>\n",
              "      <th>7210</th>\n",
              "      <td>8846</td>\n",
              "      <td>8846</td>\n",
              "      <td>c1ca4417-83a6-43a7-a9bf-7d9587e7f14f</td>\n",
              "      <td>PA</td>\n",
              "      <td>M</td>\n",
              "      <td>33</td>\n",
              "      <td>/content/drive/MyDrive/rsna/stage_2_train_imag...</td>\n",
              "    </tr>\n",
              "    <tr>\n",
              "      <th>7211</th>\n",
              "      <td>8847</td>\n",
              "      <td>8847</td>\n",
              "      <td>c1cf3255-d734-4980-bfe0-967902ad7ed9</td>\n",
              "      <td>PA</td>\n",
              "      <td>F</td>\n",
              "      <td>27</td>\n",
              "      <td>/content/drive/MyDrive/rsna/stage_2_train_imag...</td>\n",
              "    </tr>\n",
              "    <tr>\n",
              "      <th>7212</th>\n",
              "      <td>8849</td>\n",
              "      <td>8849</td>\n",
              "      <td>c1edf42b-5958-47ff-a1e7-4f23d99583ba</td>\n",
              "      <td>PA</td>\n",
              "      <td>F</td>\n",
              "      <td>46</td>\n",
              "      <td>/content/drive/MyDrive/rsna/stage_2_train_imag...</td>\n",
              "    </tr>\n",
              "    <tr>\n",
              "      <th>7213</th>\n",
              "      <td>8850</td>\n",
              "      <td>8850</td>\n",
              "      <td>c1f6b555-2eb1-4231-98f6-50a963976431</td>\n",
              "      <td>PA</td>\n",
              "      <td>M</td>\n",
              "      <td>45</td>\n",
              "      <td>/content/drive/MyDrive/rsna/stage_2_train_imag...</td>\n",
              "    </tr>\n",
              "  </tbody>\n",
              "</table>\n",
              "<p>7214 rows × 7 columns</p>\n",
              "</div>"
            ],
            "text/plain": [
              "      Unnamed: 0  ...                                               ruta\n",
              "0              0  ...  /content/drive/MyDrive/rsna/stage_2_train_imag...\n",
              "1              1  ...  /content/drive/MyDrive/rsna/stage_2_train_imag...\n",
              "2              2  ...  /content/drive/MyDrive/rsna/stage_2_train_imag...\n",
              "3              3  ...  /content/drive/MyDrive/rsna/stage_2_train_imag...\n",
              "4              4  ...  /content/drive/MyDrive/rsna/stage_2_train_imag...\n",
              "...          ...  ...                                                ...\n",
              "7209        8845  ...  /content/drive/MyDrive/rsna/stage_2_train_imag...\n",
              "7210        8846  ...  /content/drive/MyDrive/rsna/stage_2_train_imag...\n",
              "7211        8847  ...  /content/drive/MyDrive/rsna/stage_2_train_imag...\n",
              "7212        8849  ...  /content/drive/MyDrive/rsna/stage_2_train_imag...\n",
              "7213        8850  ...  /content/drive/MyDrive/rsna/stage_2_train_imag...\n",
              "\n",
              "[7214 rows x 7 columns]"
            ]
          },
          "metadata": {
            "tags": []
          },
          "execution_count": 69
        }
      ]
    },
    {
      "cell_type": "code",
      "metadata": {
        "colab": {
          "base_uri": "https://localhost:8080/",
          "height": 333
        },
        "id": "viAUolsfVckH",
        "outputId": "7ff1d1b6-7ea4-47dc-fdc0-c2f0b7e2f394"
      },
      "source": [
        "rsna_dataset = RSNA(csv_file=ruta + '/normales_PA.csv',\r\n",
        "                                    root_dir=train)\r\n",
        "\r\n",
        "fig = plt.figure()\r\n",
        "\r\n",
        "for i in range(len(rsna_dataset)):\r\n",
        "    sample = rsna_dataset[i]\r\n",
        "\r\n",
        "    ax = plt.subplot(1, 4, i + 1)\r\n",
        "    plt.tight_layout()\r\n",
        "    ax.set_title('Sample #{}'.format(i))\r\n",
        "    ax.axis('off')\r\n",
        "    show_landmarks(**sample)\r\n",
        "\r\n",
        "    if i == 3:\r\n",
        "        plt.show()\r\n",
        "        break"
      ],
      "execution_count": 70,
      "outputs": [
        {
          "output_type": "error",
          "ename": "UnboundLocalError",
          "evalue": "ignored",
          "traceback": [
            "\u001b[0;31m---------------------------------------------------------------------------\u001b[0m",
            "\u001b[0;31mUnboundLocalError\u001b[0m                         Traceback (most recent call last)",
            "\u001b[0;32m<ipython-input-70-1a5a8f63e68d>\u001b[0m in \u001b[0;36m<module>\u001b[0;34m()\u001b[0m\n\u001b[1;32m      5\u001b[0m \u001b[0;34m\u001b[0m\u001b[0m\n\u001b[1;32m      6\u001b[0m \u001b[0;32mfor\u001b[0m \u001b[0mi\u001b[0m \u001b[0;32min\u001b[0m \u001b[0mrange\u001b[0m\u001b[0;34m(\u001b[0m\u001b[0mlen\u001b[0m\u001b[0;34m(\u001b[0m\u001b[0mrsna_dataset\u001b[0m\u001b[0;34m)\u001b[0m\u001b[0;34m)\u001b[0m\u001b[0;34m:\u001b[0m\u001b[0;34m\u001b[0m\u001b[0;34m\u001b[0m\u001b[0m\n\u001b[0;32m----> 7\u001b[0;31m     \u001b[0msample\u001b[0m \u001b[0;34m=\u001b[0m \u001b[0mrsna_dataset\u001b[0m\u001b[0;34m[\u001b[0m\u001b[0mi\u001b[0m\u001b[0;34m]\u001b[0m\u001b[0;34m\u001b[0m\u001b[0;34m\u001b[0m\u001b[0m\n\u001b[0m\u001b[1;32m      8\u001b[0m \u001b[0;34m\u001b[0m\u001b[0m\n\u001b[1;32m      9\u001b[0m     \u001b[0max\u001b[0m \u001b[0;34m=\u001b[0m \u001b[0mplt\u001b[0m\u001b[0;34m.\u001b[0m\u001b[0msubplot\u001b[0m\u001b[0;34m(\u001b[0m\u001b[0;36m1\u001b[0m\u001b[0;34m,\u001b[0m \u001b[0;36m4\u001b[0m\u001b[0;34m,\u001b[0m \u001b[0mi\u001b[0m \u001b[0;34m+\u001b[0m \u001b[0;36m1\u001b[0m\u001b[0;34m)\u001b[0m\u001b[0;34m\u001b[0m\u001b[0;34m\u001b[0m\u001b[0m\n",
            "\u001b[0;32m<ipython-input-67-44f93f822c63>\u001b[0m in \u001b[0;36m__getitem__\u001b[0;34m(self, idx)\u001b[0m\n\u001b[1;32m     29\u001b[0m             \u001b[0msample\u001b[0m \u001b[0;34m=\u001b[0m \u001b[0mself\u001b[0m\u001b[0;34m.\u001b[0m\u001b[0mtransform\u001b[0m\u001b[0;34m(\u001b[0m\u001b[0mimage\u001b[0m\u001b[0;34m)\u001b[0m\u001b[0;34m\u001b[0m\u001b[0;34m\u001b[0m\u001b[0m\n\u001b[1;32m     30\u001b[0m \u001b[0;34m\u001b[0m\u001b[0m\n\u001b[0;32m---> 31\u001b[0;31m         \u001b[0;32mreturn\u001b[0m \u001b[0msample\u001b[0m\u001b[0;34m\u001b[0m\u001b[0;34m\u001b[0m\u001b[0m\n\u001b[0m",
            "\u001b[0;31mUnboundLocalError\u001b[0m: local variable 'sample' referenced before assignment"
          ]
        },
        {
          "output_type": "display_data",
          "data": {
            "text/plain": [
              "<Figure size 432x288 with 0 Axes>"
            ]
          },
          "metadata": {
            "tags": []
          }
        }
      ]
    },
    {
      "cell_type": "code",
      "metadata": {
        "colab": {
          "base_uri": "https://localhost:8080/",
          "height": 35
        },
        "id": "8gCyIf-MXVDw",
        "outputId": "5e0a9549-c550-40e8-f011-371ca2f3a7f5"
      },
      "source": [
        "normales_PA.iloc[0,5]"
      ],
      "execution_count": 57,
      "outputs": [
        {
          "output_type": "execute_result",
          "data": {
            "application/vnd.google.colaboratory.intrinsic+json": {
              "type": "string"
            },
            "text/plain": [
              "'/content/drive/MyDrive/rsna/stage_2_train_images/003d8fa0-6bf1-40ed-b54c-ac657f8495c5.dcm'"
            ]
          },
          "metadata": {
            "tags": []
          },
          "execution_count": 57
        }
      ]
    },
    {
      "cell_type": "code",
      "metadata": {
        "id": "AVkZKfTdL8O6"
      },
      "source": [
        "batch_size=32\r\n",
        "\r\n",
        "transform = transforms.Compose(\r\n",
        "    [transforms.Resize(128),\r\n",
        "     transforms.ToTensor(),\r\n",
        "     transforms.Normalize((0.5, 0.5, 0.5), (0.5, 0.5, 0.5))])\r\n",
        "\r\n",
        "trainset = torchvision.datasets.CIFAR10(root='./data', train=True,\r\n",
        "                                        download=True, transform=transform)\r\n",
        "trainloader = torch.utils.data.DataLoader(trainset, batch_size=batch_size,\r\n",
        "                                          shuffle=True, num_workers=2)"
      ],
      "execution_count": null,
      "outputs": []
    }
  ]
}