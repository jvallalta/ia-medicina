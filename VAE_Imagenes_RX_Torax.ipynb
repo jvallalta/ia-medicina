{
  "nbformat": 4,
  "nbformat_minor": 0,
  "metadata": {
    "colab": {
      "name": "VAE-Imagenes-RX-Torax",
      "provenance": [],
      "toc_visible": true,
      "authorship_tag": "ABX9TyMB/Alrmt5yuBv+wR1bx7bk",
      "include_colab_link": true
    },
    "kernelspec": {
      "name": "python3",
      "display_name": "Python 3"
    },
    "accelerator": "GPU"
  },
  "cells": [
    {
      "cell_type": "markdown",
      "metadata": {
        "id": "view-in-github",
        "colab_type": "text"
      },
      "source": [
        "<a href=\"https://colab.research.google.com/github/jvallalta/ia-medicina/blob/main/VAE_Imagenes_RX_Torax.ipynb\" target=\"_parent\"><img src=\"https://colab.research.google.com/assets/colab-badge.svg\" alt=\"Open In Colab\"/></a>"
      ]
    },
    {
      "cell_type": "markdown",
      "metadata": {
        "id": "SWgCi67bDiHs"
      },
      "source": [
        "# Autoencoders variacionales con imágenes de RX Tórax"
      ]
    },
    {
      "cell_type": "code",
      "metadata": {
        "id": "amYHbF3zDg6K"
      },
      "source": [
        "import pandas as pd\r\n",
        "import numpy as np\r\n",
        "import matplotlib.pyplot as plt\r\n",
        "%matplotlib inline\r\n",
        "import os\r\n",
        "import seaborn as sns\r\n",
        "from google.colab import drive"
      ],
      "execution_count": 1,
      "outputs": []
    },
    {
      "cell_type": "code",
      "metadata": {
        "colab": {
          "base_uri": "https://localhost:8080/"
        },
        "id": "jb4P5yFGDt51",
        "outputId": "ef9fca9e-3dd8-42b9-dfc7-e494a13ddb1b"
      },
      "source": [
        "# Leemos el conjunto RSNA del drive\r\n",
        "drive.mount('/content/drive')"
      ],
      "execution_count": 2,
      "outputs": [
        {
          "output_type": "stream",
          "text": [
            "Mounted at /content/drive\n"
          ],
          "name": "stdout"
        }
      ]
    },
    {
      "cell_type": "code",
      "metadata": {
        "id": "nE2TvsV-D00B"
      },
      "source": [
        "# Rutas\r\n",
        "train = '/content/drive/MyDrive/rsna/stage_2_train_images'\r\n",
        "test = '/content/drive/MyDrive/rsna/stage_2_test_images'\r\n",
        "ruta = '/content/drive/MyDrive/rsna'"
      ],
      "execution_count": 3,
      "outputs": []
    },
    {
      "cell_type": "code",
      "metadata": {
        "colab": {
          "base_uri": "https://localhost:8080/",
          "height": 204
        },
        "id": "egstyUYPEy3z",
        "outputId": "bab05054-cb06-4e8e-8084-827046220795"
      },
      "source": [
        "# Cargamos el fichero con metadatos\r\n",
        "imagenes = pd.read_csv(ruta+'/stage_2_detailed_class_info.csv')\r\n",
        "imagenes.head()"
      ],
      "execution_count": 4,
      "outputs": [
        {
          "output_type": "execute_result",
          "data": {
            "text/html": [
              "<div>\n",
              "<style scoped>\n",
              "    .dataframe tbody tr th:only-of-type {\n",
              "        vertical-align: middle;\n",
              "    }\n",
              "\n",
              "    .dataframe tbody tr th {\n",
              "        vertical-align: top;\n",
              "    }\n",
              "\n",
              "    .dataframe thead th {\n",
              "        text-align: right;\n",
              "    }\n",
              "</style>\n",
              "<table border=\"1\" class=\"dataframe\">\n",
              "  <thead>\n",
              "    <tr style=\"text-align: right;\">\n",
              "      <th></th>\n",
              "      <th>patientId</th>\n",
              "      <th>class</th>\n",
              "    </tr>\n",
              "  </thead>\n",
              "  <tbody>\n",
              "    <tr>\n",
              "      <th>0</th>\n",
              "      <td>0004cfab-14fd-4e49-80ba-63a80b6bddd6</td>\n",
              "      <td>No Lung Opacity / Not Normal</td>\n",
              "    </tr>\n",
              "    <tr>\n",
              "      <th>1</th>\n",
              "      <td>00313ee0-9eaa-42f4-b0ab-c148ed3241cd</td>\n",
              "      <td>No Lung Opacity / Not Normal</td>\n",
              "    </tr>\n",
              "    <tr>\n",
              "      <th>2</th>\n",
              "      <td>00322d4d-1c29-4943-afc9-b6754be640eb</td>\n",
              "      <td>No Lung Opacity / Not Normal</td>\n",
              "    </tr>\n",
              "    <tr>\n",
              "      <th>3</th>\n",
              "      <td>003d8fa0-6bf1-40ed-b54c-ac657f8495c5</td>\n",
              "      <td>Normal</td>\n",
              "    </tr>\n",
              "    <tr>\n",
              "      <th>4</th>\n",
              "      <td>00436515-870c-4b36-a041-de91049b9ab4</td>\n",
              "      <td>Lung Opacity</td>\n",
              "    </tr>\n",
              "  </tbody>\n",
              "</table>\n",
              "</div>"
            ],
            "text/plain": [
              "                              patientId                         class\n",
              "0  0004cfab-14fd-4e49-80ba-63a80b6bddd6  No Lung Opacity / Not Normal\n",
              "1  00313ee0-9eaa-42f4-b0ab-c148ed3241cd  No Lung Opacity / Not Normal\n",
              "2  00322d4d-1c29-4943-afc9-b6754be640eb  No Lung Opacity / Not Normal\n",
              "3  003d8fa0-6bf1-40ed-b54c-ac657f8495c5                        Normal\n",
              "4  00436515-870c-4b36-a041-de91049b9ab4                  Lung Opacity"
            ]
          },
          "metadata": {
            "tags": []
          },
          "execution_count": 4
        }
      ]
    },
    {
      "cell_type": "code",
      "metadata": {
        "id": "YLvkERfZFmTM"
      },
      "source": [
        "# Separamos imágenes pacientes sanos de imágenes de pacientes con anomalias\r\n",
        "normales = imagenes[imagenes['class']=='Normal']\r\n",
        "anormales = imagenes[imagenes['class']!='Normal']"
      ],
      "execution_count": 5,
      "outputs": []
    },
    {
      "cell_type": "code",
      "metadata": {
        "colab": {
          "base_uri": "https://localhost:8080/"
        },
        "id": "XntTYtiFG95D",
        "outputId": "5da1dbeb-ab31-4455-8844-efb0585d5344"
      },
      "source": [
        "#Tamaños\r\n",
        "print(normales.shape)\r\n",
        "print(anormales.shape)"
      ],
      "execution_count": 6,
      "outputs": [
        {
          "output_type": "stream",
          "text": [
            "(8851, 2)\n",
            "(21376, 2)\n"
          ],
          "name": "stdout"
        }
      ]
    },
    {
      "cell_type": "code",
      "metadata": {
        "colab": {
          "base_uri": "https://localhost:8080/"
        },
        "id": "_jTzuUDoHcrF",
        "outputId": "4d5cc960-5e22-4b6a-896f-9048d7b7d13a"
      },
      "source": [
        "#Definimos función lectura dicom\r\n",
        "!pip install pydicom\r\n",
        "import pydicom"
      ],
      "execution_count": 7,
      "outputs": [
        {
          "output_type": "stream",
          "text": [
            "Collecting pydicom\n",
            "\u001b[?25l  Downloading https://files.pythonhosted.org/packages/f4/15/df16546bc59bfca390cf072d473fb2c8acd4231636f64356593a63137e55/pydicom-2.1.2-py3-none-any.whl (1.9MB)\n",
            "\u001b[K     |████████████████████████████████| 1.9MB 9.0MB/s \n",
            "\u001b[?25hInstalling collected packages: pydicom\n",
            "Successfully installed pydicom-2.1.2\n"
          ],
          "name": "stdout"
        }
      ]
    },
    {
      "cell_type": "code",
      "metadata": {
        "id": "e0uGj85LIoYS"
      },
      "source": [
        "#Función lectura imagen\r\n",
        "def leer_dicom(imagen):\r\n",
        "  ds = pydicom.dcmread(imagen)\r\n",
        "    \r\n",
        "  img = ds.pixel_array\r\n",
        "  view = ds.ViewPosition\r\n",
        "  sexo = ds.PatientSex\r\n",
        "  edad = ds.PatientAge\r\n",
        "  return img, view, sexo, edad"
      ],
      "execution_count": 8,
      "outputs": []
    },
    {
      "cell_type": "code",
      "metadata": {
        "colab": {
          "base_uri": "https://localhost:8080/",
          "height": 320
        },
        "id": "QvT8Bc6oH-iY",
        "outputId": "37208535-5825-492d-dc0d-1ae172020c06"
      },
      "source": [
        "# Probamos lectura de la imagen\r\n",
        "prueba ='/content/drive/MyDrive/rsna/stage_2_train_images/02099738-7465-4786-b71c-de8cdac477c3.dcm'\r\n",
        "imagen, vista, sexo, edad = leer_dicom(prueba)\r\n",
        "plt.imshow(imagen, cmap='gray')\r\n",
        "print(vista)\r\n",
        "print(sexo)\r\n",
        "print(edad)"
      ],
      "execution_count": 10,
      "outputs": [
        {
          "output_type": "stream",
          "text": [
            "AP\n",
            "F\n",
            "34\n"
          ],
          "name": "stdout"
        },
        {
          "output_type": "display_data",
          "data": {
            "image/png": "[encoded data removed]",
            "text/plain": [
              "<Figure size 432x288 with 1 Axes>"
            ]
          },
          "metadata": {
            "tags": [],
            "needs_background": "light"
          }
        }
      ]
    },
    {
      "cell_type": "code",
      "metadata": {
        "id": "Bq0rU8Y_IiQC"
      },
      "source": [
        "# Creamos dataframe con datos de pacientes normales\r\n",
        "#pacientes_normales = pd.DataFrame(columns=('id_paciente', 'vista', 'sexo', 'edad'))\r\n",
        "#for contador in range(len(normales)):\r\n",
        "#  _, vista, sexo, edad = leer_dicom(train + '/' + normales.iloc[contador,0] + '.dcm')\r\n",
        "#  pacientes_normales.loc[len(pacientes_normales)]=[normales.iloc[contador,0], vista, sexo, edad]"
      ],
      "execution_count": 69,
      "outputs": []
    },
    {
      "cell_type": "code",
      "metadata": {
        "colab": {
          "base_uri": "https://localhost:8080/",
          "height": 204
        },
        "id": "arlqAc20Rzu9",
        "outputId": "074e8893-3afa-4d99-f68f-8b63c36cfe12"
      },
      "source": [
        "#Leemos dataframe con los datos pacientes normales\r\n",
        "pacientes_normales = pd.read_csv(ruta + '/pacientes_normales.csv')\r\n",
        "pacientes_normales.head()"
      ],
      "execution_count": 12,
      "outputs": [
        {
          "output_type": "execute_result",
          "data": {
            "text/html": [
              "<div>\n",
              "<style scoped>\n",
              "    .dataframe tbody tr th:only-of-type {\n",
              "        vertical-align: middle;\n",
              "    }\n",
              "\n",
              "    .dataframe tbody tr th {\n",
              "        vertical-align: top;\n",
              "    }\n",
              "\n",
              "    .dataframe thead th {\n",
              "        text-align: right;\n",
              "    }\n",
              "</style>\n",
              "<table border=\"1\" class=\"dataframe\">\n",
              "  <thead>\n",
              "    <tr style=\"text-align: right;\">\n",
              "      <th></th>\n",
              "      <th>Unnamed: 0</th>\n",
              "      <th>id_paciente</th>\n",
              "      <th>vista</th>\n",
              "      <th>sexo</th>\n",
              "      <th>edad</th>\n",
              "    </tr>\n",
              "  </thead>\n",
              "  <tbody>\n",
              "    <tr>\n",
              "      <th>0</th>\n",
              "      <td>0</td>\n",
              "      <td>003d8fa0-6bf1-40ed-b54c-ac657f8495c5</td>\n",
              "      <td>PA</td>\n",
              "      <td>M</td>\n",
              "      <td>28</td>\n",
              "    </tr>\n",
              "    <tr>\n",
              "      <th>1</th>\n",
              "      <td>1</td>\n",
              "      <td>009482dc-3db5-48d4-8580-5c89c4f01334</td>\n",
              "      <td>PA</td>\n",
              "      <td>M</td>\n",
              "      <td>63</td>\n",
              "    </tr>\n",
              "    <tr>\n",
              "      <th>2</th>\n",
              "      <td>2</td>\n",
              "      <td>009eb222-eabc-4150-8121-d5a6d06b8ebf</td>\n",
              "      <td>PA</td>\n",
              "      <td>F</td>\n",
              "      <td>54</td>\n",
              "    </tr>\n",
              "    <tr>\n",
              "      <th>3</th>\n",
              "      <td>3</td>\n",
              "      <td>00a85be6-6eb0-421d-8acf-ff2dc0007e8a</td>\n",
              "      <td>PA</td>\n",
              "      <td>M</td>\n",
              "      <td>48</td>\n",
              "    </tr>\n",
              "    <tr>\n",
              "      <th>4</th>\n",
              "      <td>4</td>\n",
              "      <td>00f87de5-5fe0-4921-93ea-914d7e683266</td>\n",
              "      <td>PA</td>\n",
              "      <td>M</td>\n",
              "      <td>36</td>\n",
              "    </tr>\n",
              "  </tbody>\n",
              "</table>\n",
              "</div>"
            ],
            "text/plain": [
              "   Unnamed: 0                           id_paciente vista sexo  edad\n",
              "0           0  003d8fa0-6bf1-40ed-b54c-ac657f8495c5    PA    M    28\n",
              "1           1  009482dc-3db5-48d4-8580-5c89c4f01334    PA    M    63\n",
              "2           2  009eb222-eabc-4150-8121-d5a6d06b8ebf    PA    F    54\n",
              "3           3  00a85be6-6eb0-421d-8acf-ff2dc0007e8a    PA    M    48\n",
              "4           4  00f87de5-5fe0-4921-93ea-914d7e683266    PA    M    36"
            ]
          },
          "metadata": {
            "tags": []
          },
          "execution_count": 12
        }
      ]
    },
    {
      "cell_type": "code",
      "metadata": {
        "colab": {
          "base_uri": "https://localhost:8080/",
          "height": 204
        },
        "id": "F6mdbDNh-czd",
        "outputId": "8e85e766-d429-4941-d19a-b145db6ed8ce"
      },
      "source": [
        "pacientes_normales = pacientes_normales.drop(['Unnamed: 0'], axis=1)\r\n",
        "pacientes_normales.head()"
      ],
      "execution_count": 13,
      "outputs": [
        {
          "output_type": "execute_result",
          "data": {
            "text/html": [
              "<div>\n",
              "<style scoped>\n",
              "    .dataframe tbody tr th:only-of-type {\n",
              "        vertical-align: middle;\n",
              "    }\n",
              "\n",
              "    .dataframe tbody tr th {\n",
              "        vertical-align: top;\n",
              "    }\n",
              "\n",
              "    .dataframe thead th {\n",
              "        text-align: right;\n",
              "    }\n",
              "</style>\n",
              "<table border=\"1\" class=\"dataframe\">\n",
              "  <thead>\n",
              "    <tr style=\"text-align: right;\">\n",
              "      <th></th>\n",
              "      <th>id_paciente</th>\n",
              "      <th>vista</th>\n",
              "      <th>sexo</th>\n",
              "      <th>edad</th>\n",
              "    </tr>\n",
              "  </thead>\n",
              "  <tbody>\n",
              "    <tr>\n",
              "      <th>0</th>\n",
              "      <td>003d8fa0-6bf1-40ed-b54c-ac657f8495c5</td>\n",
              "      <td>PA</td>\n",
              "      <td>M</td>\n",
              "      <td>28</td>\n",
              "    </tr>\n",
              "    <tr>\n",
              "      <th>1</th>\n",
              "      <td>009482dc-3db5-48d4-8580-5c89c4f01334</td>\n",
              "      <td>PA</td>\n",
              "      <td>M</td>\n",
              "      <td>63</td>\n",
              "    </tr>\n",
              "    <tr>\n",
              "      <th>2</th>\n",
              "      <td>009eb222-eabc-4150-8121-d5a6d06b8ebf</td>\n",
              "      <td>PA</td>\n",
              "      <td>F</td>\n",
              "      <td>54</td>\n",
              "    </tr>\n",
              "    <tr>\n",
              "      <th>3</th>\n",
              "      <td>00a85be6-6eb0-421d-8acf-ff2dc0007e8a</td>\n",
              "      <td>PA</td>\n",
              "      <td>M</td>\n",
              "      <td>48</td>\n",
              "    </tr>\n",
              "    <tr>\n",
              "      <th>4</th>\n",
              "      <td>00f87de5-5fe0-4921-93ea-914d7e683266</td>\n",
              "      <td>PA</td>\n",
              "      <td>M</td>\n",
              "      <td>36</td>\n",
              "    </tr>\n",
              "  </tbody>\n",
              "</table>\n",
              "</div>"
            ],
            "text/plain": [
              "                            id_paciente vista sexo  edad\n",
              "0  003d8fa0-6bf1-40ed-b54c-ac657f8495c5    PA    M    28\n",
              "1  009482dc-3db5-48d4-8580-5c89c4f01334    PA    M    63\n",
              "2  009eb222-eabc-4150-8121-d5a6d06b8ebf    PA    F    54\n",
              "3  00a85be6-6eb0-421d-8acf-ff2dc0007e8a    PA    M    48\n",
              "4  00f87de5-5fe0-4921-93ea-914d7e683266    PA    M    36"
            ]
          },
          "metadata": {
            "tags": []
          },
          "execution_count": 13
        }
      ]
    },
    {
      "cell_type": "code",
      "metadata": {
        "id": "na5iM2mgSAvD"
      },
      "source": [
        "pacientes_normales.to_csv(ruta + '/pacientes_normales.csv')"
      ],
      "execution_count": 14,
      "outputs": []
    },
    {
      "cell_type": "code",
      "metadata": {
        "colab": {
          "base_uri": "https://localhost:8080/"
        },
        "id": "HYFEwrN1ZpNM",
        "outputId": "12983859-07ef-446c-d872-33fbf6d3bae3"
      },
      "source": [
        "# Nos quedamos con las imágenes con vista PA (Posteroanterior)\r\n",
        "normales_PA = pacientes_normales[pacientes_normales['vista']=='PA']\r\n",
        "normales_PA.shape"
      ],
      "execution_count": 15,
      "outputs": [
        {
          "output_type": "execute_result",
          "data": {
            "text/plain": [
              "(7214, 4)"
            ]
          },
          "metadata": {
            "tags": []
          },
          "execution_count": 15
        }
      ]
    },
    {
      "cell_type": "code",
      "metadata": {
        "colab": {
          "base_uri": "https://localhost:8080/"
        },
        "id": "tY2FDYvOEXiC",
        "outputId": "a4c4b456-a000-4c0a-e5af-e8f5ac7f8398"
      },
      "source": [
        "normales_PA['ruta']=''\r\n",
        "for contador in range(len(normales_PA)):\r\n",
        "  normales_PA.iloc[contador,-1] = train + '/' + normales_PA.iloc[contador,0] + '.dcm'\r\n",
        "print(normales_PA['ruta'].head())"
      ],
      "execution_count": 16,
      "outputs": [
        {
          "output_type": "stream",
          "text": [
            "/usr/local/lib/python3.7/dist-packages/ipykernel_launcher.py:1: SettingWithCopyWarning: \n",
            "A value is trying to be set on a copy of a slice from a DataFrame.\n",
            "Try using .loc[row_indexer,col_indexer] = value instead\n",
            "\n",
            "See the caveats in the documentation: https://pandas.pydata.org/pandas-docs/stable/user_guide/indexing.html#returning-a-view-versus-a-copy\n",
            "  \"\"\"Entry point for launching an IPython kernel.\n",
            "/usr/local/lib/python3.7/dist-packages/pandas/core/indexing.py:1763: SettingWithCopyWarning: \n",
            "A value is trying to be set on a copy of a slice from a DataFrame.\n",
            "Try using .loc[row_indexer,col_indexer] = value instead\n",
            "\n",
            "See the caveats in the documentation: https://pandas.pydata.org/pandas-docs/stable/user_guide/indexing.html#returning-a-view-versus-a-copy\n",
            "  isetter(loc, value)\n"
          ],
          "name": "stderr"
        },
        {
          "output_type": "stream",
          "text": [
            "0    /content/drive/MyDrive/rsna/stage_2_train_imag...\n",
            "1    /content/drive/MyDrive/rsna/stage_2_train_imag...\n",
            "2    /content/drive/MyDrive/rsna/stage_2_train_imag...\n",
            "3    /content/drive/MyDrive/rsna/stage_2_train_imag...\n",
            "4    /content/drive/MyDrive/rsna/stage_2_train_imag...\n",
            "Name: ruta, dtype: object\n"
          ],
          "name": "stdout"
        }
      ]
    },
    {
      "cell_type": "code",
      "metadata": {
        "colab": {
          "base_uri": "https://localhost:8080/",
          "height": 204
        },
        "id": "UQ_64jFTxQZI",
        "outputId": "892760f2-4950-4561-fcfd-804b9703d01a"
      },
      "source": [
        "normales_PA.head()"
      ],
      "execution_count": 17,
      "outputs": [
        {
          "output_type": "execute_result",
          "data": {
            "text/html": [
              "<div>\n",
              "<style scoped>\n",
              "    .dataframe tbody tr th:only-of-type {\n",
              "        vertical-align: middle;\n",
              "    }\n",
              "\n",
              "    .dataframe tbody tr th {\n",
              "        vertical-align: top;\n",
              "    }\n",
              "\n",
              "    .dataframe thead th {\n",
              "        text-align: right;\n",
              "    }\n",
              "</style>\n",
              "<table border=\"1\" class=\"dataframe\">\n",
              "  <thead>\n",
              "    <tr style=\"text-align: right;\">\n",
              "      <th></th>\n",
              "      <th>id_paciente</th>\n",
              "      <th>vista</th>\n",
              "      <th>sexo</th>\n",
              "      <th>edad</th>\n",
              "      <th>ruta</th>\n",
              "    </tr>\n",
              "  </thead>\n",
              "  <tbody>\n",
              "    <tr>\n",
              "      <th>0</th>\n",
              "      <td>003d8fa0-6bf1-40ed-b54c-ac657f8495c5</td>\n",
              "      <td>PA</td>\n",
              "      <td>M</td>\n",
              "      <td>28</td>\n",
              "      <td>/content/drive/MyDrive/rsna/stage_2_train_imag...</td>\n",
              "    </tr>\n",
              "    <tr>\n",
              "      <th>1</th>\n",
              "      <td>009482dc-3db5-48d4-8580-5c89c4f01334</td>\n",
              "      <td>PA</td>\n",
              "      <td>M</td>\n",
              "      <td>63</td>\n",
              "      <td>/content/drive/MyDrive/rsna/stage_2_train_imag...</td>\n",
              "    </tr>\n",
              "    <tr>\n",
              "      <th>2</th>\n",
              "      <td>009eb222-eabc-4150-8121-d5a6d06b8ebf</td>\n",
              "      <td>PA</td>\n",
              "      <td>F</td>\n",
              "      <td>54</td>\n",
              "      <td>/content/drive/MyDrive/rsna/stage_2_train_imag...</td>\n",
              "    </tr>\n",
              "    <tr>\n",
              "      <th>3</th>\n",
              "      <td>00a85be6-6eb0-421d-8acf-ff2dc0007e8a</td>\n",
              "      <td>PA</td>\n",
              "      <td>M</td>\n",
              "      <td>48</td>\n",
              "      <td>/content/drive/MyDrive/rsna/stage_2_train_imag...</td>\n",
              "    </tr>\n",
              "    <tr>\n",
              "      <th>4</th>\n",
              "      <td>00f87de5-5fe0-4921-93ea-914d7e683266</td>\n",
              "      <td>PA</td>\n",
              "      <td>M</td>\n",
              "      <td>36</td>\n",
              "      <td>/content/drive/MyDrive/rsna/stage_2_train_imag...</td>\n",
              "    </tr>\n",
              "  </tbody>\n",
              "</table>\n",
              "</div>"
            ],
            "text/plain": [
              "                            id_paciente  ...                                               ruta\n",
              "0  003d8fa0-6bf1-40ed-b54c-ac657f8495c5  ...  /content/drive/MyDrive/rsna/stage_2_train_imag...\n",
              "1  009482dc-3db5-48d4-8580-5c89c4f01334  ...  /content/drive/MyDrive/rsna/stage_2_train_imag...\n",
              "2  009eb222-eabc-4150-8121-d5a6d06b8ebf  ...  /content/drive/MyDrive/rsna/stage_2_train_imag...\n",
              "3  00a85be6-6eb0-421d-8acf-ff2dc0007e8a  ...  /content/drive/MyDrive/rsna/stage_2_train_imag...\n",
              "4  00f87de5-5fe0-4921-93ea-914d7e683266  ...  /content/drive/MyDrive/rsna/stage_2_train_imag...\n",
              "\n",
              "[5 rows x 5 columns]"
            ]
          },
          "metadata": {
            "tags": []
          },
          "execution_count": 17
        }
      ]
    },
    {
      "cell_type": "code",
      "metadata": {
        "id": "lxd5R4elHxjV"
      },
      "source": [
        "import numpy as np\r\n",
        "import torch\r\n",
        "import torchvision\r\n",
        "import torch.nn as nn\r\n",
        "import torch.nn.functional as F\r\n",
        "import torch.optim as optim\r\n",
        "import matplotlib.pyplot as plt\r\n",
        "from torchvision import datasets, transforms\r\n",
        "from torch.utils.data import Dataset, DataLoader\r\n",
        "from torchvision import transforms, utils"
      ],
      "execution_count": 18,
      "outputs": []
    },
    {
      "cell_type": "code",
      "metadata": {
        "colab": {
          "base_uri": "https://localhost:8080/"
        },
        "id": "JMGXGJ3ZL4dK",
        "outputId": "ffe8832a-aeca-44dc-f76d-58e9e1b89d66"
      },
      "source": [
        "device = torch.device(\"cuda\" if torch.cuda.is_available() else \"cpu\")\r\n",
        "print(device)\r\n",
        "!nvidia-smi"
      ],
      "execution_count": 19,
      "outputs": [
        {
          "output_type": "stream",
          "text": [
            "cuda\n",
            "Sat Feb 27 23:18:49 2021       \n",
            "+-----------------------------------------------------------------------------+\n",
            "| NVIDIA-SMI 460.39       Driver Version: 460.32.03    CUDA Version: 11.2     |\n",
            "|-------------------------------+----------------------+----------------------+\n",
            "| GPU  Name        Persistence-M| Bus-Id        Disp.A | Volatile Uncorr. ECC |\n",
            "| Fan  Temp  Perf  Pwr:Usage/Cap|         Memory-Usage | GPU-Util  Compute M. |\n",
            "|                               |                      |               MIG M. |\n",
            "|===============================+======================+======================|\n",
            "|   0  Tesla T4            Off  | 00000000:00:04.0 Off |                    0 |\n",
            "| N/A   31C    P8     9W /  70W |      3MiB / 15109MiB |      0%      Default |\n",
            "|                               |                      |                  N/A |\n",
            "+-------------------------------+----------------------+----------------------+\n",
            "                                                                               \n",
            "+-----------------------------------------------------------------------------+\n",
            "| Processes:                                                                  |\n",
            "|  GPU   GI   CI        PID   Type   Process name                  GPU Memory |\n",
            "|        ID   ID                                                   Usage      |\n",
            "|=============================================================================|\n",
            "|  No running processes found                                                 |\n",
            "+-----------------------------------------------------------------------------+\n"
          ],
          "name": "stdout"
        }
      ]
    },
    {
      "cell_type": "code",
      "metadata": {
        "id": "vlX4mI_HTNTn"
      },
      "source": [
        "class RSNA(Dataset):\r\n",
        "    \"\"\"RSNA dataset.\"\"\"\r\n",
        "\r\n",
        "    def __init__(self, csv_file, root_dir, transform=None):\r\n",
        "        \"\"\"\r\n",
        "        Args:\r\n",
        "            csv_file (string): Path to the csv file with annotations.\r\n",
        "            root_dir (string): Directory with all the images.\r\n",
        "            transform (callable, optional): Optional transform to be applied\r\n",
        "                on a sample.\r\n",
        "        \"\"\"\r\n",
        "        self.ruta_imagen = pd.read_csv(csv_file)\r\n",
        "        self.root_dir = root_dir\r\n",
        "        self.transform = transform\r\n",
        "\r\n",
        "    def __len__(self):\r\n",
        "        return len(self.ruta_imagen)\r\n",
        "\r\n",
        "    def __getitem__(self, idx):\r\n",
        "        if torch.is_tensor(idx):\r\n",
        "            idx = idx.tolist()\r\n",
        "\r\n",
        "        img_name = self.ruta_imagen.iloc[idx, 5]\r\n",
        "        ds = pydicom.dcmread(img_name)\r\n",
        "        image = ds.pixel_array\r\n",
        "       \r\n",
        "        \r\n",
        "\r\n",
        "        if self.transform:\r\n",
        "            image = self.transform(image)\r\n",
        "\r\n",
        "        return image"
      ],
      "execution_count": 20,
      "outputs": []
    },
    {
      "cell_type": "code",
      "metadata": {
        "id": "f8o_aLqgVm3K"
      },
      "source": [
        "normales_PA.to_csv(ruta + '/normales_PA.csv')"
      ],
      "execution_count": 21,
      "outputs": []
    },
    {
      "cell_type": "code",
      "metadata": {
        "id": "597wDui4WvpG"
      },
      "source": [
        "rsna_dataset = RSNA(csv_file=ruta + '/normales_PA.csv',\r\n",
        "                                    root_dir=train)\r\n"
      ],
      "execution_count": 22,
      "outputs": []
    },
    {
      "cell_type": "code",
      "metadata": {
        "colab": {
          "base_uri": "https://localhost:8080/",
          "height": 419
        },
        "id": "h3EEarhbW8Tq",
        "outputId": "cb629736-4cd2-4d59-ab94-69a145141a20"
      },
      "source": [
        "rsna_dataset.ruta_imagen"
      ],
      "execution_count": 23,
      "outputs": [
        {
          "output_type": "execute_result",
          "data": {
            "text/html": [
              "<div>\n",
              "<style scoped>\n",
              "    .dataframe tbody tr th:only-of-type {\n",
              "        vertical-align: middle;\n",
              "    }\n",
              "\n",
              "    .dataframe tbody tr th {\n",
              "        vertical-align: top;\n",
              "    }\n",
              "\n",
              "    .dataframe thead th {\n",
              "        text-align: right;\n",
              "    }\n",
              "</style>\n",
              "<table border=\"1\" class=\"dataframe\">\n",
              "  <thead>\n",
              "    <tr style=\"text-align: right;\">\n",
              "      <th></th>\n",
              "      <th>Unnamed: 0</th>\n",
              "      <th>id_paciente</th>\n",
              "      <th>vista</th>\n",
              "      <th>sexo</th>\n",
              "      <th>edad</th>\n",
              "      <th>ruta</th>\n",
              "    </tr>\n",
              "  </thead>\n",
              "  <tbody>\n",
              "    <tr>\n",
              "      <th>0</th>\n",
              "      <td>0</td>\n",
              "      <td>003d8fa0-6bf1-40ed-b54c-ac657f8495c5</td>\n",
              "      <td>PA</td>\n",
              "      <td>M</td>\n",
              "      <td>28</td>\n",
              "      <td>/content/drive/MyDrive/rsna/stage_2_train_imag...</td>\n",
              "    </tr>\n",
              "    <tr>\n",
              "      <th>1</th>\n",
              "      <td>1</td>\n",
              "      <td>009482dc-3db5-48d4-8580-5c89c4f01334</td>\n",
              "      <td>PA</td>\n",
              "      <td>M</td>\n",
              "      <td>63</td>\n",
              "      <td>/content/drive/MyDrive/rsna/stage_2_train_imag...</td>\n",
              "    </tr>\n",
              "    <tr>\n",
              "      <th>2</th>\n",
              "      <td>2</td>\n",
              "      <td>009eb222-eabc-4150-8121-d5a6d06b8ebf</td>\n",
              "      <td>PA</td>\n",
              "      <td>F</td>\n",
              "      <td>54</td>\n",
              "      <td>/content/drive/MyDrive/rsna/stage_2_train_imag...</td>\n",
              "    </tr>\n",
              "    <tr>\n",
              "      <th>3</th>\n",
              "      <td>3</td>\n",
              "      <td>00a85be6-6eb0-421d-8acf-ff2dc0007e8a</td>\n",
              "      <td>PA</td>\n",
              "      <td>M</td>\n",
              "      <td>48</td>\n",
              "      <td>/content/drive/MyDrive/rsna/stage_2_train_imag...</td>\n",
              "    </tr>\n",
              "    <tr>\n",
              "      <th>4</th>\n",
              "      <td>4</td>\n",
              "      <td>00f87de5-5fe0-4921-93ea-914d7e683266</td>\n",
              "      <td>PA</td>\n",
              "      <td>M</td>\n",
              "      <td>36</td>\n",
              "      <td>/content/drive/MyDrive/rsna/stage_2_train_imag...</td>\n",
              "    </tr>\n",
              "    <tr>\n",
              "      <th>...</th>\n",
              "      <td>...</td>\n",
              "      <td>...</td>\n",
              "      <td>...</td>\n",
              "      <td>...</td>\n",
              "      <td>...</td>\n",
              "      <td>...</td>\n",
              "    </tr>\n",
              "    <tr>\n",
              "      <th>7209</th>\n",
              "      <td>8845</td>\n",
              "      <td>c1c3ec5d-20ba-42f7-91f9-48032d97ffc9</td>\n",
              "      <td>PA</td>\n",
              "      <td>F</td>\n",
              "      <td>26</td>\n",
              "      <td>/content/drive/MyDrive/rsna/stage_2_train_imag...</td>\n",
              "    </tr>\n",
              "    <tr>\n",
              "      <th>7210</th>\n",
              "      <td>8846</td>\n",
              "      <td>c1ca4417-83a6-43a7-a9bf-7d9587e7f14f</td>\n",
              "      <td>PA</td>\n",
              "      <td>M</td>\n",
              "      <td>33</td>\n",
              "      <td>/content/drive/MyDrive/rsna/stage_2_train_imag...</td>\n",
              "    </tr>\n",
              "    <tr>\n",
              "      <th>7211</th>\n",
              "      <td>8847</td>\n",
              "      <td>c1cf3255-d734-4980-bfe0-967902ad7ed9</td>\n",
              "      <td>PA</td>\n",
              "      <td>F</td>\n",
              "      <td>27</td>\n",
              "      <td>/content/drive/MyDrive/rsna/stage_2_train_imag...</td>\n",
              "    </tr>\n",
              "    <tr>\n",
              "      <th>7212</th>\n",
              "      <td>8849</td>\n",
              "      <td>c1edf42b-5958-47ff-a1e7-4f23d99583ba</td>\n",
              "      <td>PA</td>\n",
              "      <td>F</td>\n",
              "      <td>46</td>\n",
              "      <td>/content/drive/MyDrive/rsna/stage_2_train_imag...</td>\n",
              "    </tr>\n",
              "    <tr>\n",
              "      <th>7213</th>\n",
              "      <td>8850</td>\n",
              "      <td>c1f6b555-2eb1-4231-98f6-50a963976431</td>\n",
              "      <td>PA</td>\n",
              "      <td>M</td>\n",
              "      <td>45</td>\n",
              "      <td>/content/drive/MyDrive/rsna/stage_2_train_imag...</td>\n",
              "    </tr>\n",
              "  </tbody>\n",
              "</table>\n",
              "<p>7214 rows × 6 columns</p>\n",
              "</div>"
            ],
            "text/plain": [
              "      Unnamed: 0  ...                                               ruta\n",
              "0              0  ...  /content/drive/MyDrive/rsna/stage_2_train_imag...\n",
              "1              1  ...  /content/drive/MyDrive/rsna/stage_2_train_imag...\n",
              "2              2  ...  /content/drive/MyDrive/rsna/stage_2_train_imag...\n",
              "3              3  ...  /content/drive/MyDrive/rsna/stage_2_train_imag...\n",
              "4              4  ...  /content/drive/MyDrive/rsna/stage_2_train_imag...\n",
              "...          ...  ...                                                ...\n",
              "7209        8845  ...  /content/drive/MyDrive/rsna/stage_2_train_imag...\n",
              "7210        8846  ...  /content/drive/MyDrive/rsna/stage_2_train_imag...\n",
              "7211        8847  ...  /content/drive/MyDrive/rsna/stage_2_train_imag...\n",
              "7212        8849  ...  /content/drive/MyDrive/rsna/stage_2_train_imag...\n",
              "7213        8850  ...  /content/drive/MyDrive/rsna/stage_2_train_imag...\n",
              "\n",
              "[7214 rows x 6 columns]"
            ]
          },
          "metadata": {
            "tags": []
          },
          "execution_count": 23
        }
      ]
    },
    {
      "cell_type": "code",
      "metadata": {
        "colab": {
          "base_uri": "https://localhost:8080/",
          "height": 122
        },
        "id": "viAUolsfVckH",
        "outputId": "d4fab931-e359-4c5d-c56b-50bd7b4baa5e"
      },
      "source": [
        "rsna_dataset = RSNA(csv_file=ruta + '/normales_PA.csv',\r\n",
        "                                    root_dir=train)\r\n",
        "\r\n",
        "fig = plt.figure()\r\n",
        "\r\n",
        "for i in range(len(rsna_dataset)):\r\n",
        "    sample = rsna_dataset[i]\r\n",
        "\r\n",
        "    ax = plt.subplot(1, 4, i + 1)\r\n",
        "    plt.tight_layout()\r\n",
        "    ax.set_title('Sample #{}'.format(i))\r\n",
        "    ax.axis('off')\r\n",
        "    plt.imshow(sample, cmap='gray')\r\n",
        "    \r\n",
        "    if i == 3:\r\n",
        "        plt.show()\r\n",
        "        break"
      ],
      "execution_count": 24,
      "outputs": [
        {
          "output_type": "display_data",
          "data": {
            "image/png": "[encoded data removed]",
            "text/plain": [
              "<Figure size 432x288 with 4 Axes>"
            ]
          },
          "metadata": {
            "tags": [],
            "needs_background": "light"
          }
        }
      ]
    },
    {
      "cell_type": "code",
      "metadata": {
        "id": "AVkZKfTdL8O6"
      },
      "source": [
        "image_size = 64\r\n",
        "batch_size=32\r\n",
        "\r\n",
        "transform = transforms.Compose([transforms.ToPILImage(), transforms.Resize(image_size),\r\n",
        "                                transforms.ToTensor(),\r\n",
        "        transforms.Normalize((0.5), (0.5))])\r\n",
        "\r\n",
        "rsna_dataset = RSNA(csv_file=ruta + '/normales_PA.csv',\r\n",
        "                                    root_dir=train, transform=transform)\r\n",
        "\r\n",
        "trainloader = torch.utils.data.DataLoader(rsna_dataset, batch_size=batch_size,\r\n",
        "                                          shuffle=True, num_workers=8)"
      ],
      "execution_count": 294,
      "outputs": []
    },
    {
      "cell_type": "code",
      "metadata": {
        "id": "JATeLtLO1FwP"
      },
      "source": [
        "rsna_dataset_test = RSNA(csv_file=ruta + '/normales_PA.csv',\r\n",
        "                                    root_dir=train, transform=transform)\r\n",
        "\r\n",
        "testloader = torch.utils.data.DataLoader(rsna_dataset_test, batch_size=batch_size,\r\n",
        "                                          shuffle=True, num_workers=8)"
      ],
      "execution_count": 295,
      "outputs": []
    },
    {
      "cell_type": "code",
      "metadata": {
        "id": "XPHoHm3D1VoS"
      },
      "source": [
        "def show_images(images):\r\n",
        "    images = torchvision.utils.make_grid(images)\r\n",
        "    show_image(images)\r\n",
        "\r\n",
        "def show_image(img):\r\n",
        "    img = img / 2 + 0.5\r\n",
        "    plt.imshow(img.permute(1, 2, 0), cmap=\"gray\")\r\n",
        "    plt.show()"
      ],
      "execution_count": 296,
      "outputs": []
    },
    {
      "cell_type": "code",
      "metadata": {
        "colab": {
          "base_uri": "https://localhost:8080/",
          "height": 220
        },
        "id": "6fqdSxJr1fc0",
        "outputId": "d66fb71f-17be-4d27-d0fd-5c53a292d8ae"
      },
      "source": [
        "trial = next(iter(trainloader))\r\n",
        "images = trial\r\n",
        "#print(labels)\r\n",
        "show_images(images)"
      ],
      "execution_count": 297,
      "outputs": [
        {
          "output_type": "display_data",
          "data": {
            "image/png": "[encoded data removed]",
            "text/plain": [
              "<Figure size 432x288 with 1 Axes>"
            ]
          },
          "metadata": {
            "tags": [],
            "needs_background": "light"
          }
        }
      ]
    },
    {
      "cell_type": "markdown",
      "metadata": {
        "id": "XouTCdgnqiLn"
      },
      "source": [
        ""
      ]
    },
    {
      "cell_type": "code",
      "metadata": {
        "colab": {
          "base_uri": "https://localhost:8080/"
        },
        "id": "OP5GOaCV7BKs",
        "outputId": "d4712b07-1ddd-4918-ca30-afd72847b6a6"
      },
      "source": [
        "trial.shape"
      ],
      "execution_count": 298,
      "outputs": [
        {
          "output_type": "execute_result",
          "data": {
            "text/plain": [
              "torch.Size([32, 1, 64, 64])"
            ]
          },
          "metadata": {
            "tags": []
          },
          "execution_count": 298
        }
      ]
    },
    {
      "cell_type": "code",
      "metadata": {
        "id": "4MBt8i1G4qun"
      },
      "source": [
        "\r\n",
        "#batch_size = 32           # number of inputs in each batch\r\n",
        "epochs = 50            # times to run the model on complete data\r\n",
        "#image_size = 64\r\n",
        "hidden_size = 1024       # hidden dimension\r\n",
        "latent_size = 256         # latent vector dimension\r\n",
        "lr = 1e-4                 # learning rate\r\n",
        "train_loss = []"
      ],
      "execution_count": 299,
      "outputs": []
    },
    {
      "cell_type": "code",
      "metadata": {
        "id": "JHsECQli2H0_"
      },
      "source": [
        "class VAE(nn.Module):\r\n",
        "    def __init__(self):\r\n",
        "        super(VAE, self).__init__()\r\n",
        "        self.encodinglayer1 = nn.Sequential(\r\n",
        "            nn.Linear(input_size, hidden_size), nn.ReLU()\r\n",
        "        )\r\n",
        "        self.encodinglayer2_mean = nn.Sequential(nn.Linear(hidden_size, latent_size))\r\n",
        "        self.encodinglayer2_logvar = nn.Sequential(nn.Linear(hidden_size, latent_size))\r\n",
        "        self.decodinglayer = nn.Sequential(\r\n",
        "            nn.Linear(latent_size, hidden_size),\r\n",
        "            nn.ReLU(),\r\n",
        "            nn.Linear(hidden_size, input_size),\r\n",
        "            nn.Sigmoid(),\r\n",
        "        )\r\n",
        "\r\n",
        "    def sample(self, log_var, mean):\r\n",
        "        std = torch.exp(0.5 * log_var)\r\n",
        "        eps = torch.randn_like(std)\r\n",
        "        return eps.mul(std).add_(mean)\r\n",
        "\r\n",
        "    def forward(self, x):\r\n",
        "        x = x.view(-1, input_size)\r\n",
        "        x = self.encodinglayer1(x)\r\n",
        "        log_var = self.encodinglayer2_logvar(x)\r\n",
        "        mean = self.encodinglayer2_mean(x)\r\n",
        "\r\n",
        "        z = self.sample(log_var, mean)\r\n",
        "        x = self.decodinglayer(z)\r\n",
        "\r\n",
        "        return x, mean, log_var"
      ],
      "execution_count": 256,
      "outputs": []
    },
    {
      "cell_type": "code",
      "metadata": {
        "id": "LCsxPqoy2NNN"
      },
      "source": [
        "class Flatten(nn.Module):\r\n",
        "    def forward(self, input):\r\n",
        "        return input.view(input.size(0), -1)\r\n",
        "\r\n",
        "class UnFlatten(nn.Module):\r\n",
        "    def forward(self, input, size=1024):\r\n",
        "        return input.view(input.size(0), 1024, 1, 1)"
      ],
      "execution_count": 300,
      "outputs": []
    },
    {
      "cell_type": "code",
      "metadata": {
        "id": "l5mIovOC2OoE"
      },
      "source": [
        "  \r\n",
        "class DCVAE(nn.Module):\r\n",
        "    def __init__(self, image_channels=1, image_dim=image_size, hidden_size=hidden_size, latent_size=latent_size):\r\n",
        "      super(DCVAE, self).__init__()\r\n",
        "\r\n",
        "      self.encoder = nn.Sequential(\r\n",
        "        nn.Conv2d(image_channels, 32, 4, 2),\r\n",
        "        nn.LeakyReLU(0.2),\r\n",
        "        nn.Conv2d(32, 64, 4, 2),\r\n",
        "        nn.LeakyReLU(0.2),\r\n",
        "        nn.Conv2d(64, 128, 4, 2),\r\n",
        "        nn.LeakyReLU(0.2),\r\n",
        "        nn.Conv2d(128, 256, 4, 2),\r\n",
        "        nn.LeakyReLU(0.2),\r\n",
        "        Flatten(),\r\n",
        "    )\r\n",
        "      self.encoder_mean = nn.Linear(hidden_size, latent_size)\r\n",
        "      self.encoder_logvar = nn.Linear(hidden_size, latent_size)\r\n",
        "      self.fc = nn.Linear(latent_size, hidden_size)\r\n",
        "      self.decoder = nn.Sequential(\r\n",
        "                                UnFlatten(),\r\n",
        "                                nn.ConvTranspose2d(hidden_size, 128, 5, 2),\r\n",
        "                                nn.ReLU(),\r\n",
        "                                nn.ConvTranspose2d(128, 64, 5, 2),\r\n",
        "                                nn.ReLU(),\r\n",
        "                                nn.ConvTranspose2d(64, 32, 6, 2),\r\n",
        "                                nn.ReLU(),\r\n",
        "                                nn.ConvTranspose2d(32, image_channels, 6, 2),\r\n",
        "                                nn.Sigmoid()   \r\n",
        "                              )\r\n",
        "  \r\n",
        "    def sample(self, log_var, mean):\r\n",
        "      std = torch.exp(0.5*log_var)\r\n",
        "      eps = torch.randn_like(std)\r\n",
        "      return eps.mul(std).add_(mean)\r\n",
        "  \r\n",
        "    def forward(self, x):\r\n",
        "      x = self.encoder(x)\r\n",
        "      log_var = self.encoder_logvar(x)\r\n",
        "      mean = self.encoder_mean(x)\r\n",
        "      z = self.sample(log_var, mean)\r\n",
        "      x = self.fc(z)\r\n",
        "      x = self.decoder(x)\r\n",
        "\r\n",
        "      return x, mean, log_var"
      ],
      "execution_count": 301,
      "outputs": []
    },
    {
      "cell_type": "code",
      "metadata": {
        "colab": {
          "base_uri": "https://localhost:8080/",
          "height": 323
        },
        "id": "cH8akz_biPom",
        "outputId": "4d126254-2fa5-4e6e-9474-5b93e6e9e203"
      },
      "source": [
        "from torchsummary import summary\r\n",
        "summary(vae, input_size=(1, 64, 64))"
      ],
      "execution_count": 293,
      "outputs": [
        {
          "output_type": "error",
          "ename": "RuntimeError",
          "evalue": "ignored",
          "traceback": [
            "\u001b[0;31m---------------------------------------------------------------------------\u001b[0m",
            "\u001b[0;31mRuntimeError\u001b[0m                              Traceback (most recent call last)",
            "\u001b[0;32m<ipython-input-293-6504f2e9b19e>\u001b[0m in \u001b[0;36m<module>\u001b[0;34m()\u001b[0m\n\u001b[1;32m      1\u001b[0m \u001b[0;32mfrom\u001b[0m \u001b[0mtorchsummary\u001b[0m \u001b[0;32mimport\u001b[0m \u001b[0msummary\u001b[0m\u001b[0;34m\u001b[0m\u001b[0;34m\u001b[0m\u001b[0m\n\u001b[0;32m----> 2\u001b[0;31m \u001b[0msummary\u001b[0m\u001b[0;34m(\u001b[0m\u001b[0mvae\u001b[0m\u001b[0;34m,\u001b[0m \u001b[0minput_size\u001b[0m\u001b[0;34m=\u001b[0m\u001b[0;34m(\u001b[0m\u001b[0;36m1\u001b[0m\u001b[0;34m,\u001b[0m \u001b[0;36m64\u001b[0m\u001b[0;34m,\u001b[0m \u001b[0;36m64\u001b[0m\u001b[0;34m)\u001b[0m\u001b[0;34m)\u001b[0m\u001b[0;34m\u001b[0m\u001b[0;34m\u001b[0m\u001b[0m\n\u001b[0m",
            "\u001b[0;32m/usr/local/lib/python3.7/dist-packages/torchsummary/torchsummary.py\u001b[0m in \u001b[0;36msummary\u001b[0;34m(model, input_size, batch_size, device)\u001b[0m\n\u001b[1;32m     70\u001b[0m     \u001b[0;31m# make a forward pass\u001b[0m\u001b[0;34m\u001b[0m\u001b[0;34m\u001b[0m\u001b[0;34m\u001b[0m\u001b[0m\n\u001b[1;32m     71\u001b[0m     \u001b[0;31m# print(x.shape)\u001b[0m\u001b[0;34m\u001b[0m\u001b[0;34m\u001b[0m\u001b[0;34m\u001b[0m\u001b[0m\n\u001b[0;32m---> 72\u001b[0;31m     \u001b[0mmodel\u001b[0m\u001b[0;34m(\u001b[0m\u001b[0;34m*\u001b[0m\u001b[0mx\u001b[0m\u001b[0;34m)\u001b[0m\u001b[0;34m\u001b[0m\u001b[0;34m\u001b[0m\u001b[0m\n\u001b[0m\u001b[1;32m     73\u001b[0m \u001b[0;34m\u001b[0m\u001b[0m\n\u001b[1;32m     74\u001b[0m     \u001b[0;31m# remove these hooks\u001b[0m\u001b[0;34m\u001b[0m\u001b[0;34m\u001b[0m\u001b[0;34m\u001b[0m\u001b[0m\n",
            "\u001b[0;32m/usr/local/lib/python3.7/dist-packages/torch/nn/modules/module.py\u001b[0m in \u001b[0;36m_call_impl\u001b[0;34m(self, *input, **kwargs)\u001b[0m\n\u001b[1;32m    725\u001b[0m             \u001b[0mresult\u001b[0m \u001b[0;34m=\u001b[0m \u001b[0mself\u001b[0m\u001b[0;34m.\u001b[0m\u001b[0m_slow_forward\u001b[0m\u001b[0;34m(\u001b[0m\u001b[0;34m*\u001b[0m\u001b[0minput\u001b[0m\u001b[0;34m,\u001b[0m \u001b[0;34m**\u001b[0m\u001b[0mkwargs\u001b[0m\u001b[0;34m)\u001b[0m\u001b[0;34m\u001b[0m\u001b[0;34m\u001b[0m\u001b[0m\n\u001b[1;32m    726\u001b[0m         \u001b[0;32melse\u001b[0m\u001b[0;34m:\u001b[0m\u001b[0;34m\u001b[0m\u001b[0;34m\u001b[0m\u001b[0m\n\u001b[0;32m--> 727\u001b[0;31m             \u001b[0mresult\u001b[0m \u001b[0;34m=\u001b[0m \u001b[0mself\u001b[0m\u001b[0;34m.\u001b[0m\u001b[0mforward\u001b[0m\u001b[0;34m(\u001b[0m\u001b[0;34m*\u001b[0m\u001b[0minput\u001b[0m\u001b[0;34m,\u001b[0m \u001b[0;34m**\u001b[0m\u001b[0mkwargs\u001b[0m\u001b[0;34m)\u001b[0m\u001b[0;34m\u001b[0m\u001b[0;34m\u001b[0m\u001b[0m\n\u001b[0m\u001b[1;32m    728\u001b[0m         for hook in itertools.chain(\n\u001b[1;32m    729\u001b[0m                 \u001b[0m_global_forward_hooks\u001b[0m\u001b[0;34m.\u001b[0m\u001b[0mvalues\u001b[0m\u001b[0;34m(\u001b[0m\u001b[0;34m)\u001b[0m\u001b[0;34m,\u001b[0m\u001b[0;34m\u001b[0m\u001b[0;34m\u001b[0m\u001b[0m\n",
            "\u001b[0;32m<ipython-input-281-217aace2aa97>\u001b[0m in \u001b[0;36mforward\u001b[0;34m(self, x)\u001b[0m\n\u001b[1;32m     37\u001b[0m   \u001b[0;32mdef\u001b[0m \u001b[0mforward\u001b[0m\u001b[0;34m(\u001b[0m\u001b[0mself\u001b[0m\u001b[0;34m,\u001b[0m \u001b[0mx\u001b[0m\u001b[0;34m)\u001b[0m\u001b[0;34m:\u001b[0m\u001b[0;34m\u001b[0m\u001b[0;34m\u001b[0m\u001b[0m\n\u001b[1;32m     38\u001b[0m     \u001b[0mx\u001b[0m \u001b[0;34m=\u001b[0m \u001b[0mself\u001b[0m\u001b[0;34m.\u001b[0m\u001b[0mencoder\u001b[0m\u001b[0;34m(\u001b[0m\u001b[0mx\u001b[0m\u001b[0;34m)\u001b[0m\u001b[0;34m\u001b[0m\u001b[0;34m\u001b[0m\u001b[0m\n\u001b[0;32m---> 39\u001b[0;31m     \u001b[0mlog_var\u001b[0m \u001b[0;34m=\u001b[0m \u001b[0mself\u001b[0m\u001b[0;34m.\u001b[0m\u001b[0mencoder_logvar\u001b[0m\u001b[0;34m(\u001b[0m\u001b[0mx\u001b[0m\u001b[0;34m)\u001b[0m\u001b[0;34m\u001b[0m\u001b[0;34m\u001b[0m\u001b[0m\n\u001b[0m\u001b[1;32m     40\u001b[0m     \u001b[0mmean\u001b[0m \u001b[0;34m=\u001b[0m \u001b[0mself\u001b[0m\u001b[0;34m.\u001b[0m\u001b[0mencoder_mean\u001b[0m\u001b[0;34m(\u001b[0m\u001b[0mx\u001b[0m\u001b[0;34m)\u001b[0m\u001b[0;34m\u001b[0m\u001b[0;34m\u001b[0m\u001b[0m\n\u001b[1;32m     41\u001b[0m     \u001b[0mz\u001b[0m \u001b[0;34m=\u001b[0m \u001b[0mself\u001b[0m\u001b[0;34m.\u001b[0m\u001b[0msample\u001b[0m\u001b[0;34m(\u001b[0m\u001b[0mlog_var\u001b[0m\u001b[0;34m,\u001b[0m \u001b[0mmean\u001b[0m\u001b[0;34m)\u001b[0m\u001b[0;34m\u001b[0m\u001b[0;34m\u001b[0m\u001b[0m\n",
            "\u001b[0;32m/usr/local/lib/python3.7/dist-packages/torch/nn/modules/module.py\u001b[0m in \u001b[0;36m_call_impl\u001b[0;34m(self, *input, **kwargs)\u001b[0m\n\u001b[1;32m    725\u001b[0m             \u001b[0mresult\u001b[0m \u001b[0;34m=\u001b[0m \u001b[0mself\u001b[0m\u001b[0;34m.\u001b[0m\u001b[0m_slow_forward\u001b[0m\u001b[0;34m(\u001b[0m\u001b[0;34m*\u001b[0m\u001b[0minput\u001b[0m\u001b[0;34m,\u001b[0m \u001b[0;34m**\u001b[0m\u001b[0mkwargs\u001b[0m\u001b[0;34m)\u001b[0m\u001b[0;34m\u001b[0m\u001b[0;34m\u001b[0m\u001b[0m\n\u001b[1;32m    726\u001b[0m         \u001b[0;32melse\u001b[0m\u001b[0;34m:\u001b[0m\u001b[0;34m\u001b[0m\u001b[0;34m\u001b[0m\u001b[0m\n\u001b[0;32m--> 727\u001b[0;31m             \u001b[0mresult\u001b[0m \u001b[0;34m=\u001b[0m \u001b[0mself\u001b[0m\u001b[0;34m.\u001b[0m\u001b[0mforward\u001b[0m\u001b[0;34m(\u001b[0m\u001b[0;34m*\u001b[0m\u001b[0minput\u001b[0m\u001b[0;34m,\u001b[0m \u001b[0;34m**\u001b[0m\u001b[0mkwargs\u001b[0m\u001b[0;34m)\u001b[0m\u001b[0;34m\u001b[0m\u001b[0;34m\u001b[0m\u001b[0m\n\u001b[0m\u001b[1;32m    728\u001b[0m         for hook in itertools.chain(\n\u001b[1;32m    729\u001b[0m                 \u001b[0m_global_forward_hooks\u001b[0m\u001b[0;34m.\u001b[0m\u001b[0mvalues\u001b[0m\u001b[0;34m(\u001b[0m\u001b[0;34m)\u001b[0m\u001b[0;34m,\u001b[0m\u001b[0;34m\u001b[0m\u001b[0;34m\u001b[0m\u001b[0m\n",
            "\u001b[0;32m/usr/local/lib/python3.7/dist-packages/torch/nn/modules/linear.py\u001b[0m in \u001b[0;36mforward\u001b[0;34m(self, input)\u001b[0m\n\u001b[1;32m     91\u001b[0m \u001b[0;34m\u001b[0m\u001b[0m\n\u001b[1;32m     92\u001b[0m     \u001b[0;32mdef\u001b[0m \u001b[0mforward\u001b[0m\u001b[0;34m(\u001b[0m\u001b[0mself\u001b[0m\u001b[0;34m,\u001b[0m \u001b[0minput\u001b[0m\u001b[0;34m:\u001b[0m \u001b[0mTensor\u001b[0m\u001b[0;34m)\u001b[0m \u001b[0;34m->\u001b[0m \u001b[0mTensor\u001b[0m\u001b[0;34m:\u001b[0m\u001b[0;34m\u001b[0m\u001b[0;34m\u001b[0m\u001b[0m\n\u001b[0;32m---> 93\u001b[0;31m         \u001b[0;32mreturn\u001b[0m \u001b[0mF\u001b[0m\u001b[0;34m.\u001b[0m\u001b[0mlinear\u001b[0m\u001b[0;34m(\u001b[0m\u001b[0minput\u001b[0m\u001b[0;34m,\u001b[0m \u001b[0mself\u001b[0m\u001b[0;34m.\u001b[0m\u001b[0mweight\u001b[0m\u001b[0;34m,\u001b[0m \u001b[0mself\u001b[0m\u001b[0;34m.\u001b[0m\u001b[0mbias\u001b[0m\u001b[0;34m)\u001b[0m\u001b[0;34m\u001b[0m\u001b[0;34m\u001b[0m\u001b[0m\n\u001b[0m\u001b[1;32m     94\u001b[0m \u001b[0;34m\u001b[0m\u001b[0m\n\u001b[1;32m     95\u001b[0m     \u001b[0;32mdef\u001b[0m \u001b[0mextra_repr\u001b[0m\u001b[0;34m(\u001b[0m\u001b[0mself\u001b[0m\u001b[0;34m)\u001b[0m \u001b[0;34m->\u001b[0m \u001b[0mstr\u001b[0m\u001b[0;34m:\u001b[0m\u001b[0;34m\u001b[0m\u001b[0;34m\u001b[0m\u001b[0m\n",
            "\u001b[0;32m/usr/local/lib/python3.7/dist-packages/torch/nn/functional.py\u001b[0m in \u001b[0;36mlinear\u001b[0;34m(input, weight, bias)\u001b[0m\n\u001b[1;32m   1688\u001b[0m     \u001b[0;32mif\u001b[0m \u001b[0minput\u001b[0m\u001b[0;34m.\u001b[0m\u001b[0mdim\u001b[0m\u001b[0;34m(\u001b[0m\u001b[0;34m)\u001b[0m \u001b[0;34m==\u001b[0m \u001b[0;36m2\u001b[0m \u001b[0;32mand\u001b[0m \u001b[0mbias\u001b[0m \u001b[0;32mis\u001b[0m \u001b[0;32mnot\u001b[0m \u001b[0;32mNone\u001b[0m\u001b[0;34m:\u001b[0m\u001b[0;34m\u001b[0m\u001b[0;34m\u001b[0m\u001b[0m\n\u001b[1;32m   1689\u001b[0m         \u001b[0;31m# fused op is marginally faster\u001b[0m\u001b[0;34m\u001b[0m\u001b[0;34m\u001b[0m\u001b[0;34m\u001b[0m\u001b[0m\n\u001b[0;32m-> 1690\u001b[0;31m         \u001b[0mret\u001b[0m \u001b[0;34m=\u001b[0m \u001b[0mtorch\u001b[0m\u001b[0;34m.\u001b[0m\u001b[0maddmm\u001b[0m\u001b[0;34m(\u001b[0m\u001b[0mbias\u001b[0m\u001b[0;34m,\u001b[0m \u001b[0minput\u001b[0m\u001b[0;34m,\u001b[0m \u001b[0mweight\u001b[0m\u001b[0;34m.\u001b[0m\u001b[0mt\u001b[0m\u001b[0;34m(\u001b[0m\u001b[0;34m)\u001b[0m\u001b[0;34m)\u001b[0m\u001b[0;34m\u001b[0m\u001b[0;34m\u001b[0m\u001b[0m\n\u001b[0m\u001b[1;32m   1691\u001b[0m     \u001b[0;32melse\u001b[0m\u001b[0;34m:\u001b[0m\u001b[0;34m\u001b[0m\u001b[0;34m\u001b[0m\u001b[0m\n\u001b[1;32m   1692\u001b[0m         \u001b[0moutput\u001b[0m \u001b[0;34m=\u001b[0m \u001b[0minput\u001b[0m\u001b[0;34m.\u001b[0m\u001b[0mmatmul\u001b[0m\u001b[0;34m(\u001b[0m\u001b[0mweight\u001b[0m\u001b[0;34m.\u001b[0m\u001b[0mt\u001b[0m\u001b[0;34m(\u001b[0m\u001b[0;34m)\u001b[0m\u001b[0;34m)\u001b[0m\u001b[0;34m\u001b[0m\u001b[0;34m\u001b[0m\u001b[0m\n",
            "\u001b[0;31mRuntimeError\u001b[0m: mat1 dim 1 must match mat2 dim 0"
          ]
        }
      ]
    },
    {
      "cell_type": "code",
      "metadata": {
        "id": "TVBK7ddEUE2Z"
      },
      "source": [
        "# Autoencoder convolucional mejorado\r\n",
        "class DCVAE(nn.Module):\r\n",
        "    def __init__(self, image_channels=1, image_dim=image_size, hidden_size=hidden_size, latent_size=latent_size):\r\n",
        "      super(DCVAE, self).__init__()\r\n",
        "\r\n",
        "      self.encoder = nn.Sequential(\r\n",
        "        nn.Conv2d(image_channels, 32, 3, 2),\r\n",
        "        nn.BatchNormalization(),\r\n",
        "        nn.LeakyReLU(0.2),\r\n",
        "        nn.Dropout(rate = 0.25),\r\n",
        "        nn.Conv2d(32, 64, 3, 2),\r\n",
        "        nn.BatchNormalization(),\r\n",
        "        nn.LeakyReLU(0.2),\r\n",
        "        nn.Dropout(rate = 0.25),\r\n",
        "        nn.Conv2d(64, 64, 3, 2),\r\n",
        "        nn.BatchNormalization(),\r\n",
        "        nn.LeakyReLU(0.2),\r\n",
        "        nn.Dropout(rate = 0.25),\r\n",
        "        nn.Conv2d(64, 64, 3, 2),\r\n",
        "        nn.BatchNormalization(),\r\n",
        "        nn.LeakyReLU(0.2),\r\n",
        "        nn.Dropout(rate = 0.25),\r\n",
        "        Flatten(),\r\n",
        "    )\r\n",
        "      self.encoder_mean = nn.Linear(hidden_size, latent_size)\r\n",
        "      self.encoder_logvar = nn.Linear(hidden_size, latent_size)\r\n",
        "      self.fc = nn.Linear(latent_size, hidden_size)\r\n",
        "      self.decoder = nn.Sequential(\r\n",
        "                                UnFlatten(),\r\n",
        "                                nn.ConvTranspose2d(hidden_size, 128, 5, 2),\r\n",
        "                                nn.ReLU(),\r\n",
        "                                nn.ConvTranspose2d(128, 64, 5, 2),\r\n",
        "                                nn.ReLU(),\r\n",
        "                                nn.ConvTranspose2d(64, 32, 6, 2),\r\n",
        "                                nn.ReLU(),\r\n",
        "                                nn.ConvTranspose2d(32, image_channels, 6, 2),\r\n",
        "                                nn.Sigmoid()   \r\n",
        "                              )\r\n",
        "  \r\n",
        "    def sample(self, log_var, mean):\r\n",
        "      std = torch.exp(0.5*log_var)\r\n",
        "      eps = torch.randn_like(std)\r\n",
        "      return eps.mul(std).add_(mean)\r\n",
        "  \r\n",
        "    def forward(self, x):\r\n",
        "      x = self.encoder(x)\r\n",
        "      log_var = self.encoder_logvar(x)\r\n",
        "      mean = self.encoder_mean(x)\r\n",
        "      z = self.sample(log_var, mean)\r\n",
        "      x = self.fc(z)\r\n",
        "      x = self.decoder(x)\r\n",
        "\r\n",
        "      return x, mean, log_var"
      ],
      "execution_count": 280,
      "outputs": []
    },
    {
      "cell_type": "code",
      "metadata": {
        "id": "Q5gUCriD3Byg"
      },
      "source": [
        "vae = DCVAE().to(device)\r\n",
        "# vae = VAE().to(device)\r\n",
        "optimizer = optim.Adam(vae.parameters(), lr=lr)"
      ],
      "execution_count": 302,
      "outputs": []
    },
    {
      "cell_type": "code",
      "metadata": {
        "colab": {
          "base_uri": "https://localhost:8080/"
        },
        "id": "WsRq54y1gwbf",
        "outputId": "0c77b198-d707-46c9-da94-342aea7d7f59"
      },
      "source": [
        "!pip install torchsummary\r\n",
        "from torchsummary import summary\r\n",
        "summary(vae, input_size=(1, 64, 64))"
      ],
      "execution_count": 303,
      "outputs": [
        {
          "output_type": "stream",
          "text": [
            "Requirement already satisfied: torchsummary in /usr/local/lib/python3.7/dist-packages (1.5.1)\n",
            "----------------------------------------------------------------\n",
            "        Layer (type)               Output Shape         Param #\n",
            "================================================================\n",
            "            Conv2d-1           [-1, 32, 31, 31]             544\n",
            "         LeakyReLU-2           [-1, 32, 31, 31]               0\n",
            "            Conv2d-3           [-1, 64, 14, 14]          32,832\n",
            "         LeakyReLU-4           [-1, 64, 14, 14]               0\n",
            "            Conv2d-5            [-1, 128, 6, 6]         131,200\n",
            "         LeakyReLU-6            [-1, 128, 6, 6]               0\n",
            "            Conv2d-7            [-1, 256, 2, 2]         524,544\n",
            "         LeakyReLU-8            [-1, 256, 2, 2]               0\n",
            "           Flatten-9                 [-1, 1024]               0\n",
            "           Linear-10                  [-1, 256]         262,400\n",
            "           Linear-11                  [-1, 256]         262,400\n",
            "           Linear-12                 [-1, 1024]         263,168\n",
            "        UnFlatten-13           [-1, 1024, 1, 1]               0\n",
            "  ConvTranspose2d-14            [-1, 128, 5, 5]       3,276,928\n",
            "             ReLU-15            [-1, 128, 5, 5]               0\n",
            "  ConvTranspose2d-16           [-1, 64, 13, 13]         204,864\n",
            "             ReLU-17           [-1, 64, 13, 13]               0\n",
            "  ConvTranspose2d-18           [-1, 32, 30, 30]          73,760\n",
            "             ReLU-19           [-1, 32, 30, 30]               0\n",
            "  ConvTranspose2d-20            [-1, 1, 64, 64]           1,153\n",
            "          Sigmoid-21            [-1, 1, 64, 64]               0\n",
            "================================================================\n",
            "Total params: 5,033,793\n",
            "Trainable params: 5,033,793\n",
            "Non-trainable params: 0\n",
            "----------------------------------------------------------------\n",
            "Input size (MB): 0.02\n",
            "Forward/backward pass size (MB): 1.49\n",
            "Params size (MB): 19.20\n",
            "Estimated Total Size (MB): 20.71\n",
            "----------------------------------------------------------------\n"
          ],
          "name": "stdout"
        }
      ]
    },
    {
      "cell_type": "code",
      "metadata": {
        "colab": {
          "base_uri": "https://localhost:8080/"
        },
        "id": "Dv8l6yrK34x0",
        "outputId": "d6c8e0a0-7196-4d6e-ba7b-abb63cabdae9"
      },
      "source": [
        "vae.train()\r\n",
        "\r\n",
        "for epoch in range(epochs):\r\n",
        "  for i, images in enumerate(trainloader):\r\n",
        "    images = images.to(device)\r\n",
        "    optimizer.zero_grad()\r\n",
        "    reconstructed_image, mean, log_var = vae(images)\r\n",
        "    CE = F.binary_cross_entropy(reconstructed_image, images, reduction='sum')\r\n",
        "    # for VAE\r\n",
        "    # CE = F.binary_cross_entropy(\r\n",
        "    #             reconstructed_image, images.view(-1, input_size), reduction=\"sum\"\r\n",
        "    #         )\r\n",
        "    KLD = -0.5 * torch.sum(1 + log_var - mean.pow(2) - log_var.exp())\r\n",
        "    loss = CE + KLD\r\n",
        "    loss.backward()\r\n",
        "    train_loss.append(loss.item())\r\n",
        "    optimizer.step()\r\n",
        "\r\n",
        "    if(i % 100 == 0):\r\n",
        "      print(\"Loss:\")\r\n",
        "      print(loss.item() / len(images))"
      ],
      "execution_count": null,
      "outputs": [
        {
          "output_type": "stream",
          "text": [
            "Loss:\n",
            "3140.351806640625\n",
            "Loss:\n",
            "-38468.828125\n",
            "Loss:\n",
            "-47623.68359375\n",
            "Loss:\n",
            "-53748.43359375\n",
            "Loss:\n",
            "-56480.28125\n",
            "Loss:\n",
            "-42290.0\n",
            "Loss:\n",
            "-47725.8125\n",
            "Loss:\n",
            "-50821.72265625\n",
            "Loss:\n",
            "-52827.82421875\n",
            "Loss:\n",
            "-51878.62890625\n",
            "Loss:\n",
            "-49092.62109375\n",
            "Loss:\n",
            "-55179.296875\n",
            "Loss:\n",
            "-55271.2265625\n",
            "Loss:\n",
            "-48326.81640625\n",
            "Loss:\n",
            "-68038.375\n",
            "Loss:\n",
            "-58694.5625\n",
            "Loss:\n",
            "-64330.46484375\n",
            "Loss:\n",
            "-58049.8046875\n",
            "Loss:\n",
            "-65770.5390625\n",
            "Loss:\n",
            "-52711.05859375\n",
            "Loss:\n",
            "-63571.2734375\n",
            "Loss:\n",
            "-68896.953125\n",
            "Loss:\n",
            "-76929.484375\n",
            "Loss:\n",
            "-64177.125\n",
            "Loss:\n",
            "-78303.8671875\n",
            "Loss:\n",
            "-50861.48828125\n",
            "Loss:\n",
            "-66551.0703125\n",
            "Loss:\n",
            "-77984.7421875\n",
            "Loss:\n",
            "-69617.78125\n",
            "Loss:\n",
            "-72671.34375\n",
            "Loss:\n",
            "-68307.640625\n",
            "Loss:\n",
            "-71716.0078125\n",
            "Loss:\n",
            "-72892.5703125\n",
            "Loss:\n",
            "-72676.1328125\n",
            "Loss:\n",
            "-70152.1953125\n",
            "Loss:\n",
            "-70251.8046875\n",
            "Loss:\n",
            "-78913.8671875\n",
            "Loss:\n",
            "-77711.9140625\n",
            "Loss:\n",
            "-74375.3828125\n",
            "Loss:\n",
            "-70184.6171875\n",
            "Loss:\n",
            "-73820.0859375\n",
            "Loss:\n",
            "-72866.7890625\n",
            "Loss:\n",
            "-88796.8984375\n",
            "Loss:\n",
            "-78086.75\n",
            "Loss:\n",
            "-79294.8125\n",
            "Loss:\n",
            "-72967.796875\n",
            "Loss:\n",
            "-77427.03125\n",
            "Loss:\n",
            "-67213.9140625\n",
            "Loss:\n",
            "-89528.28125\n",
            "Loss:\n",
            "-74698.25\n",
            "Loss:\n",
            "-83300.9609375\n",
            "Loss:\n",
            "-84634.453125\n",
            "Loss:\n",
            "-78491.6796875\n",
            "Loss:\n",
            "-76903.5625\n",
            "Loss:\n",
            "-84129.5859375\n",
            "Loss:\n",
            "-77182.078125\n",
            "Loss:\n",
            "-80412.140625\n",
            "Loss:\n",
            "-85401.71875\n",
            "Loss:\n",
            "-81188.1484375\n",
            "Loss:\n",
            "-74831.4765625\n",
            "Loss:\n",
            "-89467.5625\n",
            "Loss:\n",
            "-81397.203125\n",
            "Loss:\n",
            "-96750.859375\n",
            "Loss:\n",
            "-95799.53125\n",
            "Loss:\n",
            "-79013.546875\n"
          ],
          "name": "stdout"
        }
      ]
    },
    {
      "cell_type": "code",
      "metadata": {
        "id": "xrDkDS4__fDX"
      },
      "source": [
        "plt.plot(train_loss)\r\n",
        "plt.show()"
      ],
      "execution_count": null,
      "outputs": []
    },
    {
      "cell_type": "code",
      "metadata": {
        "id": "VDcMkHH3BALD"
      },
      "source": [
        "#start = np.array([-1.8611,  0.3629, -0.1625,  0.6801,  1.2033,  1.0312,  0.5436,  1.3066,\r\n",
        "#0.2905,  0.1377,  0.5122, -0.1663,  2.3431, -0.0896, -0.5873, -1.4804,\r\n",
        "#0.8141, -1.2197,  0.0484,  0.6414, -0.8172, -0.9543, -0.8818, -1.1465,\r\n",
        "#0.2720,  1.1792,  1.8410, -0.4715,  1.4380,  0.5139,  1.2099, -0.5012])\r\n",
        "start = torch.randn(1,256)\r\n",
        "with torch.no_grad():\r\n",
        "  #z = torch.randn(1, 20)\r\n",
        "  # run only the decoder\r\n",
        "  z = torch.FloatTensor(start)\r\n",
        "  print(z.shape)\r\n",
        "  z = z.reshape((-1, 256))\r\n",
        "  z = z.to(device)\r\n",
        "  z = vae.fc(z)\r\n",
        "  generated_images = vae.decoder(z)\r\n",
        "  generated_images = generated_images.view(-1, 64, 64)\r\n",
        "  img = generated_images[0].cpu()\r\n",
        "  img = img / 2 + 0.5\r\n",
        "  plt.imshow(img, cmap='gray')"
      ],
      "execution_count": null,
      "outputs": []
    },
    {
      "cell_type": "code",
      "metadata": {
        "id": "Nc3-SPbQZI0-"
      },
      "source": [
        "torch.save(vae.state_dict(), ruta + '/vae1.pth')"
      ],
      "execution_count": null,
      "outputs": []
    },
    {
      "cell_type": "code",
      "metadata": {
        "colab": {
          "base_uri": "https://localhost:8080/"
        },
        "id": "KP72AiNeHVqr",
        "outputId": "b12f1b7b-b6aa-4042-ea82-eb4eafef5420"
      },
      "source": [
        "torch.randn(1,32)"
      ],
      "execution_count": 131,
      "outputs": [
        {
          "output_type": "execute_result",
          "data": {
            "text/plain": [
              "tensor([[ 0.8084, -1.0964, -1.6488,  1.0668,  1.7259,  1.6095, -1.0049, -0.9723,\n",
              "          0.6944, -0.8953, -0.4756, -1.1805, -2.0021,  0.7330,  0.9015, -1.3063,\n",
              "         -0.0941, -2.4286, -0.3798, -1.0591,  0.1618,  0.1782,  0.7836,  0.3604,\n",
              "         -1.1584,  0.3359,  0.5236, -0.4386, -0.9104, -2.1541, -0.0471,  0.3206]])"
            ]
          },
          "metadata": {
            "tags": []
          },
          "execution_count": 131
        }
      ]
    },
    {
      "cell_type": "code",
      "metadata": {
        "colab": {
          "base_uri": "https://localhost:8080/",
          "height": 231
        },
        "id": "2OBAkO2s_2IE",
        "outputId": "2fdbc511-d02f-4124-ffdc-3e7286ea57d2"
      },
      "source": [
        "vae.eval()\r\n",
        "start = np.array([-1.8611,  0.3629, -0.1625,  0.6801,  1.2033,  1.0312,  0.5436,  1.3066,\r\n",
        "         0.2905,  0.1377,  0.5122, -0.1663,  2.3431, -0.0896, -0.5873, -1.4804,\r\n",
        "         0.8141, -1.2197,  0.0484,  0.6414, -0.8172, -0.9543, -0.8818, -1.1465,\r\n",
        "         0.2720,  1.1792,  1.8410, -0.4715,  1.4380,  0.5139,  1.2099, -0.5012])\r\n",
        "middle = np.array([-0.4763, -0.4644, -0.3850,  0.6598,  0.9110,  0.4451,  0.4617, -0.0526,\r\n",
        "         0.2808,  0.6080,  0.5532, -1.5506, -0.5199,  0.1359,  0.0373,  0.4284,\r\n",
        "        -0.4134, -1.7078, -0.0309, -1.0195, -0.3151, -0.5569,  0.2832, -0.9132,\r\n",
        "        -1.1339, -1.3196,  2.1297,  0.8122,  0.6849, -0.6710, -0.3507, -0.9001])\r\n",
        "end = np.array([-1.6239,  0.2496, -1.0690, -0.8745,  0.4133,  2.2452, -0.2385, -0.6532,\r\n",
        "         0.3818, -0.9425,  0.9404,  1.3901, -0.3327, -0.3719, -0.0365,  0.3240,\r\n",
        "         0.4928, -0.4988, -1.2228, -0.1638,  0.6093, -0.5264, -1.6963, -0.3718,\r\n",
        "         2.1971,  0.2166, -0.0821, -0.1722, -0.1896, -1.6610, -0.1497,  1.0655])\r\n",
        "#points = 50\r\n",
        "#linfit = interpolate.interp1d([1, points/2, points], np.vstack([start, middle, end]), axis=0)\r\n",
        "with torch.no_grad():\r\n",
        "  for i in range(3):\r\n",
        "    z = linfit(i)\r\n",
        "    z = torch.FloatTensor(z)\r\n",
        "    print(z.shape)\r\n",
        "    z = z.reshape((-1, 32))\r\n",
        "    z = z.to(device)\r\n",
        "    z = vae.fc(z)\r\n",
        "    generated_images = vae.decoder(z)\r\n",
        "    generated_images = generated_images.view(-1, 64, 64)\r\n",
        "    img = generated_images[0].cpu()\r\n",
        "    plt.imshow(img)\r\n",
        "    img_name = images_dir + 'interpolate/' + str(i).zfill(3)\r\n",
        "    plt.savefig(img_name)\r\n",
        "    plt.show()"
      ],
      "execution_count": 82,
      "outputs": [
        {
          "output_type": "error",
          "ename": "NameError",
          "evalue": "ignored",
          "traceback": [
            "\u001b[0;31m---------------------------------------------------------------------------\u001b[0m",
            "\u001b[0;31mNameError\u001b[0m                                 Traceback (most recent call last)",
            "\u001b[0;32m<ipython-input-82-a30d41b487f1>\u001b[0m in \u001b[0;36m<module>\u001b[0;34m()\u001b[0m\n\u001b[1;32m     13\u001b[0m          2.1971,  0.2166, -0.0821, -0.1722, -0.1896, -1.6610, -0.1497,  1.0655])\n\u001b[1;32m     14\u001b[0m \u001b[0mpoints\u001b[0m \u001b[0;34m=\u001b[0m \u001b[0;36m50\u001b[0m\u001b[0;34m\u001b[0m\u001b[0;34m\u001b[0m\u001b[0m\n\u001b[0;32m---> 15\u001b[0;31m \u001b[0mlinfit\u001b[0m \u001b[0;34m=\u001b[0m \u001b[0minterpolate\u001b[0m\u001b[0;34m.\u001b[0m\u001b[0minterp1d\u001b[0m\u001b[0;34m(\u001b[0m\u001b[0;34m[\u001b[0m\u001b[0;36m1\u001b[0m\u001b[0;34m,\u001b[0m \u001b[0mpoints\u001b[0m\u001b[0;34m/\u001b[0m\u001b[0;36m2\u001b[0m\u001b[0;34m,\u001b[0m \u001b[0mpoints\u001b[0m\u001b[0;34m]\u001b[0m\u001b[0;34m,\u001b[0m \u001b[0mnp\u001b[0m\u001b[0;34m.\u001b[0m\u001b[0mvstack\u001b[0m\u001b[0;34m(\u001b[0m\u001b[0;34m[\u001b[0m\u001b[0mstart\u001b[0m\u001b[0;34m,\u001b[0m \u001b[0mmiddle\u001b[0m\u001b[0;34m,\u001b[0m \u001b[0mend\u001b[0m\u001b[0;34m]\u001b[0m\u001b[0;34m)\u001b[0m\u001b[0;34m,\u001b[0m \u001b[0maxis\u001b[0m\u001b[0;34m=\u001b[0m\u001b[0;36m0\u001b[0m\u001b[0;34m)\u001b[0m\u001b[0;34m\u001b[0m\u001b[0;34m\u001b[0m\u001b[0m\n\u001b[0m\u001b[1;32m     16\u001b[0m \u001b[0;32mwith\u001b[0m \u001b[0mtorch\u001b[0m\u001b[0;34m.\u001b[0m\u001b[0mno_grad\u001b[0m\u001b[0;34m(\u001b[0m\u001b[0;34m)\u001b[0m\u001b[0;34m:\u001b[0m\u001b[0;34m\u001b[0m\u001b[0;34m\u001b[0m\u001b[0m\n\u001b[1;32m     17\u001b[0m   \u001b[0;32mfor\u001b[0m \u001b[0mi\u001b[0m \u001b[0;32min\u001b[0m \u001b[0mrange\u001b[0m\u001b[0;34m(\u001b[0m\u001b[0;36m2\u001b[0m\u001b[0;34m,\u001b[0m \u001b[0mpoints\u001b[0m\u001b[0;34m-\u001b[0m\u001b[0;36m1\u001b[0m\u001b[0;34m)\u001b[0m\u001b[0;34m:\u001b[0m\u001b[0;34m\u001b[0m\u001b[0;34m\u001b[0m\u001b[0m\n",
            "\u001b[0;31mNameError\u001b[0m: name 'interpolate' is not defined"
          ]
        }
      ]
    },
    {
      "cell_type": "code",
      "metadata": {
        "colab": {
          "base_uri": "https://localhost:8080/",
          "height": 319
        },
        "id": "HNwWfGtwiYk8",
        "outputId": "5088a26b-5f7e-4ac4-b1dc-cc20ec145d41"
      },
      "source": [
        "# Grab a sample image\r\n",
        "import random\r\n",
        "\r\n",
        "idx = random.randint(0,10)\r\n",
        "tensor = rsna_dataset[idx]\r\n",
        "print(tensor.shape)\r\n",
        "image = np.squeeze(tensor.numpy())\r\n",
        "print(image.shape)\r\n",
        "image = (image - np.min(image)) / (np.max(image) - np.min(image))\r\n",
        "#image = image.transpose((1, 2, 0))\r\n",
        "plt.imshow(image, cmap='gray')"
      ],
      "execution_count": 30,
      "outputs": [
        {
          "output_type": "stream",
          "text": [
            "torch.Size([1, 128, 128])\n",
            "(128, 128)\n"
          ],
          "name": "stdout"
        },
        {
          "output_type": "execute_result",
          "data": {
            "text/plain": [
              "<matplotlib.image.AxesImage at 0x7f917680c110>"
            ]
          },
          "metadata": {
            "tags": []
          },
          "execution_count": 30
        },
        {
          "output_type": "display_data",
          "data": {
            "image/png": "[encoded data removed]",
            "text/plain": [
              "<Figure size 432x288 with 1 Axes>"
            ]
          },
          "metadata": {
            "tags": [],
            "needs_background": "light"
          }
        }
      ]
    },
    {
      "cell_type": "code",
      "metadata": {
        "id": "GELkuPLVfYvB"
      },
      "source": [
        "batch_size = 16          # number of inputs in each batch\r\n",
        "epochs = 2               # times to run the model on complete data\r\n",
        "image_size = 128\r\n",
        "hidden_size = 1024        # hidden dimension\r\n",
        "latent_size = 32          # latent vector dimension\r\n",
        "lr = 1e-3                 # learning rate\r\n",
        "train_loss = []"
      ],
      "execution_count": 27,
      "outputs": []
    },
    {
      "cell_type": "code",
      "metadata": {
        "colab": {
          "base_uri": "https://localhost:8080/"
        },
        "id": "mAiwXz3pcRdl",
        "outputId": "f51d9918-9872-4b37-d2a9-32fd61541b50"
      },
      "source": [
        "class Autoencoder(nn.Module):\r\n",
        "    def __init__(self):\r\n",
        "        super(Autoencoder, self).__init__()\r\n",
        "        # encoder\r\n",
        "        self.enc1 = nn.Conv2d(\r\n",
        "            in_channels=1, out_channels=32, kernel_size=3\r\n",
        "        )\r\n",
        "        self.enc2 = nn.Conv2d(\r\n",
        "            in_channels=32, out_channels=64, kernel_size=3\r\n",
        "        )\r\n",
        "        self.enc3 = nn.Conv2d(\r\n",
        "            in_channels=64, out_channels=64, kernel_size=3\r\n",
        "        )\r\n",
        "        self.enc4 = nn.Conv2d(\r\n",
        "            in_channels=1, out_channels=8, kernel_size=3\r\n",
        "        )\r\n",
        "        # decoder \r\n",
        "        self.dec1 = nn.ConvTranspose2d(\r\n",
        "            in_channels=64, out_channels=64, kernel_size=3\r\n",
        "        )\r\n",
        "        self.dec2 = nn.ConvTranspose2d(\r\n",
        "            in_channels=8, out_channels=1, kernel_size=3\r\n",
        "        )\r\n",
        "        self.dec3 = nn.ConvTranspose2d(\r\n",
        "            in_channels=8, out_channels=1, kernel_size=3\r\n",
        "        )\r\n",
        "        self.dec4 = nn.ConvTranspose2d(\r\n",
        "            in_channels=8, out_channels=1, kernel_size=3\r\n",
        "        )\r\n",
        "    def forward(self, x):\r\n",
        "        x = F.relu(self.enc1(x))\r\n",
        "        x = F.relu(self.enc2(x))\r\n",
        "        x = F.relu(self.enc3(x))\r\n",
        "        x = F.relu(self.enc4(x))\r\n",
        "        x = F.relu(self.dec1(x))\r\n",
        "        x = F.relu(self.dec2(x))\r\n",
        "        x = F.relu(self.dec3(x))\r\n",
        "        x = F.relu(self.dec4(x))\r\n",
        "        return x\r\n",
        "\r\n",
        "model = Autoencoder().to(device)\r\n",
        "print(model)\r\n"
      ],
      "execution_count": 46,
      "outputs": [
        {
          "output_type": "stream",
          "text": [
            "Autoencoder(\n",
            "  (enc1): Conv2d(1, 32, kernel_size=(3, 3), stride=(1, 1))\n",
            "  (enc2): Conv2d(32, 64, kernel_size=(3, 3), stride=(1, 1))\n",
            "  (enc3): Conv2d(64, 64, kernel_size=(3, 3), stride=(1, 1))\n",
            "  (enc4): Conv2d(1, 8, kernel_size=(3, 3), stride=(1, 1))\n",
            "  (dec1): ConvTranspose2d(64, 64, kernel_size=(3, 3), stride=(1, 1))\n",
            "  (dec2): ConvTranspose2d(8, 1, kernel_size=(3, 3), stride=(1, 1))\n",
            "  (dec3): ConvTranspose2d(8, 1, kernel_size=(3, 3), stride=(1, 1))\n",
            "  (dec4): ConvTranspose2d(8, 1, kernel_size=(3, 3), stride=(1, 1))\n",
            ")\n"
          ],
          "name": "stdout"
        }
      ]
    },
    {
      "cell_type": "code",
      "metadata": {
        "id": "4dY3yw2KhnVd"
      },
      "source": [
        "kernel_size = 3 # (3, 3) kernel\r\n",
        "init_channels = 8 # initial number of filters\r\n",
        "image_channels = 1 # MNIST images are grayscale\r\n",
        "latent_dim = 16 # latent dimension for sampling"
      ],
      "execution_count": null,
      "outputs": []
    },
    {
      "cell_type": "code",
      "metadata": {
        "id": "22uJB5IVhcVY"
      },
      "source": [
        "# define a Conv VAE\r\n",
        "class ConvVAE(nn.Module):\r\n",
        "    def __init__(self):\r\n",
        "        super(ConvVAE, self).__init__()\r\n",
        " \r\n",
        "        # encoder\r\n",
        "        self.enc1 = nn.Conv2d(\r\n",
        "            in_channels=image_channels, out_channels=init_channels, kernel_size=kernel_size, \r\n",
        "            stride=2, padding=1\r\n",
        "        )\r\n",
        "        self.enc2 = nn.Conv2d(\r\n",
        "            in_channels=init_channels, out_channels=init_channels*2, kernel_size=kernel_size, \r\n",
        "            stride=2, padding=1\r\n",
        "        )\r\n",
        "        self.enc3 = nn.Conv2d(\r\n",
        "            in_channels=init_channels*2, out_channels=init_channels*4, kernel_size=kernel_size, \r\n",
        "            stride=2, padding=1\r\n",
        "        )\r\n",
        "        self.enc4 = nn.Conv2d(\r\n",
        "            in_channels=init_channels*4, out_channels=init_channels*8, kernel_size=kernel_size, \r\n",
        "            stride=2, padding=0\r\n",
        "        )\r\n",
        "        # fully connected layers for learning representations\r\n",
        "        self.fc1 = nn.Linear(64, 128)\r\n",
        "        self.fc_mu = nn.Linear(128, latent_dim)\r\n",
        "        self.fc_log_var = nn.Linear(128, latent_dim)\r\n",
        "        self.fc2 = nn.Linear(latent_dim, 64)\r\n",
        "        # decoder \r\n",
        "        self.dec1 = nn.ConvTranspose2d(\r\n",
        "            in_channels=64, out_channels=init_channels*8, kernel_size=kernel_size, \r\n",
        "            stride=1, padding=0\r\n",
        "        )\r\n",
        "        self.dec2 = nn.ConvTranspose2d(\r\n",
        "            in_channels=init_channels*8, out_channels=init_channels*4, kernel_size=kernel_size, \r\n",
        "            stride=2, padding=1\r\n",
        "        )\r\n",
        "        self.dec3 = nn.ConvTranspose2d(\r\n",
        "            in_channels=init_channels*4, out_channels=init_channels*2, kernel_size=kernel_size, \r\n",
        "            stride=2, padding=1\r\n",
        "        )\r\n",
        "        self.dec4 = nn.ConvTranspose2d(\r\n",
        "            in_channels=init_channels*2, out_channels=image_channels, kernel_size=kernel_size, \r\n",
        "            stride=2, padding=1\r\n",
        "        )\r\n",
        "    def reparameterize(self, mu, log_var):\r\n",
        "        \"\"\"\r\n",
        "        :param mu: mean from the encoder's latent space\r\n",
        "        :param log_var: log variance from the encoder's latent space\r\n",
        "        \"\"\"\r\n",
        "        std = torch.exp(0.5*log_var) # standard deviation\r\n",
        "        eps = torch.randn_like(std) # `randn_like` as we need the same size\r\n",
        "        sample = mu + (eps * std) # sampling\r\n",
        "        return sample\r\n",
        " \r\n",
        "    def forward(self, x):\r\n",
        "        # encoding\r\n",
        "        x = F.relu(self.enc1(x))\r\n",
        "        x = F.relu(self.enc2(x))\r\n",
        "        x = F.relu(self.enc3(x))\r\n",
        "        x = F.relu(self.enc4(x))\r\n",
        "        batch, _, _, _ = x.shape\r\n",
        "        x = F.adaptive_avg_pool2d(x, 1).reshape(batch, -1)\r\n",
        "        hidden = self.fc1(x)\r\n",
        "        # get `mu` and `log_var`\r\n",
        "        mu = self.fc_mu(hidden)\r\n",
        "        log_var = self.fc_log_var(hidden)\r\n",
        "        # get the latent vector through reparameterization\r\n",
        "        z = self.reparameterize(mu, log_var)\r\n",
        "        z = self.fc2(z)\r\n",
        "        z = z.view(-1, 64, 1, 1)\r\n",
        " \r\n",
        "        # decoding\r\n",
        "        x = F.relu(self.dec1(z))\r\n",
        "        x = F.relu(self.dec2(x))\r\n",
        "        x = F.relu(self.dec3(x))\r\n",
        "        reconstruction = torch.sigmoid(self.dec4(x))\r\n",
        "        return reconstruction, mu, log_var\r\n"
      ],
      "execution_count": null,
      "outputs": []
    },
    {
      "cell_type": "code",
      "metadata": {
        "id": "vdtsO2qIhl_i"
      },
      "source": [
        "# initialize the model\r\n",
        "model = ConvVAE().to(device)\r\n",
        "# set the learning parameters\r\n",
        "lr = 0.001\r\n",
        "epochs = 2\r\n",
        "batch_size = 16\r\n",
        "optimizer = optim.Adam(model.parameters(), lr=lr)\r\n",
        "criterion = nn.BCELoss(reduction='sum')\r\n",
        "# a list to save all the reconstructed images in PyTorch grid format\r\n",
        "grid_images = []"
      ],
      "execution_count": null,
      "outputs": []
    },
    {
      "cell_type": "code",
      "metadata": {
        "id": "ybYS2FAVmYXF"
      },
      "source": [
        "from tqdm import tqdm\r\n",
        "import torch \r\n",
        "def final_loss(bce_loss, mu, logvar):\r\n",
        "    \"\"\"\r\n",
        "    This function will add the reconstruction loss (BCELoss) and the \r\n",
        "    KL-Divergence.\r\n",
        "    KL-Divergence = 0.5 * sum(1 + log(sigma^2) - mu^2 - sigma^2)\r\n",
        "    :param bce_loss: recontruction loss\r\n",
        "    :param mu: the mean from the latent vector\r\n",
        "    :param logvar: log variance from the latent vector\r\n",
        "    \"\"\"\r\n",
        "    BCE = bce_loss \r\n",
        "    KLD = -0.5 * torch.sum(1 + logvar - mu.pow(2) - logvar.exp())\r\n",
        "    return BCE + KLD"
      ],
      "execution_count": null,
      "outputs": []
    },
    {
      "cell_type": "code",
      "metadata": {
        "id": "KeEyOJmtmLdS"
      },
      "source": [
        "def train(model, dataloader, dataset, device, optimizer, criterion):\r\n",
        "    model.train()\r\n",
        "    running_loss = 0.0\r\n",
        "    counter = 0\r\n",
        "    for i, data in tqdm(enumerate(dataloader), total=int(len(dataset)/dataloader.batch_size)):\r\n",
        "        counter += 1\r\n",
        "        data = data[0]\r\n",
        "        data = data.to(device)\r\n",
        "        optimizer.zero_grad()\r\n",
        "        reconstruction, mu, logvar = model(data)\r\n",
        "        bce_loss = criterion(reconstruction, data)\r\n",
        "        loss = final_loss(bce_loss, mu, logvar)\r\n",
        "        loss.backward()\r\n",
        "        running_loss += loss.item()\r\n",
        "        optimizer.step()\r\n",
        "    train_loss = running_loss / counter \r\n",
        "    return train_loss"
      ],
      "execution_count": null,
      "outputs": []
    },
    {
      "cell_type": "code",
      "metadata": {
        "colab": {
          "base_uri": "https://localhost:8080/"
        },
        "id": "EtkiEgLZp56A",
        "outputId": "94e09b19-1e4c-4e9d-8a6e-82939cc46e33"
      },
      "source": [
        "len(rsna_dataset)"
      ],
      "execution_count": null,
      "outputs": [
        {
          "output_type": "execute_result",
          "data": {
            "text/plain": [
              "7214"
            ]
          },
          "metadata": {
            "tags": []
          },
          "execution_count": 39
        }
      ]
    },
    {
      "cell_type": "code",
      "metadata": {
        "colab": {
          "base_uri": "https://localhost:8080/",
          "height": 408
        },
        "id": "JLkVHEQuj47f",
        "outputId": "34ffce04-6163-4033-d2b9-406dd40ec58b"
      },
      "source": [
        "train_loss = []\r\n",
        "valid_loss = []\r\n",
        "for epoch in range(epochs):\r\n",
        "    print(f\"Epoch {epoch+1} of {epochs}\")\r\n",
        "    train_epoch_loss = train(\r\n",
        "        model, trainloader, rsna_dataset, device, optimizer, criterion\r\n",
        "    )\r\n",
        "    valid_epoch_loss, recon_images = validate(\r\n",
        "        model, trainloader, rsna_dataset, device, criterion\r\n",
        "    )\r\n",
        "    train_loss.append(train_epoch_loss)\r\n",
        "    valid_loss.append(valid_epoch_loss)\r\n",
        "    # save the reconstructed images from the validation loop\r\n",
        "    save_reconstructed_images(recon_images, epoch+1)\r\n",
        "    # convert the reconstructed images to PyTorch image grid format\r\n",
        "    image_grid = make_grid(recon_images.detach().cpu())\r\n",
        "    grid_images.append(image_grid)\r\n",
        "    print(f\"Train Loss: {train_epoch_loss:.4f}\")\r\n",
        "    print(f\"Val Loss: {valid_epoch_loss:.4f}\")"
      ],
      "execution_count": null,
      "outputs": [
        {
          "output_type": "stream",
          "text": [
            "\r  0%|          | 0/450 [00:00<?, ?it/s]"
          ],
          "name": "stderr"
        },
        {
          "output_type": "stream",
          "text": [
            "Epoch 1 of 2\n"
          ],
          "name": "stdout"
        },
        {
          "output_type": "stream",
          "text": [
            "\r  0%|          | 0/450 [00:05<?, ?it/s]\n"
          ],
          "name": "stderr"
        },
        {
          "output_type": "error",
          "ename": "RuntimeError",
          "evalue": "ignored",
          "traceback": [
            "\u001b[0;31m---------------------------------------------------------------------------\u001b[0m",
            "\u001b[0;31mRuntimeError\u001b[0m                              Traceback (most recent call last)",
            "\u001b[0;32m<ipython-input-40-0aab5402fd08>\u001b[0m in \u001b[0;36m<module>\u001b[0;34m()\u001b[0m\n\u001b[1;32m      4\u001b[0m     \u001b[0mprint\u001b[0m\u001b[0;34m(\u001b[0m\u001b[0;34mf\"Epoch {epoch+1} of {epochs}\"\u001b[0m\u001b[0;34m)\u001b[0m\u001b[0;34m\u001b[0m\u001b[0;34m\u001b[0m\u001b[0m\n\u001b[1;32m      5\u001b[0m     train_epoch_loss = train(\n\u001b[0;32m----> 6\u001b[0;31m         \u001b[0mmodel\u001b[0m\u001b[0;34m,\u001b[0m \u001b[0mtrainloader\u001b[0m\u001b[0;34m,\u001b[0m \u001b[0mrsna_dataset\u001b[0m\u001b[0;34m,\u001b[0m \u001b[0mdevice\u001b[0m\u001b[0;34m,\u001b[0m \u001b[0moptimizer\u001b[0m\u001b[0;34m,\u001b[0m \u001b[0mcriterion\u001b[0m\u001b[0;34m\u001b[0m\u001b[0;34m\u001b[0m\u001b[0m\n\u001b[0m\u001b[1;32m      7\u001b[0m     )\n\u001b[1;32m      8\u001b[0m     valid_epoch_loss, recon_images = validate(\n",
            "\u001b[0;32m<ipython-input-35-46127bb0e169>\u001b[0m in \u001b[0;36mtrain\u001b[0;34m(model, dataloader, dataset, device, optimizer, criterion)\u001b[0m\n\u001b[1;32m      8\u001b[0m         \u001b[0mdata\u001b[0m \u001b[0;34m=\u001b[0m \u001b[0mdata\u001b[0m\u001b[0;34m.\u001b[0m\u001b[0mto\u001b[0m\u001b[0;34m(\u001b[0m\u001b[0mdevice\u001b[0m\u001b[0;34m)\u001b[0m\u001b[0;34m\u001b[0m\u001b[0;34m\u001b[0m\u001b[0m\n\u001b[1;32m      9\u001b[0m         \u001b[0moptimizer\u001b[0m\u001b[0;34m.\u001b[0m\u001b[0mzero_grad\u001b[0m\u001b[0;34m(\u001b[0m\u001b[0;34m)\u001b[0m\u001b[0;34m\u001b[0m\u001b[0;34m\u001b[0m\u001b[0m\n\u001b[0;32m---> 10\u001b[0;31m         \u001b[0mreconstruction\u001b[0m\u001b[0;34m,\u001b[0m \u001b[0mmu\u001b[0m\u001b[0;34m,\u001b[0m \u001b[0mlogvar\u001b[0m \u001b[0;34m=\u001b[0m \u001b[0mmodel\u001b[0m\u001b[0;34m(\u001b[0m\u001b[0mdata\u001b[0m\u001b[0;34m)\u001b[0m\u001b[0;34m\u001b[0m\u001b[0;34m\u001b[0m\u001b[0m\n\u001b[0m\u001b[1;32m     11\u001b[0m         \u001b[0mbce_loss\u001b[0m \u001b[0;34m=\u001b[0m \u001b[0mcriterion\u001b[0m\u001b[0;34m(\u001b[0m\u001b[0mreconstruction\u001b[0m\u001b[0;34m,\u001b[0m \u001b[0mdata\u001b[0m\u001b[0;34m)\u001b[0m\u001b[0;34m\u001b[0m\u001b[0;34m\u001b[0m\u001b[0m\n\u001b[1;32m     12\u001b[0m         \u001b[0mloss\u001b[0m \u001b[0;34m=\u001b[0m \u001b[0mfinal_loss\u001b[0m\u001b[0;34m(\u001b[0m\u001b[0mbce_loss\u001b[0m\u001b[0;34m,\u001b[0m \u001b[0mmu\u001b[0m\u001b[0;34m,\u001b[0m \u001b[0mlogvar\u001b[0m\u001b[0;34m)\u001b[0m\u001b[0;34m\u001b[0m\u001b[0;34m\u001b[0m\u001b[0m\n",
            "\u001b[0;32m/usr/local/lib/python3.7/dist-packages/torch/nn/modules/module.py\u001b[0m in \u001b[0;36m_call_impl\u001b[0;34m(self, *input, **kwargs)\u001b[0m\n\u001b[1;32m    725\u001b[0m             \u001b[0mresult\u001b[0m \u001b[0;34m=\u001b[0m \u001b[0mself\u001b[0m\u001b[0;34m.\u001b[0m\u001b[0m_slow_forward\u001b[0m\u001b[0;34m(\u001b[0m\u001b[0;34m*\u001b[0m\u001b[0minput\u001b[0m\u001b[0;34m,\u001b[0m \u001b[0;34m**\u001b[0m\u001b[0mkwargs\u001b[0m\u001b[0;34m)\u001b[0m\u001b[0;34m\u001b[0m\u001b[0;34m\u001b[0m\u001b[0m\n\u001b[1;32m    726\u001b[0m         \u001b[0;32melse\u001b[0m\u001b[0;34m:\u001b[0m\u001b[0;34m\u001b[0m\u001b[0;34m\u001b[0m\u001b[0m\n\u001b[0;32m--> 727\u001b[0;31m             \u001b[0mresult\u001b[0m \u001b[0;34m=\u001b[0m \u001b[0mself\u001b[0m\u001b[0;34m.\u001b[0m\u001b[0mforward\u001b[0m\u001b[0;34m(\u001b[0m\u001b[0;34m*\u001b[0m\u001b[0minput\u001b[0m\u001b[0;34m,\u001b[0m \u001b[0;34m**\u001b[0m\u001b[0mkwargs\u001b[0m\u001b[0;34m)\u001b[0m\u001b[0;34m\u001b[0m\u001b[0;34m\u001b[0m\u001b[0m\n\u001b[0m\u001b[1;32m    728\u001b[0m         for hook in itertools.chain(\n\u001b[1;32m    729\u001b[0m                 \u001b[0m_global_forward_hooks\u001b[0m\u001b[0;34m.\u001b[0m\u001b[0mvalues\u001b[0m\u001b[0;34m(\u001b[0m\u001b[0;34m)\u001b[0m\u001b[0;34m,\u001b[0m\u001b[0;34m\u001b[0m\u001b[0;34m\u001b[0m\u001b[0m\n",
            "\u001b[0;32m<ipython-input-26-473430cb3637>\u001b[0m in \u001b[0;36mforward\u001b[0;34m(self, x)\u001b[0m\n\u001b[1;32m     55\u001b[0m     \u001b[0;32mdef\u001b[0m \u001b[0mforward\u001b[0m\u001b[0;34m(\u001b[0m\u001b[0mself\u001b[0m\u001b[0;34m,\u001b[0m \u001b[0mx\u001b[0m\u001b[0;34m)\u001b[0m\u001b[0;34m:\u001b[0m\u001b[0;34m\u001b[0m\u001b[0;34m\u001b[0m\u001b[0m\n\u001b[1;32m     56\u001b[0m         \u001b[0;31m# encoding\u001b[0m\u001b[0;34m\u001b[0m\u001b[0;34m\u001b[0m\u001b[0;34m\u001b[0m\u001b[0m\n\u001b[0;32m---> 57\u001b[0;31m         \u001b[0mx\u001b[0m \u001b[0;34m=\u001b[0m \u001b[0mF\u001b[0m\u001b[0;34m.\u001b[0m\u001b[0mrelu\u001b[0m\u001b[0;34m(\u001b[0m\u001b[0mself\u001b[0m\u001b[0;34m.\u001b[0m\u001b[0menc1\u001b[0m\u001b[0;34m(\u001b[0m\u001b[0mx\u001b[0m\u001b[0;34m)\u001b[0m\u001b[0;34m)\u001b[0m\u001b[0;34m\u001b[0m\u001b[0;34m\u001b[0m\u001b[0m\n\u001b[0m\u001b[1;32m     58\u001b[0m         \u001b[0mx\u001b[0m \u001b[0;34m=\u001b[0m \u001b[0mF\u001b[0m\u001b[0;34m.\u001b[0m\u001b[0mrelu\u001b[0m\u001b[0;34m(\u001b[0m\u001b[0mself\u001b[0m\u001b[0;34m.\u001b[0m\u001b[0menc2\u001b[0m\u001b[0;34m(\u001b[0m\u001b[0mx\u001b[0m\u001b[0;34m)\u001b[0m\u001b[0;34m)\u001b[0m\u001b[0;34m\u001b[0m\u001b[0;34m\u001b[0m\u001b[0m\n\u001b[1;32m     59\u001b[0m         \u001b[0mx\u001b[0m \u001b[0;34m=\u001b[0m \u001b[0mF\u001b[0m\u001b[0;34m.\u001b[0m\u001b[0mrelu\u001b[0m\u001b[0;34m(\u001b[0m\u001b[0mself\u001b[0m\u001b[0;34m.\u001b[0m\u001b[0menc3\u001b[0m\u001b[0;34m(\u001b[0m\u001b[0mx\u001b[0m\u001b[0;34m)\u001b[0m\u001b[0;34m)\u001b[0m\u001b[0;34m\u001b[0m\u001b[0;34m\u001b[0m\u001b[0m\n",
            "\u001b[0;32m/usr/local/lib/python3.7/dist-packages/torch/nn/modules/module.py\u001b[0m in \u001b[0;36m_call_impl\u001b[0;34m(self, *input, **kwargs)\u001b[0m\n\u001b[1;32m    725\u001b[0m             \u001b[0mresult\u001b[0m \u001b[0;34m=\u001b[0m \u001b[0mself\u001b[0m\u001b[0;34m.\u001b[0m\u001b[0m_slow_forward\u001b[0m\u001b[0;34m(\u001b[0m\u001b[0;34m*\u001b[0m\u001b[0minput\u001b[0m\u001b[0;34m,\u001b[0m \u001b[0;34m**\u001b[0m\u001b[0mkwargs\u001b[0m\u001b[0;34m)\u001b[0m\u001b[0;34m\u001b[0m\u001b[0;34m\u001b[0m\u001b[0m\n\u001b[1;32m    726\u001b[0m         \u001b[0;32melse\u001b[0m\u001b[0;34m:\u001b[0m\u001b[0;34m\u001b[0m\u001b[0;34m\u001b[0m\u001b[0m\n\u001b[0;32m--> 727\u001b[0;31m             \u001b[0mresult\u001b[0m \u001b[0;34m=\u001b[0m \u001b[0mself\u001b[0m\u001b[0;34m.\u001b[0m\u001b[0mforward\u001b[0m\u001b[0;34m(\u001b[0m\u001b[0;34m*\u001b[0m\u001b[0minput\u001b[0m\u001b[0;34m,\u001b[0m \u001b[0;34m**\u001b[0m\u001b[0mkwargs\u001b[0m\u001b[0;34m)\u001b[0m\u001b[0;34m\u001b[0m\u001b[0;34m\u001b[0m\u001b[0m\n\u001b[0m\u001b[1;32m    728\u001b[0m         for hook in itertools.chain(\n\u001b[1;32m    729\u001b[0m                 \u001b[0m_global_forward_hooks\u001b[0m\u001b[0;34m.\u001b[0m\u001b[0mvalues\u001b[0m\u001b[0;34m(\u001b[0m\u001b[0;34m)\u001b[0m\u001b[0;34m,\u001b[0m\u001b[0;34m\u001b[0m\u001b[0;34m\u001b[0m\u001b[0m\n",
            "\u001b[0;32m/usr/local/lib/python3.7/dist-packages/torch/nn/modules/conv.py\u001b[0m in \u001b[0;36mforward\u001b[0;34m(self, input)\u001b[0m\n\u001b[1;32m    421\u001b[0m \u001b[0;34m\u001b[0m\u001b[0m\n\u001b[1;32m    422\u001b[0m     \u001b[0;32mdef\u001b[0m \u001b[0mforward\u001b[0m\u001b[0;34m(\u001b[0m\u001b[0mself\u001b[0m\u001b[0;34m,\u001b[0m \u001b[0minput\u001b[0m\u001b[0;34m:\u001b[0m \u001b[0mTensor\u001b[0m\u001b[0;34m)\u001b[0m \u001b[0;34m->\u001b[0m \u001b[0mTensor\u001b[0m\u001b[0;34m:\u001b[0m\u001b[0;34m\u001b[0m\u001b[0;34m\u001b[0m\u001b[0m\n\u001b[0;32m--> 423\u001b[0;31m         \u001b[0;32mreturn\u001b[0m \u001b[0mself\u001b[0m\u001b[0;34m.\u001b[0m\u001b[0m_conv_forward\u001b[0m\u001b[0;34m(\u001b[0m\u001b[0minput\u001b[0m\u001b[0;34m,\u001b[0m \u001b[0mself\u001b[0m\u001b[0;34m.\u001b[0m\u001b[0mweight\u001b[0m\u001b[0;34m)\u001b[0m\u001b[0;34m\u001b[0m\u001b[0;34m\u001b[0m\u001b[0m\n\u001b[0m\u001b[1;32m    424\u001b[0m \u001b[0;34m\u001b[0m\u001b[0m\n\u001b[1;32m    425\u001b[0m \u001b[0;32mclass\u001b[0m \u001b[0mConv3d\u001b[0m\u001b[0;34m(\u001b[0m\u001b[0m_ConvNd\u001b[0m\u001b[0;34m)\u001b[0m\u001b[0;34m:\u001b[0m\u001b[0;34m\u001b[0m\u001b[0;34m\u001b[0m\u001b[0m\n",
            "\u001b[0;32m/usr/local/lib/python3.7/dist-packages/torch/nn/modules/conv.py\u001b[0m in \u001b[0;36m_conv_forward\u001b[0;34m(self, input, weight)\u001b[0m\n\u001b[1;32m    418\u001b[0m                             _pair(0), self.dilation, self.groups)\n\u001b[1;32m    419\u001b[0m         return F.conv2d(input, weight, self.bias, self.stride,\n\u001b[0;32m--> 420\u001b[0;31m                         self.padding, self.dilation, self.groups)\n\u001b[0m\u001b[1;32m    421\u001b[0m \u001b[0;34m\u001b[0m\u001b[0m\n\u001b[1;32m    422\u001b[0m     \u001b[0;32mdef\u001b[0m \u001b[0mforward\u001b[0m\u001b[0;34m(\u001b[0m\u001b[0mself\u001b[0m\u001b[0;34m,\u001b[0m \u001b[0minput\u001b[0m\u001b[0;34m:\u001b[0m \u001b[0mTensor\u001b[0m\u001b[0;34m)\u001b[0m \u001b[0;34m->\u001b[0m \u001b[0mTensor\u001b[0m\u001b[0;34m:\u001b[0m\u001b[0;34m\u001b[0m\u001b[0;34m\u001b[0m\u001b[0m\n",
            "\u001b[0;31mRuntimeError\u001b[0m: Expected 4-dimensional input for 4-dimensional weight [32, 1, 3, 3], but got 3-dimensional input of size [1, 128, 128] instead"
          ]
        }
      ]
    },
    {
      "cell_type": "code",
      "metadata": {
        "id": "JhkXdpP7dCft"
      },
      "source": [
        "#Loss function\r\n",
        "criterion = nn.MSELoss() # BinaryCrossEntropy\r\n",
        "\r\n",
        "#Optimizer\r\n",
        "optimizer = torch.optim.Adam(model.parameters(), lr=0.001)"
      ],
      "execution_count": 48,
      "outputs": []
    },
    {
      "cell_type": "code",
      "metadata": {
        "colab": {
          "base_uri": "https://localhost:8080/",
          "height": 391
        },
        "id": "pQDA0Z-9dI6M",
        "outputId": "06e0b43a-aaeb-4968-e488-bef986b456a2"
      },
      "source": [
        "NUM_EPOCHS=2\r\n",
        "train_loss = []\r\n",
        "model.train()\r\n",
        "for epoch in range(NUM_EPOCHS):\r\n",
        "    running_loss = 0.0\r\n",
        "    for data in trainloader:\r\n",
        "        img = data # no need for the labels\r\n",
        "        print(img.shape)\r\n",
        "        img = img.to(device)\r\n",
        "        optimizer.zero_grad()\r\n",
        "        outputs = model(img)\r\n",
        "        loss = criterion(outputs, img)\r\n",
        "        loss.backward()\r\n",
        "        optimizer.step()\r\n",
        "        running_loss += loss.item()*img.size(0)\r\n",
        "        \r\n",
        "    loss = running_loss / len(trainloader)\r\n",
        "    train_loss.append(loss)\r\n",
        "    print('Epoch {} of {}, Train Loss: {:.3f}'.format(\r\n",
        "        epoch+1, NUM_EPOCHS, loss))"
      ],
      "execution_count": 49,
      "outputs": [
        {
          "output_type": "stream",
          "text": [
            "torch.Size([16, 1, 128, 128])\n"
          ],
          "name": "stdout"
        },
        {
          "output_type": "error",
          "ename": "RuntimeError",
          "evalue": "ignored",
          "traceback": [
            "\u001b[0;31m---------------------------------------------------------------------------\u001b[0m",
            "\u001b[0;31mRuntimeError\u001b[0m                              Traceback (most recent call last)",
            "\u001b[0;32m<ipython-input-49-e97732bfd4e8>\u001b[0m in \u001b[0;36m<module>\u001b[0;34m()\u001b[0m\n\u001b[1;32m      9\u001b[0m         \u001b[0mimg\u001b[0m \u001b[0;34m=\u001b[0m \u001b[0mimg\u001b[0m\u001b[0;34m.\u001b[0m\u001b[0mto\u001b[0m\u001b[0;34m(\u001b[0m\u001b[0mdevice\u001b[0m\u001b[0;34m)\u001b[0m\u001b[0;34m\u001b[0m\u001b[0;34m\u001b[0m\u001b[0m\n\u001b[1;32m     10\u001b[0m         \u001b[0moptimizer\u001b[0m\u001b[0;34m.\u001b[0m\u001b[0mzero_grad\u001b[0m\u001b[0;34m(\u001b[0m\u001b[0;34m)\u001b[0m\u001b[0;34m\u001b[0m\u001b[0;34m\u001b[0m\u001b[0m\n\u001b[0;32m---> 11\u001b[0;31m         \u001b[0moutputs\u001b[0m \u001b[0;34m=\u001b[0m \u001b[0mmodel\u001b[0m\u001b[0;34m(\u001b[0m\u001b[0mimg\u001b[0m\u001b[0;34m)\u001b[0m\u001b[0;34m\u001b[0m\u001b[0;34m\u001b[0m\u001b[0m\n\u001b[0m\u001b[1;32m     12\u001b[0m         \u001b[0mloss\u001b[0m \u001b[0;34m=\u001b[0m \u001b[0mcriterion\u001b[0m\u001b[0;34m(\u001b[0m\u001b[0moutputs\u001b[0m\u001b[0;34m,\u001b[0m \u001b[0mimg\u001b[0m\u001b[0;34m)\u001b[0m\u001b[0;34m\u001b[0m\u001b[0;34m\u001b[0m\u001b[0m\n\u001b[1;32m     13\u001b[0m         \u001b[0mloss\u001b[0m\u001b[0;34m.\u001b[0m\u001b[0mbackward\u001b[0m\u001b[0;34m(\u001b[0m\u001b[0;34m)\u001b[0m\u001b[0;34m\u001b[0m\u001b[0;34m\u001b[0m\u001b[0m\n",
            "\u001b[0;32m/usr/local/lib/python3.7/dist-packages/torch/nn/modules/module.py\u001b[0m in \u001b[0;36m_call_impl\u001b[0;34m(self, *input, **kwargs)\u001b[0m\n\u001b[1;32m    725\u001b[0m             \u001b[0mresult\u001b[0m \u001b[0;34m=\u001b[0m \u001b[0mself\u001b[0m\u001b[0;34m.\u001b[0m\u001b[0m_slow_forward\u001b[0m\u001b[0;34m(\u001b[0m\u001b[0;34m*\u001b[0m\u001b[0minput\u001b[0m\u001b[0;34m,\u001b[0m \u001b[0;34m**\u001b[0m\u001b[0mkwargs\u001b[0m\u001b[0;34m)\u001b[0m\u001b[0;34m\u001b[0m\u001b[0;34m\u001b[0m\u001b[0m\n\u001b[1;32m    726\u001b[0m         \u001b[0;32melse\u001b[0m\u001b[0;34m:\u001b[0m\u001b[0;34m\u001b[0m\u001b[0;34m\u001b[0m\u001b[0m\n\u001b[0;32m--> 727\u001b[0;31m             \u001b[0mresult\u001b[0m \u001b[0;34m=\u001b[0m \u001b[0mself\u001b[0m\u001b[0;34m.\u001b[0m\u001b[0mforward\u001b[0m\u001b[0;34m(\u001b[0m\u001b[0;34m*\u001b[0m\u001b[0minput\u001b[0m\u001b[0;34m,\u001b[0m \u001b[0;34m**\u001b[0m\u001b[0mkwargs\u001b[0m\u001b[0;34m)\u001b[0m\u001b[0;34m\u001b[0m\u001b[0;34m\u001b[0m\u001b[0m\n\u001b[0m\u001b[1;32m    728\u001b[0m         for hook in itertools.chain(\n\u001b[1;32m    729\u001b[0m                 \u001b[0m_global_forward_hooks\u001b[0m\u001b[0;34m.\u001b[0m\u001b[0mvalues\u001b[0m\u001b[0;34m(\u001b[0m\u001b[0;34m)\u001b[0m\u001b[0;34m,\u001b[0m\u001b[0;34m\u001b[0m\u001b[0;34m\u001b[0m\u001b[0m\n",
            "\u001b[0;32m<ipython-input-46-f1dc285cf2b1>\u001b[0m in \u001b[0;36mforward\u001b[0;34m(self, x)\u001b[0m\n\u001b[1;32m     32\u001b[0m         \u001b[0mx\u001b[0m \u001b[0;34m=\u001b[0m \u001b[0mF\u001b[0m\u001b[0;34m.\u001b[0m\u001b[0mrelu\u001b[0m\u001b[0;34m(\u001b[0m\u001b[0mself\u001b[0m\u001b[0;34m.\u001b[0m\u001b[0menc2\u001b[0m\u001b[0;34m(\u001b[0m\u001b[0mx\u001b[0m\u001b[0;34m)\u001b[0m\u001b[0;34m)\u001b[0m\u001b[0;34m\u001b[0m\u001b[0;34m\u001b[0m\u001b[0m\n\u001b[1;32m     33\u001b[0m         \u001b[0mx\u001b[0m \u001b[0;34m=\u001b[0m \u001b[0mF\u001b[0m\u001b[0;34m.\u001b[0m\u001b[0mrelu\u001b[0m\u001b[0;34m(\u001b[0m\u001b[0mself\u001b[0m\u001b[0;34m.\u001b[0m\u001b[0menc3\u001b[0m\u001b[0;34m(\u001b[0m\u001b[0mx\u001b[0m\u001b[0;34m)\u001b[0m\u001b[0;34m)\u001b[0m\u001b[0;34m\u001b[0m\u001b[0;34m\u001b[0m\u001b[0m\n\u001b[0;32m---> 34\u001b[0;31m         \u001b[0mx\u001b[0m \u001b[0;34m=\u001b[0m \u001b[0mF\u001b[0m\u001b[0;34m.\u001b[0m\u001b[0mrelu\u001b[0m\u001b[0;34m(\u001b[0m\u001b[0mself\u001b[0m\u001b[0;34m.\u001b[0m\u001b[0menc4\u001b[0m\u001b[0;34m(\u001b[0m\u001b[0mx\u001b[0m\u001b[0;34m)\u001b[0m\u001b[0;34m)\u001b[0m\u001b[0;34m\u001b[0m\u001b[0;34m\u001b[0m\u001b[0m\n\u001b[0m\u001b[1;32m     35\u001b[0m         \u001b[0mx\u001b[0m \u001b[0;34m=\u001b[0m \u001b[0mF\u001b[0m\u001b[0;34m.\u001b[0m\u001b[0mrelu\u001b[0m\u001b[0;34m(\u001b[0m\u001b[0mself\u001b[0m\u001b[0;34m.\u001b[0m\u001b[0mdec1\u001b[0m\u001b[0;34m(\u001b[0m\u001b[0mx\u001b[0m\u001b[0;34m)\u001b[0m\u001b[0;34m)\u001b[0m\u001b[0;34m\u001b[0m\u001b[0;34m\u001b[0m\u001b[0m\n\u001b[1;32m     36\u001b[0m         \u001b[0mx\u001b[0m \u001b[0;34m=\u001b[0m \u001b[0mF\u001b[0m\u001b[0;34m.\u001b[0m\u001b[0mrelu\u001b[0m\u001b[0;34m(\u001b[0m\u001b[0mself\u001b[0m\u001b[0;34m.\u001b[0m\u001b[0mdec2\u001b[0m\u001b[0;34m(\u001b[0m\u001b[0mx\u001b[0m\u001b[0;34m)\u001b[0m\u001b[0;34m)\u001b[0m\u001b[0;34m\u001b[0m\u001b[0;34m\u001b[0m\u001b[0m\n",
            "\u001b[0;32m/usr/local/lib/python3.7/dist-packages/torch/nn/modules/module.py\u001b[0m in \u001b[0;36m_call_impl\u001b[0;34m(self, *input, **kwargs)\u001b[0m\n\u001b[1;32m    725\u001b[0m             \u001b[0mresult\u001b[0m \u001b[0;34m=\u001b[0m \u001b[0mself\u001b[0m\u001b[0;34m.\u001b[0m\u001b[0m_slow_forward\u001b[0m\u001b[0;34m(\u001b[0m\u001b[0;34m*\u001b[0m\u001b[0minput\u001b[0m\u001b[0;34m,\u001b[0m \u001b[0;34m**\u001b[0m\u001b[0mkwargs\u001b[0m\u001b[0;34m)\u001b[0m\u001b[0;34m\u001b[0m\u001b[0;34m\u001b[0m\u001b[0m\n\u001b[1;32m    726\u001b[0m         \u001b[0;32melse\u001b[0m\u001b[0;34m:\u001b[0m\u001b[0;34m\u001b[0m\u001b[0;34m\u001b[0m\u001b[0m\n\u001b[0;32m--> 727\u001b[0;31m             \u001b[0mresult\u001b[0m \u001b[0;34m=\u001b[0m \u001b[0mself\u001b[0m\u001b[0;34m.\u001b[0m\u001b[0mforward\u001b[0m\u001b[0;34m(\u001b[0m\u001b[0;34m*\u001b[0m\u001b[0minput\u001b[0m\u001b[0;34m,\u001b[0m \u001b[0;34m**\u001b[0m\u001b[0mkwargs\u001b[0m\u001b[0;34m)\u001b[0m\u001b[0;34m\u001b[0m\u001b[0;34m\u001b[0m\u001b[0m\n\u001b[0m\u001b[1;32m    728\u001b[0m         for hook in itertools.chain(\n\u001b[1;32m    729\u001b[0m                 \u001b[0m_global_forward_hooks\u001b[0m\u001b[0;34m.\u001b[0m\u001b[0mvalues\u001b[0m\u001b[0;34m(\u001b[0m\u001b[0;34m)\u001b[0m\u001b[0;34m,\u001b[0m\u001b[0;34m\u001b[0m\u001b[0;34m\u001b[0m\u001b[0m\n",
            "\u001b[0;32m/usr/local/lib/python3.7/dist-packages/torch/nn/modules/conv.py\u001b[0m in \u001b[0;36mforward\u001b[0;34m(self, input)\u001b[0m\n\u001b[1;32m    421\u001b[0m \u001b[0;34m\u001b[0m\u001b[0m\n\u001b[1;32m    422\u001b[0m     \u001b[0;32mdef\u001b[0m \u001b[0mforward\u001b[0m\u001b[0;34m(\u001b[0m\u001b[0mself\u001b[0m\u001b[0;34m,\u001b[0m \u001b[0minput\u001b[0m\u001b[0;34m:\u001b[0m \u001b[0mTensor\u001b[0m\u001b[0;34m)\u001b[0m \u001b[0;34m->\u001b[0m \u001b[0mTensor\u001b[0m\u001b[0;34m:\u001b[0m\u001b[0;34m\u001b[0m\u001b[0;34m\u001b[0m\u001b[0m\n\u001b[0;32m--> 423\u001b[0;31m         \u001b[0;32mreturn\u001b[0m \u001b[0mself\u001b[0m\u001b[0;34m.\u001b[0m\u001b[0m_conv_forward\u001b[0m\u001b[0;34m(\u001b[0m\u001b[0minput\u001b[0m\u001b[0;34m,\u001b[0m \u001b[0mself\u001b[0m\u001b[0;34m.\u001b[0m\u001b[0mweight\u001b[0m\u001b[0;34m)\u001b[0m\u001b[0;34m\u001b[0m\u001b[0;34m\u001b[0m\u001b[0m\n\u001b[0m\u001b[1;32m    424\u001b[0m \u001b[0;34m\u001b[0m\u001b[0m\n\u001b[1;32m    425\u001b[0m \u001b[0;32mclass\u001b[0m \u001b[0mConv3d\u001b[0m\u001b[0;34m(\u001b[0m\u001b[0m_ConvNd\u001b[0m\u001b[0;34m)\u001b[0m\u001b[0;34m:\u001b[0m\u001b[0;34m\u001b[0m\u001b[0;34m\u001b[0m\u001b[0m\n",
            "\u001b[0;32m/usr/local/lib/python3.7/dist-packages/torch/nn/modules/conv.py\u001b[0m in \u001b[0;36m_conv_forward\u001b[0;34m(self, input, weight)\u001b[0m\n\u001b[1;32m    418\u001b[0m                             _pair(0), self.dilation, self.groups)\n\u001b[1;32m    419\u001b[0m         return F.conv2d(input, weight, self.bias, self.stride,\n\u001b[0;32m--> 420\u001b[0;31m                         self.padding, self.dilation, self.groups)\n\u001b[0m\u001b[1;32m    421\u001b[0m \u001b[0;34m\u001b[0m\u001b[0m\n\u001b[1;32m    422\u001b[0m     \u001b[0;32mdef\u001b[0m \u001b[0mforward\u001b[0m\u001b[0;34m(\u001b[0m\u001b[0mself\u001b[0m\u001b[0;34m,\u001b[0m \u001b[0minput\u001b[0m\u001b[0;34m:\u001b[0m \u001b[0mTensor\u001b[0m\u001b[0;34m)\u001b[0m \u001b[0;34m->\u001b[0m \u001b[0mTensor\u001b[0m\u001b[0;34m:\u001b[0m\u001b[0;34m\u001b[0m\u001b[0;34m\u001b[0m\u001b[0m\n",
            "\u001b[0;31mRuntimeError\u001b[0m: Given groups=1, weight of size [8, 1, 3, 3], expected input[16, 64, 122, 122] to have 1 channels, but got 64 channels instead"
          ]
        }
      ]
    },
    {
      "cell_type": "code",
      "metadata": {
        "colab": {
          "base_uri": "https://localhost:8080/"
        },
        "id": "mDE6hNfWdSSI",
        "outputId": "5d2daa33-6bc1-4012-d9b6-9b2ffc45f713"
      },
      "source": [
        "trainloader"
      ],
      "execution_count": null,
      "outputs": [
        {
          "output_type": "execute_result",
          "data": {
            "text/plain": [
              "<torch.utils.data.dataloader.DataLoader at 0x7fd5f4cea290>"
            ]
          },
          "metadata": {
            "tags": []
          },
          "execution_count": 90
        }
      ]
    },
    {
      "cell_type": "code",
      "metadata": {
        "colab": {
          "base_uri": "https://localhost:8080/"
        },
        "id": "WmSxSjLodoNh",
        "outputId": "7ea12f3a-b578-4082-e6cb-824bde393059"
      },
      "source": [
        "dataiter = iter(trainloader)\r\n",
        "dataiter.next().shape"
      ],
      "execution_count": null,
      "outputs": [
        {
          "output_type": "execute_result",
          "data": {
            "text/plain": [
              "torch.Size([32, 1, 128, 128])"
            ]
          },
          "metadata": {
            "tags": []
          },
          "execution_count": 138
        }
      ]
    },
    {
      "cell_type": "code",
      "metadata": {
        "id": "tKWzw84xdzJl"
      },
      "source": [
        "z = torch.randn(1, 20).to(device)\r\n",
        "# run only the decoder\r\n",
        "reconstructed_img = model.dec(z)\r\n",
        "#reconstructed_img = reconstructed_img.cpu().numpy()\r\n",
        "\r\n",
        "#output = model(images)\r\n",
        "#images = images.cpu().numpy()\r\n",
        "img = reconstructed_img.view(224, 224).data\r\n",
        "img = img.cpu().detach().numpy()\r\n",
        "#img = reconstructed_img .view(batch_size, 3, 32, 32)\r\n",
        "#img = img.cpu().detach().numpy()\r\n",
        "\r\n",
        "#output = output.view(batch_size, 3, 32, 32)\r\n",
        "#output = output.cpu().detach().numpy()\r\n",
        "#img = reconstructed_img.view(224, 224).data\r\n",
        "print(z.shape)\r\n",
        "print(img.shape)\r\n",
        "plt.imshow(img,cmap='gray')"
      ],
      "execution_count": null,
      "outputs": []
    },
    {
      "cell_type": "code",
      "metadata": {
        "colab": {
          "base_uri": "https://localhost:8080/",
          "height": 231
        },
        "id": "esPT0OUfuebx",
        "outputId": "30be4d52-13f0-46f9-b4fb-d03edc703958"
      },
      "source": [
        "# Fixed input for debugging\r\n",
        "fixed_x, _ = next(iter(trainloader))\r\n",
        "save_image(fixed_x, 'real_image.png')\r\n",
        "\r\n",
        "Image('real_image.png')"
      ],
      "execution_count": null,
      "outputs": [
        {
          "output_type": "error",
          "ename": "ValueError",
          "evalue": "ignored",
          "traceback": [
            "\u001b[0;31m---------------------------------------------------------------------------\u001b[0m",
            "\u001b[0;31mValueError\u001b[0m                                Traceback (most recent call last)",
            "\u001b[0;32m<ipython-input-41-8e0765d502f8>\u001b[0m in \u001b[0;36m<module>\u001b[0;34m()\u001b[0m\n\u001b[1;32m      1\u001b[0m \u001b[0;31m# Fixed input for debugging\u001b[0m\u001b[0;34m\u001b[0m\u001b[0;34m\u001b[0m\u001b[0;34m\u001b[0m\u001b[0m\n\u001b[0;32m----> 2\u001b[0;31m \u001b[0mfixed_x\u001b[0m\u001b[0;34m,\u001b[0m \u001b[0m_\u001b[0m \u001b[0;34m=\u001b[0m \u001b[0mnext\u001b[0m\u001b[0;34m(\u001b[0m\u001b[0miter\u001b[0m\u001b[0;34m(\u001b[0m\u001b[0mtrainloader\u001b[0m\u001b[0;34m)\u001b[0m\u001b[0;34m)\u001b[0m\u001b[0;34m\u001b[0m\u001b[0;34m\u001b[0m\u001b[0m\n\u001b[0m\u001b[1;32m      3\u001b[0m \u001b[0msave_image\u001b[0m\u001b[0;34m(\u001b[0m\u001b[0mfixed_x\u001b[0m\u001b[0;34m,\u001b[0m \u001b[0;34m'real_image.png'\u001b[0m\u001b[0;34m)\u001b[0m\u001b[0;34m\u001b[0m\u001b[0;34m\u001b[0m\u001b[0m\n\u001b[1;32m      4\u001b[0m \u001b[0;34m\u001b[0m\u001b[0m\n\u001b[1;32m      5\u001b[0m \u001b[0mImage\u001b[0m\u001b[0;34m(\u001b[0m\u001b[0;34m'real_image.png'\u001b[0m\u001b[0;34m)\u001b[0m\u001b[0;34m\u001b[0m\u001b[0;34m\u001b[0m\u001b[0m\n",
            "\u001b[0;31mValueError\u001b[0m: too many values to unpack (expected 2)"
          ]
        }
      ]
    },
    {
      "cell_type": "code",
      "metadata": {
        "id": "OrNnApI4uqhm"
      },
      "source": [
        "class Flatten(nn.Module):\r\n",
        "    def forward(self, input):\r\n",
        "        return input.view(input.size(0), -1)"
      ],
      "execution_count": 91,
      "outputs": []
    },
    {
      "cell_type": "code",
      "metadata": {
        "id": "mbLZ7TqgyClS"
      },
      "source": [
        "\r\n",
        "class UnFlatten(nn.Module):\r\n",
        "    def forward(self, input, size=1024):\r\n",
        "        return input.view(input.size(0), size, 1, 1)"
      ],
      "execution_count": 92,
      "outputs": []
    },
    {
      "cell_type": "code",
      "metadata": {
        "id": "rGqfRrztyGsj"
      },
      "source": [
        "class VAE(nn.Module):\r\n",
        "    def __init__(self, image_channels=3, h_dim=1024, z_dim=32):\r\n",
        "        super(VAE, self).__init__()\r\n",
        "        self.encoder = nn.Sequential(\r\n",
        "            nn.Conv2d(image_channels, 32, kernel_size=4, stride=2),\r\n",
        "            nn.ReLU(),\r\n",
        "            nn.Conv2d(32, 64, kernel_size=4, stride=2),\r\n",
        "            nn.ReLU(),\r\n",
        "            nn.Conv2d(64, 128, kernel_size=4, stride=2),\r\n",
        "            nn.ReLU(),\r\n",
        "            nn.Conv2d(128, 256, kernel_size=4, stride=2),\r\n",
        "            nn.ReLU(),\r\n",
        "            Flatten()\r\n",
        "        )\r\n",
        "        \r\n",
        "        self.fc1 = nn.Linear(h_dim, z_dim)\r\n",
        "        self.fc2 = nn.Linear(h_dim, z_dim)\r\n",
        "        self.fc3 = nn.Linear(z_dim, h_dim)\r\n",
        "        \r\n",
        "        self.decoder = nn.Sequential(\r\n",
        "            UnFlatten(),\r\n",
        "            nn.ConvTranspose2d(h_dim, 128, kernel_size=5, stride=2),\r\n",
        "            nn.ReLU(),\r\n",
        "            nn.ConvTranspose2d(128, 64, kernel_size=5, stride=2),\r\n",
        "            nn.ReLU(),\r\n",
        "            nn.ConvTranspose2d(64, 32, kernel_size=6, stride=2),\r\n",
        "            nn.ReLU(),\r\n",
        "            nn.ConvTranspose2d(32, image_channels, kernel_size=6, stride=2),\r\n",
        "            nn.Sigmoid(),\r\n",
        "        )\r\n",
        "        \r\n",
        "    def reparameterize(self, mu, logvar):\r\n",
        "        std = logvar.mul(0.5).exp_()\r\n",
        "        # return torch.normal(mu, std)\r\n",
        "        esp = torch.randn(*mu.size())\r\n",
        "        z = mu + std * esp\r\n",
        "        return z\r\n",
        "    \r\n",
        "    def bottleneck(self, h):\r\n",
        "        mu, logvar = self.fc1(h), self.fc2(h)\r\n",
        "        z = self.reparameterize(mu, logvar)\r\n",
        "        return z, mu, logvar\r\n",
        "\r\n",
        "    def encode(self, x):\r\n",
        "        h = self.encoder(x)\r\n",
        "        z, mu, logvar = self.bottleneck(h)\r\n",
        "        return z, mu, logvar\r\n",
        "\r\n",
        "    def decode(self, z):\r\n",
        "        z = self.fc3(z)\r\n",
        "        z = self.decoder(z)\r\n",
        "        return z\r\n",
        "\r\n",
        "    def forward(self, x):\r\n",
        "        z, mu, logvar = self.encode(x)\r\n",
        "        z = self.decode(z)\r\n",
        "        return z, mu, logvar\r\n"
      ],
      "execution_count": 93,
      "outputs": []
    },
    {
      "cell_type": "code",
      "metadata": {
        "id": "twdEdYbzyONs"
      },
      "source": [
        "\r\n",
        "model = VAE(image_channels=image_channels).to(device)"
      ],
      "execution_count": 95,
      "outputs": []
    },
    {
      "cell_type": "code",
      "metadata": {
        "id": "tp4INo9kyT_8"
      },
      "source": [
        "optimizer = optim.Adam(model.parameters(), lr=0.003)"
      ],
      "execution_count": 98,
      "outputs": []
    },
    {
      "cell_type": "code",
      "metadata": {
        "id": "CRj5jpL4ydAR"
      },
      "source": [
        "def loss_fn(recon_x, x, mu, logvar):\r\n",
        "    BCE = F.binary_cross_entropy(recon_x, x, size_average=False)\r\n",
        "    # BCE = F.mse_loss(recon_x, x, size_average=False)\r\n",
        "\r\n",
        "    # see Appendix B from VAE paper:\r\n",
        "    # Kingma and Welling. Auto-Encoding Variational Bayes. ICLR, 2014\r\n",
        "    # 0.5 * sum(1 + log(sigma^2) - mu^2 - sigma^2)\r\n",
        "    KLD = -0.5 * torch.mean(1 + logvar - mu.pow(2) - logvar.exp())\r\n",
        "\r\n",
        "    return BCE + KLD, BCE, KLD"
      ],
      "execution_count": 99,
      "outputs": []
    },
    {
      "cell_type": "code",
      "metadata": {
        "id": "QCAhmIHOzoFq"
      },
      "source": [
        "\r\n",
        "epochs = 2"
      ],
      "execution_count": 100,
      "outputs": []
    },
    {
      "cell_type": "code",
      "metadata": {
        "colab": {
          "base_uri": "https://localhost:8080/",
          "height": 374
        },
        "id": "GeCGSVI1zrcP",
        "outputId": "98bc01a4-e10c-4ed0-db60-768b018f845d"
      },
      "source": [
        "for epoch in range(epochs):\r\n",
        "    for idx, images in enumerate(trainloader):\r\n",
        "        recon_images, mu, logvar = model(images)\r\n",
        "        loss, bce, kld = loss_fn(recon_images, images, mu, logvar)\r\n",
        "        optimizer.zero_grad()\r\n",
        "        loss.backward()\r\n",
        "        optimizer.step()\r\n",
        "\r\n",
        "        to_print = \"Epoch[{}/{}] Loss: {:.3f} {:.3f} {:.3f}\".format(epoch+1, \r\n",
        "                                epochs, loss.data[0]/bs, bce.data[0]/bs, kld.data[0]/bs)\r\n",
        "        print(to_print)\r\n",
        "\r\n",
        "# notify to android when finished training\r\n",
        "notify(to_print, priority=1)\r\n",
        "\r\n",
        "torch.save(vae.state_dict(), 'vae.torch')"
      ],
      "execution_count": 103,
      "outputs": [
        {
          "output_type": "error",
          "ename": "RuntimeError",
          "evalue": "ignored",
          "traceback": [
            "\u001b[0;31m---------------------------------------------------------------------------\u001b[0m",
            "\u001b[0;31mRuntimeError\u001b[0m                              Traceback (most recent call last)",
            "\u001b[0;32m<ipython-input-103-f3b305764856>\u001b[0m in \u001b[0;36m<module>\u001b[0;34m()\u001b[0m\n\u001b[1;32m      1\u001b[0m \u001b[0;32mfor\u001b[0m \u001b[0mepoch\u001b[0m \u001b[0;32min\u001b[0m \u001b[0mrange\u001b[0m\u001b[0;34m(\u001b[0m\u001b[0mepochs\u001b[0m\u001b[0;34m)\u001b[0m\u001b[0;34m:\u001b[0m\u001b[0;34m\u001b[0m\u001b[0;34m\u001b[0m\u001b[0m\n\u001b[1;32m      2\u001b[0m     \u001b[0;32mfor\u001b[0m \u001b[0midx\u001b[0m\u001b[0;34m,\u001b[0m \u001b[0mimages\u001b[0m \u001b[0;32min\u001b[0m \u001b[0menumerate\u001b[0m\u001b[0;34m(\u001b[0m\u001b[0mtrainloader\u001b[0m\u001b[0;34m)\u001b[0m\u001b[0;34m:\u001b[0m\u001b[0;34m\u001b[0m\u001b[0;34m\u001b[0m\u001b[0m\n\u001b[0;32m----> 3\u001b[0;31m         \u001b[0mrecon_images\u001b[0m\u001b[0;34m,\u001b[0m \u001b[0mmu\u001b[0m\u001b[0;34m,\u001b[0m \u001b[0mlogvar\u001b[0m \u001b[0;34m=\u001b[0m \u001b[0mmodel\u001b[0m\u001b[0;34m(\u001b[0m\u001b[0mimages\u001b[0m\u001b[0;34m)\u001b[0m\u001b[0;34m\u001b[0m\u001b[0;34m\u001b[0m\u001b[0m\n\u001b[0m\u001b[1;32m      4\u001b[0m         \u001b[0mloss\u001b[0m\u001b[0;34m,\u001b[0m \u001b[0mbce\u001b[0m\u001b[0;34m,\u001b[0m \u001b[0mkld\u001b[0m \u001b[0;34m=\u001b[0m \u001b[0mloss_fn\u001b[0m\u001b[0;34m(\u001b[0m\u001b[0mrecon_images\u001b[0m\u001b[0;34m,\u001b[0m \u001b[0mimages\u001b[0m\u001b[0;34m,\u001b[0m \u001b[0mmu\u001b[0m\u001b[0;34m,\u001b[0m \u001b[0mlogvar\u001b[0m\u001b[0;34m)\u001b[0m\u001b[0;34m\u001b[0m\u001b[0;34m\u001b[0m\u001b[0m\n\u001b[1;32m      5\u001b[0m         \u001b[0moptimizer\u001b[0m\u001b[0;34m.\u001b[0m\u001b[0mzero_grad\u001b[0m\u001b[0;34m(\u001b[0m\u001b[0;34m)\u001b[0m\u001b[0;34m\u001b[0m\u001b[0;34m\u001b[0m\u001b[0m\n",
            "\u001b[0;32m/usr/local/lib/python3.7/dist-packages/torch/nn/modules/module.py\u001b[0m in \u001b[0;36m_call_impl\u001b[0;34m(self, *input, **kwargs)\u001b[0m\n\u001b[1;32m    725\u001b[0m             \u001b[0mresult\u001b[0m \u001b[0;34m=\u001b[0m \u001b[0mself\u001b[0m\u001b[0;34m.\u001b[0m\u001b[0m_slow_forward\u001b[0m\u001b[0;34m(\u001b[0m\u001b[0;34m*\u001b[0m\u001b[0minput\u001b[0m\u001b[0;34m,\u001b[0m \u001b[0;34m**\u001b[0m\u001b[0mkwargs\u001b[0m\u001b[0;34m)\u001b[0m\u001b[0;34m\u001b[0m\u001b[0;34m\u001b[0m\u001b[0m\n\u001b[1;32m    726\u001b[0m         \u001b[0;32melse\u001b[0m\u001b[0;34m:\u001b[0m\u001b[0;34m\u001b[0m\u001b[0;34m\u001b[0m\u001b[0m\n\u001b[0;32m--> 727\u001b[0;31m             \u001b[0mresult\u001b[0m \u001b[0;34m=\u001b[0m \u001b[0mself\u001b[0m\u001b[0;34m.\u001b[0m\u001b[0mforward\u001b[0m\u001b[0;34m(\u001b[0m\u001b[0;34m*\u001b[0m\u001b[0minput\u001b[0m\u001b[0;34m,\u001b[0m \u001b[0;34m**\u001b[0m\u001b[0mkwargs\u001b[0m\u001b[0;34m)\u001b[0m\u001b[0;34m\u001b[0m\u001b[0;34m\u001b[0m\u001b[0m\n\u001b[0m\u001b[1;32m    728\u001b[0m         for hook in itertools.chain(\n\u001b[1;32m    729\u001b[0m                 \u001b[0m_global_forward_hooks\u001b[0m\u001b[0;34m.\u001b[0m\u001b[0mvalues\u001b[0m\u001b[0;34m(\u001b[0m\u001b[0;34m)\u001b[0m\u001b[0;34m,\u001b[0m\u001b[0;34m\u001b[0m\u001b[0;34m\u001b[0m\u001b[0m\n",
            "\u001b[0;32m<ipython-input-93-2154d9937d70>\u001b[0m in \u001b[0;36mforward\u001b[0;34m(self, x)\u001b[0m\n\u001b[1;32m     53\u001b[0m \u001b[0;34m\u001b[0m\u001b[0m\n\u001b[1;32m     54\u001b[0m     \u001b[0;32mdef\u001b[0m \u001b[0mforward\u001b[0m\u001b[0;34m(\u001b[0m\u001b[0mself\u001b[0m\u001b[0;34m,\u001b[0m \u001b[0mx\u001b[0m\u001b[0;34m)\u001b[0m\u001b[0;34m:\u001b[0m\u001b[0;34m\u001b[0m\u001b[0;34m\u001b[0m\u001b[0m\n\u001b[0;32m---> 55\u001b[0;31m         \u001b[0mz\u001b[0m\u001b[0;34m,\u001b[0m \u001b[0mmu\u001b[0m\u001b[0;34m,\u001b[0m \u001b[0mlogvar\u001b[0m \u001b[0;34m=\u001b[0m \u001b[0mself\u001b[0m\u001b[0;34m.\u001b[0m\u001b[0mencode\u001b[0m\u001b[0;34m(\u001b[0m\u001b[0mx\u001b[0m\u001b[0;34m)\u001b[0m\u001b[0;34m\u001b[0m\u001b[0;34m\u001b[0m\u001b[0m\n\u001b[0m\u001b[1;32m     56\u001b[0m         \u001b[0mz\u001b[0m \u001b[0;34m=\u001b[0m \u001b[0mself\u001b[0m\u001b[0;34m.\u001b[0m\u001b[0mdecode\u001b[0m\u001b[0;34m(\u001b[0m\u001b[0mz\u001b[0m\u001b[0;34m)\u001b[0m\u001b[0;34m\u001b[0m\u001b[0;34m\u001b[0m\u001b[0m\n\u001b[1;32m     57\u001b[0m         \u001b[0;32mreturn\u001b[0m \u001b[0mz\u001b[0m\u001b[0;34m,\u001b[0m \u001b[0mmu\u001b[0m\u001b[0;34m,\u001b[0m \u001b[0mlogvar\u001b[0m\u001b[0;34m\u001b[0m\u001b[0;34m\u001b[0m\u001b[0m\n",
            "\u001b[0;32m<ipython-input-93-2154d9937d70>\u001b[0m in \u001b[0;36mencode\u001b[0;34m(self, x)\u001b[0m\n\u001b[1;32m     43\u001b[0m \u001b[0;34m\u001b[0m\u001b[0m\n\u001b[1;32m     44\u001b[0m     \u001b[0;32mdef\u001b[0m \u001b[0mencode\u001b[0m\u001b[0;34m(\u001b[0m\u001b[0mself\u001b[0m\u001b[0;34m,\u001b[0m \u001b[0mx\u001b[0m\u001b[0;34m)\u001b[0m\u001b[0;34m:\u001b[0m\u001b[0;34m\u001b[0m\u001b[0;34m\u001b[0m\u001b[0m\n\u001b[0;32m---> 45\u001b[0;31m         \u001b[0mh\u001b[0m \u001b[0;34m=\u001b[0m \u001b[0mself\u001b[0m\u001b[0;34m.\u001b[0m\u001b[0mencoder\u001b[0m\u001b[0;34m(\u001b[0m\u001b[0mx\u001b[0m\u001b[0;34m)\u001b[0m\u001b[0;34m\u001b[0m\u001b[0;34m\u001b[0m\u001b[0m\n\u001b[0m\u001b[1;32m     46\u001b[0m         \u001b[0mz\u001b[0m\u001b[0;34m,\u001b[0m \u001b[0mmu\u001b[0m\u001b[0;34m,\u001b[0m \u001b[0mlogvar\u001b[0m \u001b[0;34m=\u001b[0m \u001b[0mself\u001b[0m\u001b[0;34m.\u001b[0m\u001b[0mbottleneck\u001b[0m\u001b[0;34m(\u001b[0m\u001b[0mh\u001b[0m\u001b[0;34m)\u001b[0m\u001b[0;34m\u001b[0m\u001b[0;34m\u001b[0m\u001b[0m\n\u001b[1;32m     47\u001b[0m         \u001b[0;32mreturn\u001b[0m \u001b[0mz\u001b[0m\u001b[0;34m,\u001b[0m \u001b[0mmu\u001b[0m\u001b[0;34m,\u001b[0m \u001b[0mlogvar\u001b[0m\u001b[0;34m\u001b[0m\u001b[0;34m\u001b[0m\u001b[0m\n",
            "\u001b[0;32m/usr/local/lib/python3.7/dist-packages/torch/nn/modules/module.py\u001b[0m in \u001b[0;36m_call_impl\u001b[0;34m(self, *input, **kwargs)\u001b[0m\n\u001b[1;32m    725\u001b[0m             \u001b[0mresult\u001b[0m \u001b[0;34m=\u001b[0m \u001b[0mself\u001b[0m\u001b[0;34m.\u001b[0m\u001b[0m_slow_forward\u001b[0m\u001b[0;34m(\u001b[0m\u001b[0;34m*\u001b[0m\u001b[0minput\u001b[0m\u001b[0;34m,\u001b[0m \u001b[0;34m**\u001b[0m\u001b[0mkwargs\u001b[0m\u001b[0;34m)\u001b[0m\u001b[0;34m\u001b[0m\u001b[0;34m\u001b[0m\u001b[0m\n\u001b[1;32m    726\u001b[0m         \u001b[0;32melse\u001b[0m\u001b[0;34m:\u001b[0m\u001b[0;34m\u001b[0m\u001b[0;34m\u001b[0m\u001b[0m\n\u001b[0;32m--> 727\u001b[0;31m             \u001b[0mresult\u001b[0m \u001b[0;34m=\u001b[0m \u001b[0mself\u001b[0m\u001b[0;34m.\u001b[0m\u001b[0mforward\u001b[0m\u001b[0;34m(\u001b[0m\u001b[0;34m*\u001b[0m\u001b[0minput\u001b[0m\u001b[0;34m,\u001b[0m \u001b[0;34m**\u001b[0m\u001b[0mkwargs\u001b[0m\u001b[0;34m)\u001b[0m\u001b[0;34m\u001b[0m\u001b[0;34m\u001b[0m\u001b[0m\n\u001b[0m\u001b[1;32m    728\u001b[0m         for hook in itertools.chain(\n\u001b[1;32m    729\u001b[0m                 \u001b[0m_global_forward_hooks\u001b[0m\u001b[0;34m.\u001b[0m\u001b[0mvalues\u001b[0m\u001b[0;34m(\u001b[0m\u001b[0;34m)\u001b[0m\u001b[0;34m,\u001b[0m\u001b[0;34m\u001b[0m\u001b[0;34m\u001b[0m\u001b[0m\n",
            "\u001b[0;32m/usr/local/lib/python3.7/dist-packages/torch/nn/modules/container.py\u001b[0m in \u001b[0;36mforward\u001b[0;34m(self, input)\u001b[0m\n\u001b[1;32m    115\u001b[0m     \u001b[0;32mdef\u001b[0m \u001b[0mforward\u001b[0m\u001b[0;34m(\u001b[0m\u001b[0mself\u001b[0m\u001b[0;34m,\u001b[0m \u001b[0minput\u001b[0m\u001b[0;34m)\u001b[0m\u001b[0;34m:\u001b[0m\u001b[0;34m\u001b[0m\u001b[0;34m\u001b[0m\u001b[0m\n\u001b[1;32m    116\u001b[0m         \u001b[0;32mfor\u001b[0m \u001b[0mmodule\u001b[0m \u001b[0;32min\u001b[0m \u001b[0mself\u001b[0m\u001b[0;34m:\u001b[0m\u001b[0;34m\u001b[0m\u001b[0;34m\u001b[0m\u001b[0m\n\u001b[0;32m--> 117\u001b[0;31m             \u001b[0minput\u001b[0m \u001b[0;34m=\u001b[0m \u001b[0mmodule\u001b[0m\u001b[0;34m(\u001b[0m\u001b[0minput\u001b[0m\u001b[0;34m)\u001b[0m\u001b[0;34m\u001b[0m\u001b[0;34m\u001b[0m\u001b[0m\n\u001b[0m\u001b[1;32m    118\u001b[0m         \u001b[0;32mreturn\u001b[0m \u001b[0minput\u001b[0m\u001b[0;34m\u001b[0m\u001b[0;34m\u001b[0m\u001b[0m\n\u001b[1;32m    119\u001b[0m \u001b[0;34m\u001b[0m\u001b[0m\n",
            "\u001b[0;32m/usr/local/lib/python3.7/dist-packages/torch/nn/modules/module.py\u001b[0m in \u001b[0;36m_call_impl\u001b[0;34m(self, *input, **kwargs)\u001b[0m\n\u001b[1;32m    725\u001b[0m             \u001b[0mresult\u001b[0m \u001b[0;34m=\u001b[0m \u001b[0mself\u001b[0m\u001b[0;34m.\u001b[0m\u001b[0m_slow_forward\u001b[0m\u001b[0;34m(\u001b[0m\u001b[0;34m*\u001b[0m\u001b[0minput\u001b[0m\u001b[0;34m,\u001b[0m \u001b[0;34m**\u001b[0m\u001b[0mkwargs\u001b[0m\u001b[0;34m)\u001b[0m\u001b[0;34m\u001b[0m\u001b[0;34m\u001b[0m\u001b[0m\n\u001b[1;32m    726\u001b[0m         \u001b[0;32melse\u001b[0m\u001b[0;34m:\u001b[0m\u001b[0;34m\u001b[0m\u001b[0;34m\u001b[0m\u001b[0m\n\u001b[0;32m--> 727\u001b[0;31m             \u001b[0mresult\u001b[0m \u001b[0;34m=\u001b[0m \u001b[0mself\u001b[0m\u001b[0;34m.\u001b[0m\u001b[0mforward\u001b[0m\u001b[0;34m(\u001b[0m\u001b[0;34m*\u001b[0m\u001b[0minput\u001b[0m\u001b[0;34m,\u001b[0m \u001b[0;34m**\u001b[0m\u001b[0mkwargs\u001b[0m\u001b[0;34m)\u001b[0m\u001b[0;34m\u001b[0m\u001b[0;34m\u001b[0m\u001b[0m\n\u001b[0m\u001b[1;32m    728\u001b[0m         for hook in itertools.chain(\n\u001b[1;32m    729\u001b[0m                 \u001b[0m_global_forward_hooks\u001b[0m\u001b[0;34m.\u001b[0m\u001b[0mvalues\u001b[0m\u001b[0;34m(\u001b[0m\u001b[0;34m)\u001b[0m\u001b[0;34m,\u001b[0m\u001b[0;34m\u001b[0m\u001b[0;34m\u001b[0m\u001b[0m\n",
            "\u001b[0;32m/usr/local/lib/python3.7/dist-packages/torch/nn/modules/conv.py\u001b[0m in \u001b[0;36mforward\u001b[0;34m(self, input)\u001b[0m\n\u001b[1;32m    421\u001b[0m \u001b[0;34m\u001b[0m\u001b[0m\n\u001b[1;32m    422\u001b[0m     \u001b[0;32mdef\u001b[0m \u001b[0mforward\u001b[0m\u001b[0;34m(\u001b[0m\u001b[0mself\u001b[0m\u001b[0;34m,\u001b[0m \u001b[0minput\u001b[0m\u001b[0;34m:\u001b[0m \u001b[0mTensor\u001b[0m\u001b[0;34m)\u001b[0m \u001b[0;34m->\u001b[0m \u001b[0mTensor\u001b[0m\u001b[0;34m:\u001b[0m\u001b[0;34m\u001b[0m\u001b[0;34m\u001b[0m\u001b[0m\n\u001b[0;32m--> 423\u001b[0;31m         \u001b[0;32mreturn\u001b[0m \u001b[0mself\u001b[0m\u001b[0;34m.\u001b[0m\u001b[0m_conv_forward\u001b[0m\u001b[0;34m(\u001b[0m\u001b[0minput\u001b[0m\u001b[0;34m,\u001b[0m \u001b[0mself\u001b[0m\u001b[0;34m.\u001b[0m\u001b[0mweight\u001b[0m\u001b[0;34m)\u001b[0m\u001b[0;34m\u001b[0m\u001b[0;34m\u001b[0m\u001b[0m\n\u001b[0m\u001b[1;32m    424\u001b[0m \u001b[0;34m\u001b[0m\u001b[0m\n\u001b[1;32m    425\u001b[0m \u001b[0;32mclass\u001b[0m \u001b[0mConv3d\u001b[0m\u001b[0;34m(\u001b[0m\u001b[0m_ConvNd\u001b[0m\u001b[0;34m)\u001b[0m\u001b[0;34m:\u001b[0m\u001b[0;34m\u001b[0m\u001b[0;34m\u001b[0m\u001b[0m\n",
            "\u001b[0;32m/usr/local/lib/python3.7/dist-packages/torch/nn/modules/conv.py\u001b[0m in \u001b[0;36m_conv_forward\u001b[0;34m(self, input, weight)\u001b[0m\n\u001b[1;32m    418\u001b[0m                             _pair(0), self.dilation, self.groups)\n\u001b[1;32m    419\u001b[0m         return F.conv2d(input, weight, self.bias, self.stride,\n\u001b[0;32m--> 420\u001b[0;31m                         self.padding, self.dilation, self.groups)\n\u001b[0m\u001b[1;32m    421\u001b[0m \u001b[0;34m\u001b[0m\u001b[0m\n\u001b[1;32m    422\u001b[0m     \u001b[0;32mdef\u001b[0m \u001b[0mforward\u001b[0m\u001b[0;34m(\u001b[0m\u001b[0mself\u001b[0m\u001b[0;34m,\u001b[0m \u001b[0minput\u001b[0m\u001b[0;34m:\u001b[0m \u001b[0mTensor\u001b[0m\u001b[0;34m)\u001b[0m \u001b[0;34m->\u001b[0m \u001b[0mTensor\u001b[0m\u001b[0;34m:\u001b[0m\u001b[0;34m\u001b[0m\u001b[0;34m\u001b[0m\u001b[0m\n",
            "\u001b[0;31mRuntimeError\u001b[0m: Input type (torch.FloatTensor) and weight type (torch.cuda.FloatTensor) should be the same"
          ]
        }
      ]
    },
    {
      "cell_type": "code",
      "metadata": {
        "id": "JpS4HPfLz9Xc"
      },
      "source": [
        ""
      ],
      "execution_count": null,
      "outputs": []
    }
  ]
}